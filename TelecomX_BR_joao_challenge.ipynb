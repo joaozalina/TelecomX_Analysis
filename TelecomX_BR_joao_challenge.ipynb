{
  "cells": [
    {
      "cell_type": "markdown",
      "metadata": {
        "id": "view-in-github",
        "colab_type": "text"
      },
      "source": [
        "<a href=\"https://colab.research.google.com/github/joaozalina/TelecomX_Analysis/blob/main/TelecomX_BR_joao_challenge.ipynb\" target=\"_parent\"><img src=\"https://colab.research.google.com/assets/colab-badge.svg\" alt=\"Open In Colab\"/></a>"
      ]
    },
    {
      "cell_type": "markdown",
      "source": [
        "# EXTRAÇÃO DOS DADOS"
      ],
      "metadata": {
        "id": "AWVT4hcAiEfu"
      }
    },
    {
      "cell_type": "markdown",
      "source": [
        "## Importação das **bibliotecas**"
      ],
      "metadata": {
        "id": "Cd3Gx3q9Q2Qs"
      }
    },
    {
      "cell_type": "code",
      "source": [
        "import pandas as pd\n",
        "import numpy as np\n",
        "import seaborn as sns\n",
        "import matplotlib.pyplot as plt\n",
        "import plotly.express as px\n",
        "import plotly.graph_objects as go"
      ],
      "metadata": {
        "id": "AfP7kZ2QrgbG"
      },
      "execution_count": 1,
      "outputs": []
    },
    {
      "cell_type": "markdown",
      "source": [
        "### Importando os dados direto da ***API do Telecom X***"
      ],
      "metadata": {
        "id": "yzs1N64-RbBo"
      }
    },
    {
      "cell_type": "code",
      "source": [
        "url = 'https://raw.githubusercontent.com/ingridcristh/challenge2-data-science/refs/heads/main/TelecomX_Data.json'"
      ],
      "metadata": {
        "id": "-8veY9SYRqJN"
      },
      "execution_count": 2,
      "outputs": []
    },
    {
      "cell_type": "code",
      "source": [
        "telecomDF = pd.read_json(url)"
      ],
      "metadata": {
        "id": "-H1njImGR_cy"
      },
      "execution_count": 3,
      "outputs": []
    },
    {
      "cell_type": "code",
      "source": [
        "telecomDF.head()"
      ],
      "metadata": {
        "id": "Lw0PHYdeR_Oy",
        "colab": {
          "base_uri": "https://localhost:8080/",
          "height": 293
        },
        "outputId": "2ba4c503-c5f9-4336-8243-86817d9ccefe"
      },
      "execution_count": 4,
      "outputs": [
        {
          "output_type": "execute_result",
          "data": {
            "text/plain": [
              "   customerID Churn                                           customer  \\\n",
              "0  0002-ORFBO    No  {'gender': 'Female', 'SeniorCitizen': 0, 'Part...   \n",
              "1  0003-MKNFE    No  {'gender': 'Male', 'SeniorCitizen': 0, 'Partne...   \n",
              "2  0004-TLHLJ   Yes  {'gender': 'Male', 'SeniorCitizen': 0, 'Partne...   \n",
              "3  0011-IGKFF   Yes  {'gender': 'Male', 'SeniorCitizen': 1, 'Partne...   \n",
              "4  0013-EXCHZ   Yes  {'gender': 'Female', 'SeniorCitizen': 1, 'Part...   \n",
              "\n",
              "                                             phone  \\\n",
              "0   {'PhoneService': 'Yes', 'MultipleLines': 'No'}   \n",
              "1  {'PhoneService': 'Yes', 'MultipleLines': 'Yes'}   \n",
              "2   {'PhoneService': 'Yes', 'MultipleLines': 'No'}   \n",
              "3   {'PhoneService': 'Yes', 'MultipleLines': 'No'}   \n",
              "4   {'PhoneService': 'Yes', 'MultipleLines': 'No'}   \n",
              "\n",
              "                                            internet  \\\n",
              "0  {'InternetService': 'DSL', 'OnlineSecurity': '...   \n",
              "1  {'InternetService': 'DSL', 'OnlineSecurity': '...   \n",
              "2  {'InternetService': 'Fiber optic', 'OnlineSecu...   \n",
              "3  {'InternetService': 'Fiber optic', 'OnlineSecu...   \n",
              "4  {'InternetService': 'Fiber optic', 'OnlineSecu...   \n",
              "\n",
              "                                             account  \n",
              "0  {'Contract': 'One year', 'PaperlessBilling': '...  \n",
              "1  {'Contract': 'Month-to-month', 'PaperlessBilli...  \n",
              "2  {'Contract': 'Month-to-month', 'PaperlessBilli...  \n",
              "3  {'Contract': 'Month-to-month', 'PaperlessBilli...  \n",
              "4  {'Contract': 'Month-to-month', 'PaperlessBilli...  "
            ],
            "text/html": [
              "\n",
              "  <div id=\"df-e736a284-06c1-4adb-a3c7-dfcd45cf5526\" class=\"colab-df-container\">\n",
              "    <div>\n",
              "<style scoped>\n",
              "    .dataframe tbody tr th:only-of-type {\n",
              "        vertical-align: middle;\n",
              "    }\n",
              "\n",
              "    .dataframe tbody tr th {\n",
              "        vertical-align: top;\n",
              "    }\n",
              "\n",
              "    .dataframe thead th {\n",
              "        text-align: right;\n",
              "    }\n",
              "</style>\n",
              "<table border=\"1\" class=\"dataframe\">\n",
              "  <thead>\n",
              "    <tr style=\"text-align: right;\">\n",
              "      <th></th>\n",
              "      <th>customerID</th>\n",
              "      <th>Churn</th>\n",
              "      <th>customer</th>\n",
              "      <th>phone</th>\n",
              "      <th>internet</th>\n",
              "      <th>account</th>\n",
              "    </tr>\n",
              "  </thead>\n",
              "  <tbody>\n",
              "    <tr>\n",
              "      <th>0</th>\n",
              "      <td>0002-ORFBO</td>\n",
              "      <td>No</td>\n",
              "      <td>{'gender': 'Female', 'SeniorCitizen': 0, 'Part...</td>\n",
              "      <td>{'PhoneService': 'Yes', 'MultipleLines': 'No'}</td>\n",
              "      <td>{'InternetService': 'DSL', 'OnlineSecurity': '...</td>\n",
              "      <td>{'Contract': 'One year', 'PaperlessBilling': '...</td>\n",
              "    </tr>\n",
              "    <tr>\n",
              "      <th>1</th>\n",
              "      <td>0003-MKNFE</td>\n",
              "      <td>No</td>\n",
              "      <td>{'gender': 'Male', 'SeniorCitizen': 0, 'Partne...</td>\n",
              "      <td>{'PhoneService': 'Yes', 'MultipleLines': 'Yes'}</td>\n",
              "      <td>{'InternetService': 'DSL', 'OnlineSecurity': '...</td>\n",
              "      <td>{'Contract': 'Month-to-month', 'PaperlessBilli...</td>\n",
              "    </tr>\n",
              "    <tr>\n",
              "      <th>2</th>\n",
              "      <td>0004-TLHLJ</td>\n",
              "      <td>Yes</td>\n",
              "      <td>{'gender': 'Male', 'SeniorCitizen': 0, 'Partne...</td>\n",
              "      <td>{'PhoneService': 'Yes', 'MultipleLines': 'No'}</td>\n",
              "      <td>{'InternetService': 'Fiber optic', 'OnlineSecu...</td>\n",
              "      <td>{'Contract': 'Month-to-month', 'PaperlessBilli...</td>\n",
              "    </tr>\n",
              "    <tr>\n",
              "      <th>3</th>\n",
              "      <td>0011-IGKFF</td>\n",
              "      <td>Yes</td>\n",
              "      <td>{'gender': 'Male', 'SeniorCitizen': 1, 'Partne...</td>\n",
              "      <td>{'PhoneService': 'Yes', 'MultipleLines': 'No'}</td>\n",
              "      <td>{'InternetService': 'Fiber optic', 'OnlineSecu...</td>\n",
              "      <td>{'Contract': 'Month-to-month', 'PaperlessBilli...</td>\n",
              "    </tr>\n",
              "    <tr>\n",
              "      <th>4</th>\n",
              "      <td>0013-EXCHZ</td>\n",
              "      <td>Yes</td>\n",
              "      <td>{'gender': 'Female', 'SeniorCitizen': 1, 'Part...</td>\n",
              "      <td>{'PhoneService': 'Yes', 'MultipleLines': 'No'}</td>\n",
              "      <td>{'InternetService': 'Fiber optic', 'OnlineSecu...</td>\n",
              "      <td>{'Contract': 'Month-to-month', 'PaperlessBilli...</td>\n",
              "    </tr>\n",
              "  </tbody>\n",
              "</table>\n",
              "</div>\n",
              "    <div class=\"colab-df-buttons\">\n",
              "\n",
              "  <div class=\"colab-df-container\">\n",
              "    <button class=\"colab-df-convert\" onclick=\"convertToInteractive('df-e736a284-06c1-4adb-a3c7-dfcd45cf5526')\"\n",
              "            title=\"Convert this dataframe to an interactive table.\"\n",
              "            style=\"display:none;\">\n",
              "\n",
              "  <svg xmlns=\"http://www.w3.org/2000/svg\" height=\"24px\" viewBox=\"0 -960 960 960\">\n",
              "    <path d=\"M120-120v-720h720v720H120Zm60-500h600v-160H180v160Zm220 220h160v-160H400v160Zm0 220h160v-160H400v160ZM180-400h160v-160H180v160Zm440 0h160v-160H620v160ZM180-180h160v-160H180v160Zm440 0h160v-160H620v160Z\"/>\n",
              "  </svg>\n",
              "    </button>\n",
              "\n",
              "  <style>\n",
              "    .colab-df-container {\n",
              "      display:flex;\n",
              "      gap: 12px;\n",
              "    }\n",
              "\n",
              "    .colab-df-convert {\n",
              "      background-color: #E8F0FE;\n",
              "      border: none;\n",
              "      border-radius: 50%;\n",
              "      cursor: pointer;\n",
              "      display: none;\n",
              "      fill: #1967D2;\n",
              "      height: 32px;\n",
              "      padding: 0 0 0 0;\n",
              "      width: 32px;\n",
              "    }\n",
              "\n",
              "    .colab-df-convert:hover {\n",
              "      background-color: #E2EBFA;\n",
              "      box-shadow: 0px 1px 2px rgba(60, 64, 67, 0.3), 0px 1px 3px 1px rgba(60, 64, 67, 0.15);\n",
              "      fill: #174EA6;\n",
              "    }\n",
              "\n",
              "    .colab-df-buttons div {\n",
              "      margin-bottom: 4px;\n",
              "    }\n",
              "\n",
              "    [theme=dark] .colab-df-convert {\n",
              "      background-color: #3B4455;\n",
              "      fill: #D2E3FC;\n",
              "    }\n",
              "\n",
              "    [theme=dark] .colab-df-convert:hover {\n",
              "      background-color: #434B5C;\n",
              "      box-shadow: 0px 1px 3px 1px rgba(0, 0, 0, 0.15);\n",
              "      filter: drop-shadow(0px 1px 2px rgba(0, 0, 0, 0.3));\n",
              "      fill: #FFFFFF;\n",
              "    }\n",
              "  </style>\n",
              "\n",
              "    <script>\n",
              "      const buttonEl =\n",
              "        document.querySelector('#df-e736a284-06c1-4adb-a3c7-dfcd45cf5526 button.colab-df-convert');\n",
              "      buttonEl.style.display =\n",
              "        google.colab.kernel.accessAllowed ? 'block' : 'none';\n",
              "\n",
              "      async function convertToInteractive(key) {\n",
              "        const element = document.querySelector('#df-e736a284-06c1-4adb-a3c7-dfcd45cf5526');\n",
              "        const dataTable =\n",
              "          await google.colab.kernel.invokeFunction('convertToInteractive',\n",
              "                                                    [key], {});\n",
              "        if (!dataTable) return;\n",
              "\n",
              "        const docLinkHtml = 'Like what you see? Visit the ' +\n",
              "          '<a target=\"_blank\" href=https://colab.research.google.com/notebooks/data_table.ipynb>data table notebook</a>'\n",
              "          + ' to learn more about interactive tables.';\n",
              "        element.innerHTML = '';\n",
              "        dataTable['output_type'] = 'display_data';\n",
              "        await google.colab.output.renderOutput(dataTable, element);\n",
              "        const docLink = document.createElement('div');\n",
              "        docLink.innerHTML = docLinkHtml;\n",
              "        element.appendChild(docLink);\n",
              "      }\n",
              "    </script>\n",
              "  </div>\n",
              "\n",
              "\n",
              "    <div id=\"df-c7b882d5-e83c-48f6-952d-ed20cc98a104\">\n",
              "      <button class=\"colab-df-quickchart\" onclick=\"quickchart('df-c7b882d5-e83c-48f6-952d-ed20cc98a104')\"\n",
              "                title=\"Suggest charts\"\n",
              "                style=\"display:none;\">\n",
              "\n",
              "<svg xmlns=\"http://www.w3.org/2000/svg\" height=\"24px\"viewBox=\"0 0 24 24\"\n",
              "     width=\"24px\">\n",
              "    <g>\n",
              "        <path d=\"M19 3H5c-1.1 0-2 .9-2 2v14c0 1.1.9 2 2 2h14c1.1 0 2-.9 2-2V5c0-1.1-.9-2-2-2zM9 17H7v-7h2v7zm4 0h-2V7h2v10zm4 0h-2v-4h2v4z\"/>\n",
              "    </g>\n",
              "</svg>\n",
              "      </button>\n",
              "\n",
              "<style>\n",
              "  .colab-df-quickchart {\n",
              "      --bg-color: #E8F0FE;\n",
              "      --fill-color: #1967D2;\n",
              "      --hover-bg-color: #E2EBFA;\n",
              "      --hover-fill-color: #174EA6;\n",
              "      --disabled-fill-color: #AAA;\n",
              "      --disabled-bg-color: #DDD;\n",
              "  }\n",
              "\n",
              "  [theme=dark] .colab-df-quickchart {\n",
              "      --bg-color: #3B4455;\n",
              "      --fill-color: #D2E3FC;\n",
              "      --hover-bg-color: #434B5C;\n",
              "      --hover-fill-color: #FFFFFF;\n",
              "      --disabled-bg-color: #3B4455;\n",
              "      --disabled-fill-color: #666;\n",
              "  }\n",
              "\n",
              "  .colab-df-quickchart {\n",
              "    background-color: var(--bg-color);\n",
              "    border: none;\n",
              "    border-radius: 50%;\n",
              "    cursor: pointer;\n",
              "    display: none;\n",
              "    fill: var(--fill-color);\n",
              "    height: 32px;\n",
              "    padding: 0;\n",
              "    width: 32px;\n",
              "  }\n",
              "\n",
              "  .colab-df-quickchart:hover {\n",
              "    background-color: var(--hover-bg-color);\n",
              "    box-shadow: 0 1px 2px rgba(60, 64, 67, 0.3), 0 1px 3px 1px rgba(60, 64, 67, 0.15);\n",
              "    fill: var(--button-hover-fill-color);\n",
              "  }\n",
              "\n",
              "  .colab-df-quickchart-complete:disabled,\n",
              "  .colab-df-quickchart-complete:disabled:hover {\n",
              "    background-color: var(--disabled-bg-color);\n",
              "    fill: var(--disabled-fill-color);\n",
              "    box-shadow: none;\n",
              "  }\n",
              "\n",
              "  .colab-df-spinner {\n",
              "    border: 2px solid var(--fill-color);\n",
              "    border-color: transparent;\n",
              "    border-bottom-color: var(--fill-color);\n",
              "    animation:\n",
              "      spin 1s steps(1) infinite;\n",
              "  }\n",
              "\n",
              "  @keyframes spin {\n",
              "    0% {\n",
              "      border-color: transparent;\n",
              "      border-bottom-color: var(--fill-color);\n",
              "      border-left-color: var(--fill-color);\n",
              "    }\n",
              "    20% {\n",
              "      border-color: transparent;\n",
              "      border-left-color: var(--fill-color);\n",
              "      border-top-color: var(--fill-color);\n",
              "    }\n",
              "    30% {\n",
              "      border-color: transparent;\n",
              "      border-left-color: var(--fill-color);\n",
              "      border-top-color: var(--fill-color);\n",
              "      border-right-color: var(--fill-color);\n",
              "    }\n",
              "    40% {\n",
              "      border-color: transparent;\n",
              "      border-right-color: var(--fill-color);\n",
              "      border-top-color: var(--fill-color);\n",
              "    }\n",
              "    60% {\n",
              "      border-color: transparent;\n",
              "      border-right-color: var(--fill-color);\n",
              "    }\n",
              "    80% {\n",
              "      border-color: transparent;\n",
              "      border-right-color: var(--fill-color);\n",
              "      border-bottom-color: var(--fill-color);\n",
              "    }\n",
              "    90% {\n",
              "      border-color: transparent;\n",
              "      border-bottom-color: var(--fill-color);\n",
              "    }\n",
              "  }\n",
              "</style>\n",
              "\n",
              "      <script>\n",
              "        async function quickchart(key) {\n",
              "          const quickchartButtonEl =\n",
              "            document.querySelector('#' + key + ' button');\n",
              "          quickchartButtonEl.disabled = true;  // To prevent multiple clicks.\n",
              "          quickchartButtonEl.classList.add('colab-df-spinner');\n",
              "          try {\n",
              "            const charts = await google.colab.kernel.invokeFunction(\n",
              "                'suggestCharts', [key], {});\n",
              "          } catch (error) {\n",
              "            console.error('Error during call to suggestCharts:', error);\n",
              "          }\n",
              "          quickchartButtonEl.classList.remove('colab-df-spinner');\n",
              "          quickchartButtonEl.classList.add('colab-df-quickchart-complete');\n",
              "        }\n",
              "        (() => {\n",
              "          let quickchartButtonEl =\n",
              "            document.querySelector('#df-c7b882d5-e83c-48f6-952d-ed20cc98a104 button');\n",
              "          quickchartButtonEl.style.display =\n",
              "            google.colab.kernel.accessAllowed ? 'block' : 'none';\n",
              "        })();\n",
              "      </script>\n",
              "    </div>\n",
              "\n",
              "    </div>\n",
              "  </div>\n"
            ],
            "application/vnd.google.colaboratory.intrinsic+json": {
              "type": "dataframe",
              "variable_name": "telecomDF",
              "summary": "{\n  \"name\": \"telecomDF\",\n  \"rows\": 7267,\n  \"fields\": [\n    {\n      \"column\": \"customerID\",\n      \"properties\": {\n        \"dtype\": \"string\",\n        \"num_unique_values\": 7267,\n        \"samples\": [\n          \"2038-OEQZH\",\n          \"6322-HRPFA\",\n          \"3969-JQABI\"\n        ],\n        \"semantic_type\": \"\",\n        \"description\": \"\"\n      }\n    },\n    {\n      \"column\": \"Churn\",\n      \"properties\": {\n        \"dtype\": \"category\",\n        \"num_unique_values\": 3,\n        \"samples\": [\n          \"No\",\n          \"Yes\",\n          \"\"\n        ],\n        \"semantic_type\": \"\",\n        \"description\": \"\"\n      }\n    },\n    {\n      \"column\": \"customer\",\n      \"properties\": {\n        \"dtype\": \"object\",\n        \"semantic_type\": \"\",\n        \"description\": \"\"\n      }\n    },\n    {\n      \"column\": \"phone\",\n      \"properties\": {\n        \"dtype\": \"object\",\n        \"semantic_type\": \"\",\n        \"description\": \"\"\n      }\n    },\n    {\n      \"column\": \"internet\",\n      \"properties\": {\n        \"dtype\": \"object\",\n        \"semantic_type\": \"\",\n        \"description\": \"\"\n      }\n    },\n    {\n      \"column\": \"account\",\n      \"properties\": {\n        \"dtype\": \"object\",\n        \"semantic_type\": \"\",\n        \"description\": \"\"\n      }\n    }\n  ]\n}"
            }
          },
          "metadata": {},
          "execution_count": 4
        }
      ]
    },
    {
      "cell_type": "code",
      "source": [
        "telecomDF.info()"
      ],
      "metadata": {
        "id": "43KW5LvVR_KN",
        "colab": {
          "base_uri": "https://localhost:8080/"
        },
        "outputId": "5e6ae511-bdbc-4853-8678-554ccd1961f6"
      },
      "execution_count": 5,
      "outputs": [
        {
          "output_type": "stream",
          "name": "stdout",
          "text": [
            "<class 'pandas.core.frame.DataFrame'>\n",
            "RangeIndex: 7267 entries, 0 to 7266\n",
            "Data columns (total 6 columns):\n",
            " #   Column      Non-Null Count  Dtype \n",
            "---  ------      --------------  ----- \n",
            " 0   customerID  7267 non-null   object\n",
            " 1   Churn       7267 non-null   object\n",
            " 2   customer    7267 non-null   object\n",
            " 3   phone       7267 non-null   object\n",
            " 4   internet    7267 non-null   object\n",
            " 5   account     7267 non-null   object\n",
            "dtypes: object(6)\n",
            "memory usage: 340.8+ KB\n"
          ]
        }
      ]
    },
    {
      "cell_type": "markdown",
      "source": [
        "### Ajustando colunas que ***estão \"aninhadas\"***."
      ],
      "metadata": {
        "id": "jUhY7-W_8ivw"
      }
    },
    {
      "cell_type": "markdown",
      "source": [
        "Desaninhando todas as colunas do ***telecomDF de uma só vez***. Após ter desaninhado elas, vou fazer uma **concatenação** e transformar tudo em um ***novo Data Frame*** (no caso, um novo **telecomDF**)."
      ],
      "metadata": {
        "id": "WM55X_75IfZV"
      }
    },
    {
      "cell_type": "code",
      "source": [
        "'''\n",
        "OBS:\n",
        "Para desainhar as colunas, usei o 'pd.json_normalize()', numa variável para ca-\n",
        "da coluna que eu queria desaninhar.\n",
        "'''\n",
        "customer_df = pd.json_normalize(telecomDF['customer'])\n",
        "phone_df = pd.json_normalize(telecomDF['phone'])\n",
        "internet_df = pd.json_normalize(telecomDF['internet'])\n",
        "account_df = pd.json_normalize(telecomDF['account'])\n",
        "\n",
        "'''\n",
        "OBS²:\n",
        "Usei o 'pd.concat()' para concatenar as colunas e, depois de ter feito a conca-\n",
        "tenação, eu transformei tudo em um novo Data Frame.\n",
        "'''\n",
        "telecomDF = pd.concat([telecomDF[['customerID', 'Churn']], customer_df, phone_df, internet_df, account_df], axis=1)\n",
        "telecomDF.head()"
      ],
      "metadata": {
        "colab": {
          "base_uri": "https://localhost:8080/",
          "height": 342
        },
        "id": "53KcEwRB7Jfw",
        "outputId": "84661b84-5b00-4d0c-f3c3-494fc1ad5d9c"
      },
      "execution_count": 6,
      "outputs": [
        {
          "output_type": "execute_result",
          "data": {
            "text/plain": [
              "   customerID Churn  gender  SeniorCitizen Partner Dependents  tenure  \\\n",
              "0  0002-ORFBO    No  Female              0     Yes        Yes       9   \n",
              "1  0003-MKNFE    No    Male              0      No         No       9   \n",
              "2  0004-TLHLJ   Yes    Male              0      No         No       4   \n",
              "3  0011-IGKFF   Yes    Male              1     Yes         No      13   \n",
              "4  0013-EXCHZ   Yes  Female              1     Yes         No       3   \n",
              "\n",
              "  PhoneService MultipleLines InternetService  ... OnlineBackup  \\\n",
              "0          Yes            No             DSL  ...          Yes   \n",
              "1          Yes           Yes             DSL  ...           No   \n",
              "2          Yes            No     Fiber optic  ...           No   \n",
              "3          Yes            No     Fiber optic  ...          Yes   \n",
              "4          Yes            No     Fiber optic  ...           No   \n",
              "\n",
              "  DeviceProtection TechSupport StreamingTV StreamingMovies        Contract  \\\n",
              "0               No         Yes         Yes              No        One year   \n",
              "1               No          No          No             Yes  Month-to-month   \n",
              "2              Yes          No          No              No  Month-to-month   \n",
              "3              Yes          No         Yes             Yes  Month-to-month   \n",
              "4               No         Yes         Yes              No  Month-to-month   \n",
              "\n",
              "  PaperlessBilling     PaymentMethod Charges.Monthly  Charges.Total  \n",
              "0              Yes      Mailed check            65.6          593.3  \n",
              "1               No      Mailed check            59.9          542.4  \n",
              "2              Yes  Electronic check            73.9         280.85  \n",
              "3              Yes  Electronic check            98.0        1237.85  \n",
              "4              Yes      Mailed check            83.9          267.4  \n",
              "\n",
              "[5 rows x 21 columns]"
            ],
            "text/html": [
              "\n",
              "  <div id=\"df-dd234044-0831-4077-a476-ad262ca50fd7\" class=\"colab-df-container\">\n",
              "    <div>\n",
              "<style scoped>\n",
              "    .dataframe tbody tr th:only-of-type {\n",
              "        vertical-align: middle;\n",
              "    }\n",
              "\n",
              "    .dataframe tbody tr th {\n",
              "        vertical-align: top;\n",
              "    }\n",
              "\n",
              "    .dataframe thead th {\n",
              "        text-align: right;\n",
              "    }\n",
              "</style>\n",
              "<table border=\"1\" class=\"dataframe\">\n",
              "  <thead>\n",
              "    <tr style=\"text-align: right;\">\n",
              "      <th></th>\n",
              "      <th>customerID</th>\n",
              "      <th>Churn</th>\n",
              "      <th>gender</th>\n",
              "      <th>SeniorCitizen</th>\n",
              "      <th>Partner</th>\n",
              "      <th>Dependents</th>\n",
              "      <th>tenure</th>\n",
              "      <th>PhoneService</th>\n",
              "      <th>MultipleLines</th>\n",
              "      <th>InternetService</th>\n",
              "      <th>...</th>\n",
              "      <th>OnlineBackup</th>\n",
              "      <th>DeviceProtection</th>\n",
              "      <th>TechSupport</th>\n",
              "      <th>StreamingTV</th>\n",
              "      <th>StreamingMovies</th>\n",
              "      <th>Contract</th>\n",
              "      <th>PaperlessBilling</th>\n",
              "      <th>PaymentMethod</th>\n",
              "      <th>Charges.Monthly</th>\n",
              "      <th>Charges.Total</th>\n",
              "    </tr>\n",
              "  </thead>\n",
              "  <tbody>\n",
              "    <tr>\n",
              "      <th>0</th>\n",
              "      <td>0002-ORFBO</td>\n",
              "      <td>No</td>\n",
              "      <td>Female</td>\n",
              "      <td>0</td>\n",
              "      <td>Yes</td>\n",
              "      <td>Yes</td>\n",
              "      <td>9</td>\n",
              "      <td>Yes</td>\n",
              "      <td>No</td>\n",
              "      <td>DSL</td>\n",
              "      <td>...</td>\n",
              "      <td>Yes</td>\n",
              "      <td>No</td>\n",
              "      <td>Yes</td>\n",
              "      <td>Yes</td>\n",
              "      <td>No</td>\n",
              "      <td>One year</td>\n",
              "      <td>Yes</td>\n",
              "      <td>Mailed check</td>\n",
              "      <td>65.6</td>\n",
              "      <td>593.3</td>\n",
              "    </tr>\n",
              "    <tr>\n",
              "      <th>1</th>\n",
              "      <td>0003-MKNFE</td>\n",
              "      <td>No</td>\n",
              "      <td>Male</td>\n",
              "      <td>0</td>\n",
              "      <td>No</td>\n",
              "      <td>No</td>\n",
              "      <td>9</td>\n",
              "      <td>Yes</td>\n",
              "      <td>Yes</td>\n",
              "      <td>DSL</td>\n",
              "      <td>...</td>\n",
              "      <td>No</td>\n",
              "      <td>No</td>\n",
              "      <td>No</td>\n",
              "      <td>No</td>\n",
              "      <td>Yes</td>\n",
              "      <td>Month-to-month</td>\n",
              "      <td>No</td>\n",
              "      <td>Mailed check</td>\n",
              "      <td>59.9</td>\n",
              "      <td>542.4</td>\n",
              "    </tr>\n",
              "    <tr>\n",
              "      <th>2</th>\n",
              "      <td>0004-TLHLJ</td>\n",
              "      <td>Yes</td>\n",
              "      <td>Male</td>\n",
              "      <td>0</td>\n",
              "      <td>No</td>\n",
              "      <td>No</td>\n",
              "      <td>4</td>\n",
              "      <td>Yes</td>\n",
              "      <td>No</td>\n",
              "      <td>Fiber optic</td>\n",
              "      <td>...</td>\n",
              "      <td>No</td>\n",
              "      <td>Yes</td>\n",
              "      <td>No</td>\n",
              "      <td>No</td>\n",
              "      <td>No</td>\n",
              "      <td>Month-to-month</td>\n",
              "      <td>Yes</td>\n",
              "      <td>Electronic check</td>\n",
              "      <td>73.9</td>\n",
              "      <td>280.85</td>\n",
              "    </tr>\n",
              "    <tr>\n",
              "      <th>3</th>\n",
              "      <td>0011-IGKFF</td>\n",
              "      <td>Yes</td>\n",
              "      <td>Male</td>\n",
              "      <td>1</td>\n",
              "      <td>Yes</td>\n",
              "      <td>No</td>\n",
              "      <td>13</td>\n",
              "      <td>Yes</td>\n",
              "      <td>No</td>\n",
              "      <td>Fiber optic</td>\n",
              "      <td>...</td>\n",
              "      <td>Yes</td>\n",
              "      <td>Yes</td>\n",
              "      <td>No</td>\n",
              "      <td>Yes</td>\n",
              "      <td>Yes</td>\n",
              "      <td>Month-to-month</td>\n",
              "      <td>Yes</td>\n",
              "      <td>Electronic check</td>\n",
              "      <td>98.0</td>\n",
              "      <td>1237.85</td>\n",
              "    </tr>\n",
              "    <tr>\n",
              "      <th>4</th>\n",
              "      <td>0013-EXCHZ</td>\n",
              "      <td>Yes</td>\n",
              "      <td>Female</td>\n",
              "      <td>1</td>\n",
              "      <td>Yes</td>\n",
              "      <td>No</td>\n",
              "      <td>3</td>\n",
              "      <td>Yes</td>\n",
              "      <td>No</td>\n",
              "      <td>Fiber optic</td>\n",
              "      <td>...</td>\n",
              "      <td>No</td>\n",
              "      <td>No</td>\n",
              "      <td>Yes</td>\n",
              "      <td>Yes</td>\n",
              "      <td>No</td>\n",
              "      <td>Month-to-month</td>\n",
              "      <td>Yes</td>\n",
              "      <td>Mailed check</td>\n",
              "      <td>83.9</td>\n",
              "      <td>267.4</td>\n",
              "    </tr>\n",
              "  </tbody>\n",
              "</table>\n",
              "<p>5 rows × 21 columns</p>\n",
              "</div>\n",
              "    <div class=\"colab-df-buttons\">\n",
              "\n",
              "  <div class=\"colab-df-container\">\n",
              "    <button class=\"colab-df-convert\" onclick=\"convertToInteractive('df-dd234044-0831-4077-a476-ad262ca50fd7')\"\n",
              "            title=\"Convert this dataframe to an interactive table.\"\n",
              "            style=\"display:none;\">\n",
              "\n",
              "  <svg xmlns=\"http://www.w3.org/2000/svg\" height=\"24px\" viewBox=\"0 -960 960 960\">\n",
              "    <path d=\"M120-120v-720h720v720H120Zm60-500h600v-160H180v160Zm220 220h160v-160H400v160Zm0 220h160v-160H400v160ZM180-400h160v-160H180v160Zm440 0h160v-160H620v160ZM180-180h160v-160H180v160Zm440 0h160v-160H620v160Z\"/>\n",
              "  </svg>\n",
              "    </button>\n",
              "\n",
              "  <style>\n",
              "    .colab-df-container {\n",
              "      display:flex;\n",
              "      gap: 12px;\n",
              "    }\n",
              "\n",
              "    .colab-df-convert {\n",
              "      background-color: #E8F0FE;\n",
              "      border: none;\n",
              "      border-radius: 50%;\n",
              "      cursor: pointer;\n",
              "      display: none;\n",
              "      fill: #1967D2;\n",
              "      height: 32px;\n",
              "      padding: 0 0 0 0;\n",
              "      width: 32px;\n",
              "    }\n",
              "\n",
              "    .colab-df-convert:hover {\n",
              "      background-color: #E2EBFA;\n",
              "      box-shadow: 0px 1px 2px rgba(60, 64, 67, 0.3), 0px 1px 3px 1px rgba(60, 64, 67, 0.15);\n",
              "      fill: #174EA6;\n",
              "    }\n",
              "\n",
              "    .colab-df-buttons div {\n",
              "      margin-bottom: 4px;\n",
              "    }\n",
              "\n",
              "    [theme=dark] .colab-df-convert {\n",
              "      background-color: #3B4455;\n",
              "      fill: #D2E3FC;\n",
              "    }\n",
              "\n",
              "    [theme=dark] .colab-df-convert:hover {\n",
              "      background-color: #434B5C;\n",
              "      box-shadow: 0px 1px 3px 1px rgba(0, 0, 0, 0.15);\n",
              "      filter: drop-shadow(0px 1px 2px rgba(0, 0, 0, 0.3));\n",
              "      fill: #FFFFFF;\n",
              "    }\n",
              "  </style>\n",
              "\n",
              "    <script>\n",
              "      const buttonEl =\n",
              "        document.querySelector('#df-dd234044-0831-4077-a476-ad262ca50fd7 button.colab-df-convert');\n",
              "      buttonEl.style.display =\n",
              "        google.colab.kernel.accessAllowed ? 'block' : 'none';\n",
              "\n",
              "      async function convertToInteractive(key) {\n",
              "        const element = document.querySelector('#df-dd234044-0831-4077-a476-ad262ca50fd7');\n",
              "        const dataTable =\n",
              "          await google.colab.kernel.invokeFunction('convertToInteractive',\n",
              "                                                    [key], {});\n",
              "        if (!dataTable) return;\n",
              "\n",
              "        const docLinkHtml = 'Like what you see? Visit the ' +\n",
              "          '<a target=\"_blank\" href=https://colab.research.google.com/notebooks/data_table.ipynb>data table notebook</a>'\n",
              "          + ' to learn more about interactive tables.';\n",
              "        element.innerHTML = '';\n",
              "        dataTable['output_type'] = 'display_data';\n",
              "        await google.colab.output.renderOutput(dataTable, element);\n",
              "        const docLink = document.createElement('div');\n",
              "        docLink.innerHTML = docLinkHtml;\n",
              "        element.appendChild(docLink);\n",
              "      }\n",
              "    </script>\n",
              "  </div>\n",
              "\n",
              "\n",
              "    <div id=\"df-04712e4e-9125-4617-b227-5ef75c46604c\">\n",
              "      <button class=\"colab-df-quickchart\" onclick=\"quickchart('df-04712e4e-9125-4617-b227-5ef75c46604c')\"\n",
              "                title=\"Suggest charts\"\n",
              "                style=\"display:none;\">\n",
              "\n",
              "<svg xmlns=\"http://www.w3.org/2000/svg\" height=\"24px\"viewBox=\"0 0 24 24\"\n",
              "     width=\"24px\">\n",
              "    <g>\n",
              "        <path d=\"M19 3H5c-1.1 0-2 .9-2 2v14c0 1.1.9 2 2 2h14c1.1 0 2-.9 2-2V5c0-1.1-.9-2-2-2zM9 17H7v-7h2v7zm4 0h-2V7h2v10zm4 0h-2v-4h2v4z\"/>\n",
              "    </g>\n",
              "</svg>\n",
              "      </button>\n",
              "\n",
              "<style>\n",
              "  .colab-df-quickchart {\n",
              "      --bg-color: #E8F0FE;\n",
              "      --fill-color: #1967D2;\n",
              "      --hover-bg-color: #E2EBFA;\n",
              "      --hover-fill-color: #174EA6;\n",
              "      --disabled-fill-color: #AAA;\n",
              "      --disabled-bg-color: #DDD;\n",
              "  }\n",
              "\n",
              "  [theme=dark] .colab-df-quickchart {\n",
              "      --bg-color: #3B4455;\n",
              "      --fill-color: #D2E3FC;\n",
              "      --hover-bg-color: #434B5C;\n",
              "      --hover-fill-color: #FFFFFF;\n",
              "      --disabled-bg-color: #3B4455;\n",
              "      --disabled-fill-color: #666;\n",
              "  }\n",
              "\n",
              "  .colab-df-quickchart {\n",
              "    background-color: var(--bg-color);\n",
              "    border: none;\n",
              "    border-radius: 50%;\n",
              "    cursor: pointer;\n",
              "    display: none;\n",
              "    fill: var(--fill-color);\n",
              "    height: 32px;\n",
              "    padding: 0;\n",
              "    width: 32px;\n",
              "  }\n",
              "\n",
              "  .colab-df-quickchart:hover {\n",
              "    background-color: var(--hover-bg-color);\n",
              "    box-shadow: 0 1px 2px rgba(60, 64, 67, 0.3), 0 1px 3px 1px rgba(60, 64, 67, 0.15);\n",
              "    fill: var(--button-hover-fill-color);\n",
              "  }\n",
              "\n",
              "  .colab-df-quickchart-complete:disabled,\n",
              "  .colab-df-quickchart-complete:disabled:hover {\n",
              "    background-color: var(--disabled-bg-color);\n",
              "    fill: var(--disabled-fill-color);\n",
              "    box-shadow: none;\n",
              "  }\n",
              "\n",
              "  .colab-df-spinner {\n",
              "    border: 2px solid var(--fill-color);\n",
              "    border-color: transparent;\n",
              "    border-bottom-color: var(--fill-color);\n",
              "    animation:\n",
              "      spin 1s steps(1) infinite;\n",
              "  }\n",
              "\n",
              "  @keyframes spin {\n",
              "    0% {\n",
              "      border-color: transparent;\n",
              "      border-bottom-color: var(--fill-color);\n",
              "      border-left-color: var(--fill-color);\n",
              "    }\n",
              "    20% {\n",
              "      border-color: transparent;\n",
              "      border-left-color: var(--fill-color);\n",
              "      border-top-color: var(--fill-color);\n",
              "    }\n",
              "    30% {\n",
              "      border-color: transparent;\n",
              "      border-left-color: var(--fill-color);\n",
              "      border-top-color: var(--fill-color);\n",
              "      border-right-color: var(--fill-color);\n",
              "    }\n",
              "    40% {\n",
              "      border-color: transparent;\n",
              "      border-right-color: var(--fill-color);\n",
              "      border-top-color: var(--fill-color);\n",
              "    }\n",
              "    60% {\n",
              "      border-color: transparent;\n",
              "      border-right-color: var(--fill-color);\n",
              "    }\n",
              "    80% {\n",
              "      border-color: transparent;\n",
              "      border-right-color: var(--fill-color);\n",
              "      border-bottom-color: var(--fill-color);\n",
              "    }\n",
              "    90% {\n",
              "      border-color: transparent;\n",
              "      border-bottom-color: var(--fill-color);\n",
              "    }\n",
              "  }\n",
              "</style>\n",
              "\n",
              "      <script>\n",
              "        async function quickchart(key) {\n",
              "          const quickchartButtonEl =\n",
              "            document.querySelector('#' + key + ' button');\n",
              "          quickchartButtonEl.disabled = true;  // To prevent multiple clicks.\n",
              "          quickchartButtonEl.classList.add('colab-df-spinner');\n",
              "          try {\n",
              "            const charts = await google.colab.kernel.invokeFunction(\n",
              "                'suggestCharts', [key], {});\n",
              "          } catch (error) {\n",
              "            console.error('Error during call to suggestCharts:', error);\n",
              "          }\n",
              "          quickchartButtonEl.classList.remove('colab-df-spinner');\n",
              "          quickchartButtonEl.classList.add('colab-df-quickchart-complete');\n",
              "        }\n",
              "        (() => {\n",
              "          let quickchartButtonEl =\n",
              "            document.querySelector('#df-04712e4e-9125-4617-b227-5ef75c46604c button');\n",
              "          quickchartButtonEl.style.display =\n",
              "            google.colab.kernel.accessAllowed ? 'block' : 'none';\n",
              "        })();\n",
              "      </script>\n",
              "    </div>\n",
              "\n",
              "    </div>\n",
              "  </div>\n"
            ],
            "application/vnd.google.colaboratory.intrinsic+json": {
              "type": "dataframe",
              "variable_name": "telecomDF"
            }
          },
          "metadata": {},
          "execution_count": 6
        }
      ]
    },
    {
      "cell_type": "markdown",
      "source": [
        "# Visualizando ***inconsistências*** nos dados"
      ],
      "metadata": {
        "id": "fy_vOzpTVnlp"
      }
    },
    {
      "cell_type": "markdown",
      "source": [
        "Vendo o ***tipo único*** de cada dado nas colunas"
      ],
      "metadata": {
        "id": "nUQB1KnfWcrl"
      }
    },
    {
      "cell_type": "code",
      "source": [
        "# O '' pode gerar inconsistêcia, pois a resposta para essa coluna é: Sim ou Não\n",
        "# String\n",
        "pd.unique(telecomDF['Churn'])"
      ],
      "metadata": {
        "colab": {
          "base_uri": "https://localhost:8080/"
        },
        "id": "1Q1-qJKJ7Jcx",
        "outputId": "6e82a83d-f81d-41b5-b2e0-fd34c673b194"
      },
      "execution_count": 7,
      "outputs": [
        {
          "output_type": "execute_result",
          "data": {
            "text/plain": [
              "array(['No', 'Yes', ''], dtype=object)"
            ]
          },
          "metadata": {},
          "execution_count": 7
        }
      ]
    },
    {
      "cell_type": "code",
      "source": [
        "# String\n",
        "pd.unique(telecomDF['gender'])"
      ],
      "metadata": {
        "colab": {
          "base_uri": "https://localhost:8080/"
        },
        "id": "gRbA4-Na7JaY",
        "outputId": "abad7269-e8f5-47f3-95da-be1c676f9017"
      },
      "execution_count": 8,
      "outputs": [
        {
          "output_type": "execute_result",
          "data": {
            "text/plain": [
              "array(['Female', 'Male'], dtype=object)"
            ]
          },
          "metadata": {},
          "execution_count": 8
        }
      ]
    },
    {
      "cell_type": "code",
      "source": [
        "#Boolean\n",
        "pd.unique(telecomDF['SeniorCitizen'])"
      ],
      "metadata": {
        "colab": {
          "base_uri": "https://localhost:8080/"
        },
        "id": "7_OrONZm7JXK",
        "outputId": "ba8823ff-6935-4259-f0ed-7f06a1367695"
      },
      "execution_count": 9,
      "outputs": [
        {
          "output_type": "execute_result",
          "data": {
            "text/plain": [
              "array([0, 1])"
            ]
          },
          "metadata": {},
          "execution_count": 9
        }
      ]
    },
    {
      "cell_type": "code",
      "source": [
        "# String\n",
        "pd.unique(telecomDF['Partner'])"
      ],
      "metadata": {
        "colab": {
          "base_uri": "https://localhost:8080/"
        },
        "id": "-z55_Yn07JTy",
        "outputId": "b138cf8d-30c8-41b1-d511-9fcc0b2b2c83"
      },
      "execution_count": 10,
      "outputs": [
        {
          "output_type": "execute_result",
          "data": {
            "text/plain": [
              "array(['Yes', 'No'], dtype=object)"
            ]
          },
          "metadata": {},
          "execution_count": 10
        }
      ]
    },
    {
      "cell_type": "code",
      "source": [
        "# String\n",
        "pd.unique(telecomDF['Dependents'])"
      ],
      "metadata": {
        "colab": {
          "base_uri": "https://localhost:8080/"
        },
        "id": "1jf5PEfs7JOU",
        "outputId": "730f602c-4b84-4511-95a7-eafc339541c7"
      },
      "execution_count": 11,
      "outputs": [
        {
          "output_type": "execute_result",
          "data": {
            "text/plain": [
              "array(['Yes', 'No'], dtype=object)"
            ]
          },
          "metadata": {},
          "execution_count": 11
        }
      ]
    },
    {
      "cell_type": "code",
      "source": [
        "'''\n",
        "\"Tenure\" tem mais de um significado. Aqui, vou considerar como tempo de assina-\n",
        "tura com a empresa.\n",
        "'''\n",
        "# int (manter)\n",
        "pd.unique(telecomDF['tenure'])"
      ],
      "metadata": {
        "colab": {
          "base_uri": "https://localhost:8080/"
        },
        "id": "8oFyoAk2gz8p",
        "outputId": "77da15c5-22ba-45ce-9469-a9c130b8d225"
      },
      "execution_count": 12,
      "outputs": [
        {
          "output_type": "execute_result",
          "data": {
            "text/plain": [
              "array([ 9,  4, 13,  3, 71, 63,  7, 65, 54, 72,  5, 56, 34,  1, 45, 50, 23,\n",
              "       55, 26, 69, 11, 37, 49, 66, 67, 20, 43, 59, 12, 27,  2, 25, 29, 14,\n",
              "       35, 64, 39, 40,  6, 30, 70, 57, 58, 16, 32, 33, 10, 21, 61, 15, 44,\n",
              "       22, 24, 19, 47, 62, 46, 52,  8, 60, 48, 28, 41, 53, 68, 51, 31, 36,\n",
              "       17, 18, 38, 42,  0])"
            ]
          },
          "metadata": {},
          "execution_count": 12
        }
      ]
    },
    {
      "cell_type": "code",
      "source": [
        "# String\n",
        "pd.unique(telecomDF['PhoneService'])"
      ],
      "metadata": {
        "colab": {
          "base_uri": "https://localhost:8080/"
        },
        "id": "5WEfAxCv7JLV",
        "outputId": "5aee5572-1812-47a8-bd50-b58464e8a104"
      },
      "execution_count": 13,
      "outputs": [
        {
          "output_type": "execute_result",
          "data": {
            "text/plain": [
              "array(['Yes', 'No'], dtype=object)"
            ]
          },
          "metadata": {},
          "execution_count": 13
        }
      ]
    },
    {
      "cell_type": "code",
      "source": [
        "# String\n",
        "pd.unique(telecomDF['MultipleLines'])"
      ],
      "metadata": {
        "colab": {
          "base_uri": "https://localhost:8080/"
        },
        "id": "3ZTaOXkldrmW",
        "outputId": "6e4eb6bc-f6ec-4a95-db26-8e606093c443"
      },
      "execution_count": 14,
      "outputs": [
        {
          "output_type": "execute_result",
          "data": {
            "text/plain": [
              "array(['No', 'Yes', 'No phone service'], dtype=object)"
            ]
          },
          "metadata": {},
          "execution_count": 14
        }
      ]
    },
    {
      "cell_type": "code",
      "source": [
        "# String\n",
        "pd.unique(telecomDF['InternetService'])"
      ],
      "metadata": {
        "colab": {
          "base_uri": "https://localhost:8080/"
        },
        "id": "WrozyCerdrjP",
        "outputId": "00aaae93-58d9-4f17-b414-5d6db753f192"
      },
      "execution_count": 15,
      "outputs": [
        {
          "output_type": "execute_result",
          "data": {
            "text/plain": [
              "array(['DSL', 'Fiber optic', 'No'], dtype=object)"
            ]
          },
          "metadata": {},
          "execution_count": 15
        }
      ]
    },
    {
      "cell_type": "code",
      "source": [
        "# String\n",
        "pd.unique(telecomDF['OnlineSecurity'])"
      ],
      "metadata": {
        "colab": {
          "base_uri": "https://localhost:8080/"
        },
        "id": "vfxiwvDpdrgM",
        "outputId": "3a959d55-2e54-4430-f6fd-86ab895a20ce"
      },
      "execution_count": 16,
      "outputs": [
        {
          "output_type": "execute_result",
          "data": {
            "text/plain": [
              "array(['No', 'Yes', 'No internet service'], dtype=object)"
            ]
          },
          "metadata": {},
          "execution_count": 16
        }
      ]
    },
    {
      "cell_type": "code",
      "source": [
        "# String\n",
        "pd.unique(telecomDF['OnlineBackup'])"
      ],
      "metadata": {
        "colab": {
          "base_uri": "https://localhost:8080/"
        },
        "id": "CZIUWtQ9drcv",
        "outputId": "f1534c2c-33a7-40be-f5ea-62a314276248"
      },
      "execution_count": 17,
      "outputs": [
        {
          "output_type": "execute_result",
          "data": {
            "text/plain": [
              "array(['Yes', 'No', 'No internet service'], dtype=object)"
            ]
          },
          "metadata": {},
          "execution_count": 17
        }
      ]
    },
    {
      "cell_type": "code",
      "source": [
        "# String\n",
        "pd.unique(telecomDF['DeviceProtection'])"
      ],
      "metadata": {
        "colab": {
          "base_uri": "https://localhost:8080/"
        },
        "id": "scKxTtiadrZU",
        "outputId": "10878b3e-977a-4137-a1b4-a0b5ad270c17"
      },
      "execution_count": 18,
      "outputs": [
        {
          "output_type": "execute_result",
          "data": {
            "text/plain": [
              "array(['No', 'Yes', 'No internet service'], dtype=object)"
            ]
          },
          "metadata": {},
          "execution_count": 18
        }
      ]
    },
    {
      "cell_type": "code",
      "source": [
        "# String\n",
        "pd.unique(telecomDF['TechSupport'])"
      ],
      "metadata": {
        "colab": {
          "base_uri": "https://localhost:8080/"
        },
        "id": "HNe40iwn7JIN",
        "outputId": "8525903c-bce4-4ccc-ed7e-e657276d3a0f"
      },
      "execution_count": 19,
      "outputs": [
        {
          "output_type": "execute_result",
          "data": {
            "text/plain": [
              "array(['Yes', 'No', 'No internet service'], dtype=object)"
            ]
          },
          "metadata": {},
          "execution_count": 19
        }
      ]
    },
    {
      "cell_type": "code",
      "source": [
        "# String\n",
        "pd.unique(telecomDF['StreamingTV'])"
      ],
      "metadata": {
        "colab": {
          "base_uri": "https://localhost:8080/"
        },
        "id": "pNjmQWWzeTGQ",
        "outputId": "475c2f3a-2d64-4ea3-fe92-9f19f8a95b69"
      },
      "execution_count": 20,
      "outputs": [
        {
          "output_type": "execute_result",
          "data": {
            "text/plain": [
              "array(['Yes', 'No', 'No internet service'], dtype=object)"
            ]
          },
          "metadata": {},
          "execution_count": 20
        }
      ]
    },
    {
      "cell_type": "code",
      "source": [
        "# String\n",
        "pd.unique(telecomDF['StreamingMovies'])"
      ],
      "metadata": {
        "colab": {
          "base_uri": "https://localhost:8080/"
        },
        "id": "-nDyIhC3eTC5",
        "outputId": "814d5801-5c04-4d0d-94dd-07cf8b8555cf"
      },
      "execution_count": 21,
      "outputs": [
        {
          "output_type": "execute_result",
          "data": {
            "text/plain": [
              "array(['No', 'Yes', 'No internet service'], dtype=object)"
            ]
          },
          "metadata": {},
          "execution_count": 21
        }
      ]
    },
    {
      "cell_type": "code",
      "source": [
        "# String\n",
        "pd.unique(telecomDF['Contract'])"
      ],
      "metadata": {
        "colab": {
          "base_uri": "https://localhost:8080/"
        },
        "id": "fUrAUhG6eS_x",
        "outputId": "953f9026-6bd5-48fe-96c0-ad187ab4943e"
      },
      "execution_count": 22,
      "outputs": [
        {
          "output_type": "execute_result",
          "data": {
            "text/plain": [
              "array(['One year', 'Month-to-month', 'Two year'], dtype=object)"
            ]
          },
          "metadata": {},
          "execution_count": 22
        }
      ]
    },
    {
      "cell_type": "code",
      "source": [
        "# String\n",
        "pd.unique(telecomDF['PaperlessBilling'])"
      ],
      "metadata": {
        "colab": {
          "base_uri": "https://localhost:8080/"
        },
        "id": "4SXwN-LOeS8v",
        "outputId": "1b38ba05-d5b8-4b12-b987-64f97dc340b7"
      },
      "execution_count": 23,
      "outputs": [
        {
          "output_type": "execute_result",
          "data": {
            "text/plain": [
              "array(['Yes', 'No'], dtype=object)"
            ]
          },
          "metadata": {},
          "execution_count": 23
        }
      ]
    },
    {
      "cell_type": "code",
      "source": [
        "'''\n",
        "Esse array tem algumas palavras entre parênteses.Isso pode gerar dificuldades na\n",
        "análise dos dados. Necessário remoção dessas palavras e dos parênteses.\n",
        "'''\n",
        "# Object\n",
        "pd.unique(telecomDF['PaymentMethod'])"
      ],
      "metadata": {
        "colab": {
          "base_uri": "https://localhost:8080/"
        },
        "id": "IxOqmq9CeS5b",
        "outputId": "24d05c49-cc28-4653-ede9-c5df8f2c33ca"
      },
      "execution_count": 24,
      "outputs": [
        {
          "output_type": "execute_result",
          "data": {
            "text/plain": [
              "array(['Mailed check', 'Electronic check', 'Credit card (automatic)',\n",
              "       'Bank transfer (automatic)'], dtype=object)"
            ]
          },
          "metadata": {},
          "execution_count": 24
        }
      ]
    },
    {
      "cell_type": "code",
      "source": [
        "# Float (manter)\n",
        "pd.unique(telecomDF['Charges.Monthly'])"
      ],
      "metadata": {
        "colab": {
          "base_uri": "https://localhost:8080/"
        },
        "id": "fQZ3HY73eSrP",
        "outputId": "b059fc3a-be45-439a-cc15-a59a5a955199"
      },
      "execution_count": 25,
      "outputs": [
        {
          "output_type": "execute_result",
          "data": {
            "text/plain": [
              "array([65.6 , 59.9 , 73.9 , ..., 91.75, 68.8 , 67.85])"
            ]
          },
          "metadata": {},
          "execution_count": 25
        }
      ]
    },
    {
      "cell_type": "code",
      "source": [
        "# Float\n",
        "pd.unique(telecomDF['Charges.Total'])"
      ],
      "metadata": {
        "colab": {
          "base_uri": "https://localhost:8080/"
        },
        "id": "pR9BmfT47JEv",
        "outputId": "9257aab4-6b5e-478b-8606-01bab521562b"
      },
      "execution_count": 26,
      "outputs": [
        {
          "output_type": "execute_result",
          "data": {
            "text/plain": [
              "array(['593.3', '542.4', '280.85', ..., '742.9', '4627.65', '3707.6'],\n",
              "      dtype=object)"
            ]
          },
          "metadata": {},
          "execution_count": 26
        }
      ]
    },
    {
      "cell_type": "markdown",
      "source": [
        "Verificando a existência de ***dados null***"
      ],
      "metadata": {
        "id": "uGmDbzWWrtLl"
      }
    },
    {
      "cell_type": "code",
      "source": [
        "# Essas são todas as colunas do data frame\n",
        "telecomDF.columns"
      ],
      "metadata": {
        "colab": {
          "base_uri": "https://localhost:8080/"
        },
        "id": "c35BRTpRrgZi",
        "outputId": "78423c58-64ce-43ef-f5d2-997a6c66ee89"
      },
      "execution_count": 27,
      "outputs": [
        {
          "output_type": "execute_result",
          "data": {
            "text/plain": [
              "Index(['customerID', 'Churn', 'gender', 'SeniorCitizen', 'Partner',\n",
              "       'Dependents', 'tenure', 'PhoneService', 'MultipleLines',\n",
              "       'InternetService', 'OnlineSecurity', 'OnlineBackup', 'DeviceProtection',\n",
              "       'TechSupport', 'StreamingTV', 'StreamingMovies', 'Contract',\n",
              "       'PaperlessBilling', 'PaymentMethod', 'Charges.Monthly',\n",
              "       'Charges.Total'],\n",
              "      dtype='object')"
            ]
          },
          "metadata": {},
          "execution_count": 27
        }
      ]
    },
    {
      "cell_type": "code",
      "source": [
        "# Verificando a existência de dados null. Vou usar o .info()\n",
        "\n",
        "# OBS: Analisando o código abaixo, nós podemos ver que não há dados null.\n",
        "telecomDF.info()"
      ],
      "metadata": {
        "colab": {
          "base_uri": "https://localhost:8080/"
        },
        "id": "wLJ-rt7CrgMJ",
        "outputId": "e7ad4d4c-0165-48c4-b00d-8f5c3c4e20d5"
      },
      "execution_count": 28,
      "outputs": [
        {
          "output_type": "stream",
          "name": "stdout",
          "text": [
            "<class 'pandas.core.frame.DataFrame'>\n",
            "RangeIndex: 7267 entries, 0 to 7266\n",
            "Data columns (total 21 columns):\n",
            " #   Column            Non-Null Count  Dtype  \n",
            "---  ------            --------------  -----  \n",
            " 0   customerID        7267 non-null   object \n",
            " 1   Churn             7267 non-null   object \n",
            " 2   gender            7267 non-null   object \n",
            " 3   SeniorCitizen     7267 non-null   int64  \n",
            " 4   Partner           7267 non-null   object \n",
            " 5   Dependents        7267 non-null   object \n",
            " 6   tenure            7267 non-null   int64  \n",
            " 7   PhoneService      7267 non-null   object \n",
            " 8   MultipleLines     7267 non-null   object \n",
            " 9   InternetService   7267 non-null   object \n",
            " 10  OnlineSecurity    7267 non-null   object \n",
            " 11  OnlineBackup      7267 non-null   object \n",
            " 12  DeviceProtection  7267 non-null   object \n",
            " 13  TechSupport       7267 non-null   object \n",
            " 14  StreamingTV       7267 non-null   object \n",
            " 15  StreamingMovies   7267 non-null   object \n",
            " 16  Contract          7267 non-null   object \n",
            " 17  PaperlessBilling  7267 non-null   object \n",
            " 18  PaymentMethod     7267 non-null   object \n",
            " 19  Charges.Monthly   7267 non-null   float64\n",
            " 20  Charges.Total     7267 non-null   object \n",
            "dtypes: float64(1), int64(2), object(18)\n",
            "memory usage: 1.2+ MB\n"
          ]
        }
      ]
    },
    {
      "cell_type": "code",
      "source": [
        "# Com essa expressão abaixo, podemos confirmar que não há dados nulos.\n",
        "telecomDF.isnull().sum()"
      ],
      "metadata": {
        "colab": {
          "base_uri": "https://localhost:8080/",
          "height": 742
        },
        "id": "bwiLuAZRrgEX",
        "outputId": "ef30c5f6-de4c-4e98-aa0c-e11d90c82cc1"
      },
      "execution_count": 29,
      "outputs": [
        {
          "output_type": "execute_result",
          "data": {
            "text/plain": [
              "customerID          0\n",
              "Churn               0\n",
              "gender              0\n",
              "SeniorCitizen       0\n",
              "Partner             0\n",
              "Dependents          0\n",
              "tenure              0\n",
              "PhoneService        0\n",
              "MultipleLines       0\n",
              "InternetService     0\n",
              "OnlineSecurity      0\n",
              "OnlineBackup        0\n",
              "DeviceProtection    0\n",
              "TechSupport         0\n",
              "StreamingTV         0\n",
              "StreamingMovies     0\n",
              "Contract            0\n",
              "PaperlessBilling    0\n",
              "PaymentMethod       0\n",
              "Charges.Monthly     0\n",
              "Charges.Total       0\n",
              "dtype: int64"
            ],
            "text/html": [
              "<div>\n",
              "<style scoped>\n",
              "    .dataframe tbody tr th:only-of-type {\n",
              "        vertical-align: middle;\n",
              "    }\n",
              "\n",
              "    .dataframe tbody tr th {\n",
              "        vertical-align: top;\n",
              "    }\n",
              "\n",
              "    .dataframe thead th {\n",
              "        text-align: right;\n",
              "    }\n",
              "</style>\n",
              "<table border=\"1\" class=\"dataframe\">\n",
              "  <thead>\n",
              "    <tr style=\"text-align: right;\">\n",
              "      <th></th>\n",
              "      <th>0</th>\n",
              "    </tr>\n",
              "  </thead>\n",
              "  <tbody>\n",
              "    <tr>\n",
              "      <th>customerID</th>\n",
              "      <td>0</td>\n",
              "    </tr>\n",
              "    <tr>\n",
              "      <th>Churn</th>\n",
              "      <td>0</td>\n",
              "    </tr>\n",
              "    <tr>\n",
              "      <th>gender</th>\n",
              "      <td>0</td>\n",
              "    </tr>\n",
              "    <tr>\n",
              "      <th>SeniorCitizen</th>\n",
              "      <td>0</td>\n",
              "    </tr>\n",
              "    <tr>\n",
              "      <th>Partner</th>\n",
              "      <td>0</td>\n",
              "    </tr>\n",
              "    <tr>\n",
              "      <th>Dependents</th>\n",
              "      <td>0</td>\n",
              "    </tr>\n",
              "    <tr>\n",
              "      <th>tenure</th>\n",
              "      <td>0</td>\n",
              "    </tr>\n",
              "    <tr>\n",
              "      <th>PhoneService</th>\n",
              "      <td>0</td>\n",
              "    </tr>\n",
              "    <tr>\n",
              "      <th>MultipleLines</th>\n",
              "      <td>0</td>\n",
              "    </tr>\n",
              "    <tr>\n",
              "      <th>InternetService</th>\n",
              "      <td>0</td>\n",
              "    </tr>\n",
              "    <tr>\n",
              "      <th>OnlineSecurity</th>\n",
              "      <td>0</td>\n",
              "    </tr>\n",
              "    <tr>\n",
              "      <th>OnlineBackup</th>\n",
              "      <td>0</td>\n",
              "    </tr>\n",
              "    <tr>\n",
              "      <th>DeviceProtection</th>\n",
              "      <td>0</td>\n",
              "    </tr>\n",
              "    <tr>\n",
              "      <th>TechSupport</th>\n",
              "      <td>0</td>\n",
              "    </tr>\n",
              "    <tr>\n",
              "      <th>StreamingTV</th>\n",
              "      <td>0</td>\n",
              "    </tr>\n",
              "    <tr>\n",
              "      <th>StreamingMovies</th>\n",
              "      <td>0</td>\n",
              "    </tr>\n",
              "    <tr>\n",
              "      <th>Contract</th>\n",
              "      <td>0</td>\n",
              "    </tr>\n",
              "    <tr>\n",
              "      <th>PaperlessBilling</th>\n",
              "      <td>0</td>\n",
              "    </tr>\n",
              "    <tr>\n",
              "      <th>PaymentMethod</th>\n",
              "      <td>0</td>\n",
              "    </tr>\n",
              "    <tr>\n",
              "      <th>Charges.Monthly</th>\n",
              "      <td>0</td>\n",
              "    </tr>\n",
              "    <tr>\n",
              "      <th>Charges.Total</th>\n",
              "      <td>0</td>\n",
              "    </tr>\n",
              "  </tbody>\n",
              "</table>\n",
              "</div><br><label><b>dtype:</b> int64</label>"
            ]
          },
          "metadata": {},
          "execution_count": 29
        }
      ]
    },
    {
      "cell_type": "markdown",
      "source": [
        "# TRANSFORMAÇÃO DOS DADOS"
      ],
      "metadata": {
        "id": "SQ3ifQVhq0v7"
      }
    },
    {
      "cell_type": "markdown",
      "source": [
        "### Tratando as ***inconsistências identificadas***."
      ],
      "metadata": {
        "id": "9syTmxpTnxWn"
      }
    },
    {
      "cell_type": "code",
      "source": [
        "telecomDF.info()"
      ],
      "metadata": {
        "colab": {
          "base_uri": "https://localhost:8080/"
        },
        "id": "E3Lq-d0QNM03",
        "outputId": "b143e81a-865f-40ae-cee2-242f84f7eda1"
      },
      "execution_count": 30,
      "outputs": [
        {
          "output_type": "stream",
          "name": "stdout",
          "text": [
            "<class 'pandas.core.frame.DataFrame'>\n",
            "RangeIndex: 7267 entries, 0 to 7266\n",
            "Data columns (total 21 columns):\n",
            " #   Column            Non-Null Count  Dtype  \n",
            "---  ------            --------------  -----  \n",
            " 0   customerID        7267 non-null   object \n",
            " 1   Churn             7267 non-null   object \n",
            " 2   gender            7267 non-null   object \n",
            " 3   SeniorCitizen     7267 non-null   int64  \n",
            " 4   Partner           7267 non-null   object \n",
            " 5   Dependents        7267 non-null   object \n",
            " 6   tenure            7267 non-null   int64  \n",
            " 7   PhoneService      7267 non-null   object \n",
            " 8   MultipleLines     7267 non-null   object \n",
            " 9   InternetService   7267 non-null   object \n",
            " 10  OnlineSecurity    7267 non-null   object \n",
            " 11  OnlineBackup      7267 non-null   object \n",
            " 12  DeviceProtection  7267 non-null   object \n",
            " 13  TechSupport       7267 non-null   object \n",
            " 14  StreamingTV       7267 non-null   object \n",
            " 15  StreamingMovies   7267 non-null   object \n",
            " 16  Contract          7267 non-null   object \n",
            " 17  PaperlessBilling  7267 non-null   object \n",
            " 18  PaymentMethod     7267 non-null   object \n",
            " 19  Charges.Monthly   7267 non-null   float64\n",
            " 20  Charges.Total     7267 non-null   object \n",
            "dtypes: float64(1), int64(2), object(18)\n",
            "memory usage: 1.2+ MB\n"
          ]
        }
      ]
    },
    {
      "cell_type": "code",
      "source": [
        "# Criando uma lista para converter as colunas de tipo \"Object\" para \"String\".\n",
        "\n",
        "colunas_to_string = ['Churn','gender','Partner','Dependents','PhoneService','MultipleLines','InternetService','OnlineSecurity','OnlineBackup','DeviceProtection','TechSupport','StreamingTV','StreamingMovies','Contract','PaperlessBilling','PaymentMethod']"
      ],
      "metadata": {
        "id": "Vw6AWBQ-nE4u"
      },
      "execution_count": 31,
      "outputs": []
    },
    {
      "cell_type": "code",
      "source": [
        "# Fazendo a conversão para \"str\"\n",
        "'''\n",
        "for coluna in colunas_to_string:\n",
        "    telecomDF[coluna] = telecomDF[coluna].astype(str)\n",
        "'''\n",
        "telecomDF[colunas_to_string] = telecomDF[colunas_to_string].astype(str)"
      ],
      "metadata": {
        "id": "P1YL4avynEub"
      },
      "execution_count": 32,
      "outputs": []
    },
    {
      "cell_type": "code",
      "source": [
        "# Convertendo a coluna 'SeniorCitizen' para int\n",
        "telecomDF['SeniorCitizen'] = telecomDF['SeniorCitizen'].astype(int)"
      ],
      "metadata": {
        "id": "ElL9wG63nEn0"
      },
      "execution_count": 33,
      "outputs": []
    },
    {
      "cell_type": "code",
      "source": [
        "# Convertendo a coluna 'Charges.Total' para float.\n",
        "\n",
        "'''\n",
        "OBS: Na coluna 'Charges.Total', haviam strings vazias (''), eu usei o replace pa\n",
        "ra fazer o tratamento de strings vazias. Isso acabou gerando dados nulos (null)\n",
        "na coluna.\n",
        "\n",
        "Sendo assim, embora nos códigos acima eu tenha dito que não haviam dados nulos,\n",
        "agora, por causa dessa conversão feita, eles foram gerados na coluna. Sendo as-\n",
        "sim, vou tratar os dados nulos apenas nessa coluna.\n",
        "'''\n",
        "telecomDF['Charges.Total'] = telecomDF['Charges.Total'].replace(' ', np.nan).astype(float)"
      ],
      "metadata": {
        "id": "4P-2gktSnEjM"
      },
      "execution_count": 34,
      "outputs": []
    },
    {
      "cell_type": "code",
      "source": [
        "#Data frame com dados nulos gerados na coluna 'Charges.Total'\n",
        "telecomDF.isnull().sum()"
      ],
      "metadata": {
        "colab": {
          "base_uri": "https://localhost:8080/",
          "height": 742
        },
        "id": "_oIxYrpYTytE",
        "outputId": "ea0db053-c212-437d-f0cf-4dbbcabc9efa"
      },
      "execution_count": 35,
      "outputs": [
        {
          "output_type": "execute_result",
          "data": {
            "text/plain": [
              "customerID           0\n",
              "Churn                0\n",
              "gender               0\n",
              "SeniorCitizen        0\n",
              "Partner              0\n",
              "Dependents           0\n",
              "tenure               0\n",
              "PhoneService         0\n",
              "MultipleLines        0\n",
              "InternetService      0\n",
              "OnlineSecurity       0\n",
              "OnlineBackup         0\n",
              "DeviceProtection     0\n",
              "TechSupport          0\n",
              "StreamingTV          0\n",
              "StreamingMovies      0\n",
              "Contract             0\n",
              "PaperlessBilling     0\n",
              "PaymentMethod        0\n",
              "Charges.Monthly      0\n",
              "Charges.Total       11\n",
              "dtype: int64"
            ],
            "text/html": [
              "<div>\n",
              "<style scoped>\n",
              "    .dataframe tbody tr th:only-of-type {\n",
              "        vertical-align: middle;\n",
              "    }\n",
              "\n",
              "    .dataframe tbody tr th {\n",
              "        vertical-align: top;\n",
              "    }\n",
              "\n",
              "    .dataframe thead th {\n",
              "        text-align: right;\n",
              "    }\n",
              "</style>\n",
              "<table border=\"1\" class=\"dataframe\">\n",
              "  <thead>\n",
              "    <tr style=\"text-align: right;\">\n",
              "      <th></th>\n",
              "      <th>0</th>\n",
              "    </tr>\n",
              "  </thead>\n",
              "  <tbody>\n",
              "    <tr>\n",
              "      <th>customerID</th>\n",
              "      <td>0</td>\n",
              "    </tr>\n",
              "    <tr>\n",
              "      <th>Churn</th>\n",
              "      <td>0</td>\n",
              "    </tr>\n",
              "    <tr>\n",
              "      <th>gender</th>\n",
              "      <td>0</td>\n",
              "    </tr>\n",
              "    <tr>\n",
              "      <th>SeniorCitizen</th>\n",
              "      <td>0</td>\n",
              "    </tr>\n",
              "    <tr>\n",
              "      <th>Partner</th>\n",
              "      <td>0</td>\n",
              "    </tr>\n",
              "    <tr>\n",
              "      <th>Dependents</th>\n",
              "      <td>0</td>\n",
              "    </tr>\n",
              "    <tr>\n",
              "      <th>tenure</th>\n",
              "      <td>0</td>\n",
              "    </tr>\n",
              "    <tr>\n",
              "      <th>PhoneService</th>\n",
              "      <td>0</td>\n",
              "    </tr>\n",
              "    <tr>\n",
              "      <th>MultipleLines</th>\n",
              "      <td>0</td>\n",
              "    </tr>\n",
              "    <tr>\n",
              "      <th>InternetService</th>\n",
              "      <td>0</td>\n",
              "    </tr>\n",
              "    <tr>\n",
              "      <th>OnlineSecurity</th>\n",
              "      <td>0</td>\n",
              "    </tr>\n",
              "    <tr>\n",
              "      <th>OnlineBackup</th>\n",
              "      <td>0</td>\n",
              "    </tr>\n",
              "    <tr>\n",
              "      <th>DeviceProtection</th>\n",
              "      <td>0</td>\n",
              "    </tr>\n",
              "    <tr>\n",
              "      <th>TechSupport</th>\n",
              "      <td>0</td>\n",
              "    </tr>\n",
              "    <tr>\n",
              "      <th>StreamingTV</th>\n",
              "      <td>0</td>\n",
              "    </tr>\n",
              "    <tr>\n",
              "      <th>StreamingMovies</th>\n",
              "      <td>0</td>\n",
              "    </tr>\n",
              "    <tr>\n",
              "      <th>Contract</th>\n",
              "      <td>0</td>\n",
              "    </tr>\n",
              "    <tr>\n",
              "      <th>PaperlessBilling</th>\n",
              "      <td>0</td>\n",
              "    </tr>\n",
              "    <tr>\n",
              "      <th>PaymentMethod</th>\n",
              "      <td>0</td>\n",
              "    </tr>\n",
              "    <tr>\n",
              "      <th>Charges.Monthly</th>\n",
              "      <td>0</td>\n",
              "    </tr>\n",
              "    <tr>\n",
              "      <th>Charges.Total</th>\n",
              "      <td>11</td>\n",
              "    </tr>\n",
              "  </tbody>\n",
              "</table>\n",
              "</div><br><label><b>dtype:</b> int64</label>"
            ]
          },
          "metadata": {},
          "execution_count": 35
        }
      ]
    },
    {
      "cell_type": "code",
      "source": [
        "# Tratando os dados nulos com o método fillna()\n",
        "telecomDF.fillna(0)"
      ],
      "metadata": {
        "colab": {
          "base_uri": "https://localhost:8080/",
          "height": 600
        },
        "id": "hlwWyskMTynv",
        "outputId": "a439d8f7-7d05-4dd7-9b71-c1a5e12b69d9"
      },
      "execution_count": 36,
      "outputs": [
        {
          "output_type": "execute_result",
          "data": {
            "text/plain": [
              "      customerID Churn  gender  SeniorCitizen Partner Dependents  tenure  \\\n",
              "0     0002-ORFBO    No  Female              0     Yes        Yes       9   \n",
              "1     0003-MKNFE    No    Male              0      No         No       9   \n",
              "2     0004-TLHLJ   Yes    Male              0      No         No       4   \n",
              "3     0011-IGKFF   Yes    Male              1     Yes         No      13   \n",
              "4     0013-EXCHZ   Yes  Female              1     Yes         No       3   \n",
              "...          ...   ...     ...            ...     ...        ...     ...   \n",
              "7262  9987-LUTYD    No  Female              0      No         No      13   \n",
              "7263  9992-RRAMN   Yes    Male              0     Yes         No      22   \n",
              "7264  9992-UJOEL    No    Male              0      No         No       2   \n",
              "7265  9993-LHIEB    No    Male              0     Yes        Yes      67   \n",
              "7266  9995-HOTOH    No    Male              0     Yes        Yes      63   \n",
              "\n",
              "     PhoneService     MultipleLines InternetService  ... OnlineBackup  \\\n",
              "0             Yes                No             DSL  ...          Yes   \n",
              "1             Yes               Yes             DSL  ...           No   \n",
              "2             Yes                No     Fiber optic  ...           No   \n",
              "3             Yes                No     Fiber optic  ...          Yes   \n",
              "4             Yes                No     Fiber optic  ...           No   \n",
              "...           ...               ...             ...  ...          ...   \n",
              "7262          Yes                No             DSL  ...           No   \n",
              "7263          Yes               Yes     Fiber optic  ...           No   \n",
              "7264          Yes                No             DSL  ...          Yes   \n",
              "7265          Yes                No             DSL  ...           No   \n",
              "7266           No  No phone service             DSL  ...          Yes   \n",
              "\n",
              "     DeviceProtection TechSupport StreamingTV StreamingMovies        Contract  \\\n",
              "0                  No         Yes         Yes              No        One year   \n",
              "1                  No          No          No             Yes  Month-to-month   \n",
              "2                 Yes          No          No              No  Month-to-month   \n",
              "3                 Yes          No         Yes             Yes  Month-to-month   \n",
              "4                  No         Yes         Yes              No  Month-to-month   \n",
              "...               ...         ...         ...             ...             ...   \n",
              "7262               No         Yes          No              No        One year   \n",
              "7263               No          No          No             Yes  Month-to-month   \n",
              "7264               No          No          No              No  Month-to-month   \n",
              "7265              Yes         Yes          No             Yes        Two year   \n",
              "7266              Yes          No         Yes             Yes        Two year   \n",
              "\n",
              "     PaperlessBilling     PaymentMethod Charges.Monthly  Charges.Total  \n",
              "0                 Yes      Mailed check           65.60         593.30  \n",
              "1                  No      Mailed check           59.90         542.40  \n",
              "2                 Yes  Electronic check           73.90         280.85  \n",
              "3                 Yes  Electronic check           98.00        1237.85  \n",
              "4                 Yes      Mailed check           83.90         267.40  \n",
              "...               ...               ...             ...            ...  \n",
              "7262               No      Mailed check           55.15         742.90  \n",
              "7263              Yes  Electronic check           85.10        1873.70  \n",
              "7264              Yes      Mailed check           50.30          92.75  \n",
              "7265               No      Mailed check           67.85        4627.65  \n",
              "7266               No  Electronic check           59.00        3707.60  \n",
              "\n",
              "[7267 rows x 21 columns]"
            ],
            "text/html": [
              "\n",
              "  <div id=\"df-dbf6c592-c44e-4676-9c52-c8befc60a0cb\" class=\"colab-df-container\">\n",
              "    <div>\n",
              "<style scoped>\n",
              "    .dataframe tbody tr th:only-of-type {\n",
              "        vertical-align: middle;\n",
              "    }\n",
              "\n",
              "    .dataframe tbody tr th {\n",
              "        vertical-align: top;\n",
              "    }\n",
              "\n",
              "    .dataframe thead th {\n",
              "        text-align: right;\n",
              "    }\n",
              "</style>\n",
              "<table border=\"1\" class=\"dataframe\">\n",
              "  <thead>\n",
              "    <tr style=\"text-align: right;\">\n",
              "      <th></th>\n",
              "      <th>customerID</th>\n",
              "      <th>Churn</th>\n",
              "      <th>gender</th>\n",
              "      <th>SeniorCitizen</th>\n",
              "      <th>Partner</th>\n",
              "      <th>Dependents</th>\n",
              "      <th>tenure</th>\n",
              "      <th>PhoneService</th>\n",
              "      <th>MultipleLines</th>\n",
              "      <th>InternetService</th>\n",
              "      <th>...</th>\n",
              "      <th>OnlineBackup</th>\n",
              "      <th>DeviceProtection</th>\n",
              "      <th>TechSupport</th>\n",
              "      <th>StreamingTV</th>\n",
              "      <th>StreamingMovies</th>\n",
              "      <th>Contract</th>\n",
              "      <th>PaperlessBilling</th>\n",
              "      <th>PaymentMethod</th>\n",
              "      <th>Charges.Monthly</th>\n",
              "      <th>Charges.Total</th>\n",
              "    </tr>\n",
              "  </thead>\n",
              "  <tbody>\n",
              "    <tr>\n",
              "      <th>0</th>\n",
              "      <td>0002-ORFBO</td>\n",
              "      <td>No</td>\n",
              "      <td>Female</td>\n",
              "      <td>0</td>\n",
              "      <td>Yes</td>\n",
              "      <td>Yes</td>\n",
              "      <td>9</td>\n",
              "      <td>Yes</td>\n",
              "      <td>No</td>\n",
              "      <td>DSL</td>\n",
              "      <td>...</td>\n",
              "      <td>Yes</td>\n",
              "      <td>No</td>\n",
              "      <td>Yes</td>\n",
              "      <td>Yes</td>\n",
              "      <td>No</td>\n",
              "      <td>One year</td>\n",
              "      <td>Yes</td>\n",
              "      <td>Mailed check</td>\n",
              "      <td>65.60</td>\n",
              "      <td>593.30</td>\n",
              "    </tr>\n",
              "    <tr>\n",
              "      <th>1</th>\n",
              "      <td>0003-MKNFE</td>\n",
              "      <td>No</td>\n",
              "      <td>Male</td>\n",
              "      <td>0</td>\n",
              "      <td>No</td>\n",
              "      <td>No</td>\n",
              "      <td>9</td>\n",
              "      <td>Yes</td>\n",
              "      <td>Yes</td>\n",
              "      <td>DSL</td>\n",
              "      <td>...</td>\n",
              "      <td>No</td>\n",
              "      <td>No</td>\n",
              "      <td>No</td>\n",
              "      <td>No</td>\n",
              "      <td>Yes</td>\n",
              "      <td>Month-to-month</td>\n",
              "      <td>No</td>\n",
              "      <td>Mailed check</td>\n",
              "      <td>59.90</td>\n",
              "      <td>542.40</td>\n",
              "    </tr>\n",
              "    <tr>\n",
              "      <th>2</th>\n",
              "      <td>0004-TLHLJ</td>\n",
              "      <td>Yes</td>\n",
              "      <td>Male</td>\n",
              "      <td>0</td>\n",
              "      <td>No</td>\n",
              "      <td>No</td>\n",
              "      <td>4</td>\n",
              "      <td>Yes</td>\n",
              "      <td>No</td>\n",
              "      <td>Fiber optic</td>\n",
              "      <td>...</td>\n",
              "      <td>No</td>\n",
              "      <td>Yes</td>\n",
              "      <td>No</td>\n",
              "      <td>No</td>\n",
              "      <td>No</td>\n",
              "      <td>Month-to-month</td>\n",
              "      <td>Yes</td>\n",
              "      <td>Electronic check</td>\n",
              "      <td>73.90</td>\n",
              "      <td>280.85</td>\n",
              "    </tr>\n",
              "    <tr>\n",
              "      <th>3</th>\n",
              "      <td>0011-IGKFF</td>\n",
              "      <td>Yes</td>\n",
              "      <td>Male</td>\n",
              "      <td>1</td>\n",
              "      <td>Yes</td>\n",
              "      <td>No</td>\n",
              "      <td>13</td>\n",
              "      <td>Yes</td>\n",
              "      <td>No</td>\n",
              "      <td>Fiber optic</td>\n",
              "      <td>...</td>\n",
              "      <td>Yes</td>\n",
              "      <td>Yes</td>\n",
              "      <td>No</td>\n",
              "      <td>Yes</td>\n",
              "      <td>Yes</td>\n",
              "      <td>Month-to-month</td>\n",
              "      <td>Yes</td>\n",
              "      <td>Electronic check</td>\n",
              "      <td>98.00</td>\n",
              "      <td>1237.85</td>\n",
              "    </tr>\n",
              "    <tr>\n",
              "      <th>4</th>\n",
              "      <td>0013-EXCHZ</td>\n",
              "      <td>Yes</td>\n",
              "      <td>Female</td>\n",
              "      <td>1</td>\n",
              "      <td>Yes</td>\n",
              "      <td>No</td>\n",
              "      <td>3</td>\n",
              "      <td>Yes</td>\n",
              "      <td>No</td>\n",
              "      <td>Fiber optic</td>\n",
              "      <td>...</td>\n",
              "      <td>No</td>\n",
              "      <td>No</td>\n",
              "      <td>Yes</td>\n",
              "      <td>Yes</td>\n",
              "      <td>No</td>\n",
              "      <td>Month-to-month</td>\n",
              "      <td>Yes</td>\n",
              "      <td>Mailed check</td>\n",
              "      <td>83.90</td>\n",
              "      <td>267.40</td>\n",
              "    </tr>\n",
              "    <tr>\n",
              "      <th>...</th>\n",
              "      <td>...</td>\n",
              "      <td>...</td>\n",
              "      <td>...</td>\n",
              "      <td>...</td>\n",
              "      <td>...</td>\n",
              "      <td>...</td>\n",
              "      <td>...</td>\n",
              "      <td>...</td>\n",
              "      <td>...</td>\n",
              "      <td>...</td>\n",
              "      <td>...</td>\n",
              "      <td>...</td>\n",
              "      <td>...</td>\n",
              "      <td>...</td>\n",
              "      <td>...</td>\n",
              "      <td>...</td>\n",
              "      <td>...</td>\n",
              "      <td>...</td>\n",
              "      <td>...</td>\n",
              "      <td>...</td>\n",
              "      <td>...</td>\n",
              "    </tr>\n",
              "    <tr>\n",
              "      <th>7262</th>\n",
              "      <td>9987-LUTYD</td>\n",
              "      <td>No</td>\n",
              "      <td>Female</td>\n",
              "      <td>0</td>\n",
              "      <td>No</td>\n",
              "      <td>No</td>\n",
              "      <td>13</td>\n",
              "      <td>Yes</td>\n",
              "      <td>No</td>\n",
              "      <td>DSL</td>\n",
              "      <td>...</td>\n",
              "      <td>No</td>\n",
              "      <td>No</td>\n",
              "      <td>Yes</td>\n",
              "      <td>No</td>\n",
              "      <td>No</td>\n",
              "      <td>One year</td>\n",
              "      <td>No</td>\n",
              "      <td>Mailed check</td>\n",
              "      <td>55.15</td>\n",
              "      <td>742.90</td>\n",
              "    </tr>\n",
              "    <tr>\n",
              "      <th>7263</th>\n",
              "      <td>9992-RRAMN</td>\n",
              "      <td>Yes</td>\n",
              "      <td>Male</td>\n",
              "      <td>0</td>\n",
              "      <td>Yes</td>\n",
              "      <td>No</td>\n",
              "      <td>22</td>\n",
              "      <td>Yes</td>\n",
              "      <td>Yes</td>\n",
              "      <td>Fiber optic</td>\n",
              "      <td>...</td>\n",
              "      <td>No</td>\n",
              "      <td>No</td>\n",
              "      <td>No</td>\n",
              "      <td>No</td>\n",
              "      <td>Yes</td>\n",
              "      <td>Month-to-month</td>\n",
              "      <td>Yes</td>\n",
              "      <td>Electronic check</td>\n",
              "      <td>85.10</td>\n",
              "      <td>1873.70</td>\n",
              "    </tr>\n",
              "    <tr>\n",
              "      <th>7264</th>\n",
              "      <td>9992-UJOEL</td>\n",
              "      <td>No</td>\n",
              "      <td>Male</td>\n",
              "      <td>0</td>\n",
              "      <td>No</td>\n",
              "      <td>No</td>\n",
              "      <td>2</td>\n",
              "      <td>Yes</td>\n",
              "      <td>No</td>\n",
              "      <td>DSL</td>\n",
              "      <td>...</td>\n",
              "      <td>Yes</td>\n",
              "      <td>No</td>\n",
              "      <td>No</td>\n",
              "      <td>No</td>\n",
              "      <td>No</td>\n",
              "      <td>Month-to-month</td>\n",
              "      <td>Yes</td>\n",
              "      <td>Mailed check</td>\n",
              "      <td>50.30</td>\n",
              "      <td>92.75</td>\n",
              "    </tr>\n",
              "    <tr>\n",
              "      <th>7265</th>\n",
              "      <td>9993-LHIEB</td>\n",
              "      <td>No</td>\n",
              "      <td>Male</td>\n",
              "      <td>0</td>\n",
              "      <td>Yes</td>\n",
              "      <td>Yes</td>\n",
              "      <td>67</td>\n",
              "      <td>Yes</td>\n",
              "      <td>No</td>\n",
              "      <td>DSL</td>\n",
              "      <td>...</td>\n",
              "      <td>No</td>\n",
              "      <td>Yes</td>\n",
              "      <td>Yes</td>\n",
              "      <td>No</td>\n",
              "      <td>Yes</td>\n",
              "      <td>Two year</td>\n",
              "      <td>No</td>\n",
              "      <td>Mailed check</td>\n",
              "      <td>67.85</td>\n",
              "      <td>4627.65</td>\n",
              "    </tr>\n",
              "    <tr>\n",
              "      <th>7266</th>\n",
              "      <td>9995-HOTOH</td>\n",
              "      <td>No</td>\n",
              "      <td>Male</td>\n",
              "      <td>0</td>\n",
              "      <td>Yes</td>\n",
              "      <td>Yes</td>\n",
              "      <td>63</td>\n",
              "      <td>No</td>\n",
              "      <td>No phone service</td>\n",
              "      <td>DSL</td>\n",
              "      <td>...</td>\n",
              "      <td>Yes</td>\n",
              "      <td>Yes</td>\n",
              "      <td>No</td>\n",
              "      <td>Yes</td>\n",
              "      <td>Yes</td>\n",
              "      <td>Two year</td>\n",
              "      <td>No</td>\n",
              "      <td>Electronic check</td>\n",
              "      <td>59.00</td>\n",
              "      <td>3707.60</td>\n",
              "    </tr>\n",
              "  </tbody>\n",
              "</table>\n",
              "<p>7267 rows × 21 columns</p>\n",
              "</div>\n",
              "    <div class=\"colab-df-buttons\">\n",
              "\n",
              "  <div class=\"colab-df-container\">\n",
              "    <button class=\"colab-df-convert\" onclick=\"convertToInteractive('df-dbf6c592-c44e-4676-9c52-c8befc60a0cb')\"\n",
              "            title=\"Convert this dataframe to an interactive table.\"\n",
              "            style=\"display:none;\">\n",
              "\n",
              "  <svg xmlns=\"http://www.w3.org/2000/svg\" height=\"24px\" viewBox=\"0 -960 960 960\">\n",
              "    <path d=\"M120-120v-720h720v720H120Zm60-500h600v-160H180v160Zm220 220h160v-160H400v160Zm0 220h160v-160H400v160ZM180-400h160v-160H180v160Zm440 0h160v-160H620v160ZM180-180h160v-160H180v160Zm440 0h160v-160H620v160Z\"/>\n",
              "  </svg>\n",
              "    </button>\n",
              "\n",
              "  <style>\n",
              "    .colab-df-container {\n",
              "      display:flex;\n",
              "      gap: 12px;\n",
              "    }\n",
              "\n",
              "    .colab-df-convert {\n",
              "      background-color: #E8F0FE;\n",
              "      border: none;\n",
              "      border-radius: 50%;\n",
              "      cursor: pointer;\n",
              "      display: none;\n",
              "      fill: #1967D2;\n",
              "      height: 32px;\n",
              "      padding: 0 0 0 0;\n",
              "      width: 32px;\n",
              "    }\n",
              "\n",
              "    .colab-df-convert:hover {\n",
              "      background-color: #E2EBFA;\n",
              "      box-shadow: 0px 1px 2px rgba(60, 64, 67, 0.3), 0px 1px 3px 1px rgba(60, 64, 67, 0.15);\n",
              "      fill: #174EA6;\n",
              "    }\n",
              "\n",
              "    .colab-df-buttons div {\n",
              "      margin-bottom: 4px;\n",
              "    }\n",
              "\n",
              "    [theme=dark] .colab-df-convert {\n",
              "      background-color: #3B4455;\n",
              "      fill: #D2E3FC;\n",
              "    }\n",
              "\n",
              "    [theme=dark] .colab-df-convert:hover {\n",
              "      background-color: #434B5C;\n",
              "      box-shadow: 0px 1px 3px 1px rgba(0, 0, 0, 0.15);\n",
              "      filter: drop-shadow(0px 1px 2px rgba(0, 0, 0, 0.3));\n",
              "      fill: #FFFFFF;\n",
              "    }\n",
              "  </style>\n",
              "\n",
              "    <script>\n",
              "      const buttonEl =\n",
              "        document.querySelector('#df-dbf6c592-c44e-4676-9c52-c8befc60a0cb button.colab-df-convert');\n",
              "      buttonEl.style.display =\n",
              "        google.colab.kernel.accessAllowed ? 'block' : 'none';\n",
              "\n",
              "      async function convertToInteractive(key) {\n",
              "        const element = document.querySelector('#df-dbf6c592-c44e-4676-9c52-c8befc60a0cb');\n",
              "        const dataTable =\n",
              "          await google.colab.kernel.invokeFunction('convertToInteractive',\n",
              "                                                    [key], {});\n",
              "        if (!dataTable) return;\n",
              "\n",
              "        const docLinkHtml = 'Like what you see? Visit the ' +\n",
              "          '<a target=\"_blank\" href=https://colab.research.google.com/notebooks/data_table.ipynb>data table notebook</a>'\n",
              "          + ' to learn more about interactive tables.';\n",
              "        element.innerHTML = '';\n",
              "        dataTable['output_type'] = 'display_data';\n",
              "        await google.colab.output.renderOutput(dataTable, element);\n",
              "        const docLink = document.createElement('div');\n",
              "        docLink.innerHTML = docLinkHtml;\n",
              "        element.appendChild(docLink);\n",
              "      }\n",
              "    </script>\n",
              "  </div>\n",
              "\n",
              "\n",
              "    <div id=\"df-9012eecd-156f-4ac0-b46c-ea34e26a2ca8\">\n",
              "      <button class=\"colab-df-quickchart\" onclick=\"quickchart('df-9012eecd-156f-4ac0-b46c-ea34e26a2ca8')\"\n",
              "                title=\"Suggest charts\"\n",
              "                style=\"display:none;\">\n",
              "\n",
              "<svg xmlns=\"http://www.w3.org/2000/svg\" height=\"24px\"viewBox=\"0 0 24 24\"\n",
              "     width=\"24px\">\n",
              "    <g>\n",
              "        <path d=\"M19 3H5c-1.1 0-2 .9-2 2v14c0 1.1.9 2 2 2h14c1.1 0 2-.9 2-2V5c0-1.1-.9-2-2-2zM9 17H7v-7h2v7zm4 0h-2V7h2v10zm4 0h-2v-4h2v4z\"/>\n",
              "    </g>\n",
              "</svg>\n",
              "      </button>\n",
              "\n",
              "<style>\n",
              "  .colab-df-quickchart {\n",
              "      --bg-color: #E8F0FE;\n",
              "      --fill-color: #1967D2;\n",
              "      --hover-bg-color: #E2EBFA;\n",
              "      --hover-fill-color: #174EA6;\n",
              "      --disabled-fill-color: #AAA;\n",
              "      --disabled-bg-color: #DDD;\n",
              "  }\n",
              "\n",
              "  [theme=dark] .colab-df-quickchart {\n",
              "      --bg-color: #3B4455;\n",
              "      --fill-color: #D2E3FC;\n",
              "      --hover-bg-color: #434B5C;\n",
              "      --hover-fill-color: #FFFFFF;\n",
              "      --disabled-bg-color: #3B4455;\n",
              "      --disabled-fill-color: #666;\n",
              "  }\n",
              "\n",
              "  .colab-df-quickchart {\n",
              "    background-color: var(--bg-color);\n",
              "    border: none;\n",
              "    border-radius: 50%;\n",
              "    cursor: pointer;\n",
              "    display: none;\n",
              "    fill: var(--fill-color);\n",
              "    height: 32px;\n",
              "    padding: 0;\n",
              "    width: 32px;\n",
              "  }\n",
              "\n",
              "  .colab-df-quickchart:hover {\n",
              "    background-color: var(--hover-bg-color);\n",
              "    box-shadow: 0 1px 2px rgba(60, 64, 67, 0.3), 0 1px 3px 1px rgba(60, 64, 67, 0.15);\n",
              "    fill: var(--button-hover-fill-color);\n",
              "  }\n",
              "\n",
              "  .colab-df-quickchart-complete:disabled,\n",
              "  .colab-df-quickchart-complete:disabled:hover {\n",
              "    background-color: var(--disabled-bg-color);\n",
              "    fill: var(--disabled-fill-color);\n",
              "    box-shadow: none;\n",
              "  }\n",
              "\n",
              "  .colab-df-spinner {\n",
              "    border: 2px solid var(--fill-color);\n",
              "    border-color: transparent;\n",
              "    border-bottom-color: var(--fill-color);\n",
              "    animation:\n",
              "      spin 1s steps(1) infinite;\n",
              "  }\n",
              "\n",
              "  @keyframes spin {\n",
              "    0% {\n",
              "      border-color: transparent;\n",
              "      border-bottom-color: var(--fill-color);\n",
              "      border-left-color: var(--fill-color);\n",
              "    }\n",
              "    20% {\n",
              "      border-color: transparent;\n",
              "      border-left-color: var(--fill-color);\n",
              "      border-top-color: var(--fill-color);\n",
              "    }\n",
              "    30% {\n",
              "      border-color: transparent;\n",
              "      border-left-color: var(--fill-color);\n",
              "      border-top-color: var(--fill-color);\n",
              "      border-right-color: var(--fill-color);\n",
              "    }\n",
              "    40% {\n",
              "      border-color: transparent;\n",
              "      border-right-color: var(--fill-color);\n",
              "      border-top-color: var(--fill-color);\n",
              "    }\n",
              "    60% {\n",
              "      border-color: transparent;\n",
              "      border-right-color: var(--fill-color);\n",
              "    }\n",
              "    80% {\n",
              "      border-color: transparent;\n",
              "      border-right-color: var(--fill-color);\n",
              "      border-bottom-color: var(--fill-color);\n",
              "    }\n",
              "    90% {\n",
              "      border-color: transparent;\n",
              "      border-bottom-color: var(--fill-color);\n",
              "    }\n",
              "  }\n",
              "</style>\n",
              "\n",
              "      <script>\n",
              "        async function quickchart(key) {\n",
              "          const quickchartButtonEl =\n",
              "            document.querySelector('#' + key + ' button');\n",
              "          quickchartButtonEl.disabled = true;  // To prevent multiple clicks.\n",
              "          quickchartButtonEl.classList.add('colab-df-spinner');\n",
              "          try {\n",
              "            const charts = await google.colab.kernel.invokeFunction(\n",
              "                'suggestCharts', [key], {});\n",
              "          } catch (error) {\n",
              "            console.error('Error during call to suggestCharts:', error);\n",
              "          }\n",
              "          quickchartButtonEl.classList.remove('colab-df-spinner');\n",
              "          quickchartButtonEl.classList.add('colab-df-quickchart-complete');\n",
              "        }\n",
              "        (() => {\n",
              "          let quickchartButtonEl =\n",
              "            document.querySelector('#df-9012eecd-156f-4ac0-b46c-ea34e26a2ca8 button');\n",
              "          quickchartButtonEl.style.display =\n",
              "            google.colab.kernel.accessAllowed ? 'block' : 'none';\n",
              "        })();\n",
              "      </script>\n",
              "    </div>\n",
              "\n",
              "    </div>\n",
              "  </div>\n"
            ],
            "application/vnd.google.colaboratory.intrinsic+json": {
              "type": "dataframe"
            }
          },
          "metadata": {},
          "execution_count": 36
        }
      ]
    },
    {
      "cell_type": "code",
      "source": [
        "# Transfomando o data frame sem os dados nulos em um novo 'df'.\n",
        "\n",
        "telecomDF = telecomDF.fillna(0)"
      ],
      "metadata": {
        "id": "mBY6XmeoTygR"
      },
      "execution_count": 37,
      "outputs": []
    },
    {
      "cell_type": "code",
      "source": [
        "# Verificando a exlusão de dados nulos, agora com o telecomDF já tratado.\n",
        "\n",
        "telecomDF.isnull().sum()"
      ],
      "metadata": {
        "colab": {
          "base_uri": "https://localhost:8080/",
          "height": 742
        },
        "id": "fwCpukjXaMel",
        "outputId": "07e92767-b2ef-4872-87df-255418099747"
      },
      "execution_count": 38,
      "outputs": [
        {
          "output_type": "execute_result",
          "data": {
            "text/plain": [
              "customerID          0\n",
              "Churn               0\n",
              "gender              0\n",
              "SeniorCitizen       0\n",
              "Partner             0\n",
              "Dependents          0\n",
              "tenure              0\n",
              "PhoneService        0\n",
              "MultipleLines       0\n",
              "InternetService     0\n",
              "OnlineSecurity      0\n",
              "OnlineBackup        0\n",
              "DeviceProtection    0\n",
              "TechSupport         0\n",
              "StreamingTV         0\n",
              "StreamingMovies     0\n",
              "Contract            0\n",
              "PaperlessBilling    0\n",
              "PaymentMethod       0\n",
              "Charges.Monthly     0\n",
              "Charges.Total       0\n",
              "dtype: int64"
            ],
            "text/html": [
              "<div>\n",
              "<style scoped>\n",
              "    .dataframe tbody tr th:only-of-type {\n",
              "        vertical-align: middle;\n",
              "    }\n",
              "\n",
              "    .dataframe tbody tr th {\n",
              "        vertical-align: top;\n",
              "    }\n",
              "\n",
              "    .dataframe thead th {\n",
              "        text-align: right;\n",
              "    }\n",
              "</style>\n",
              "<table border=\"1\" class=\"dataframe\">\n",
              "  <thead>\n",
              "    <tr style=\"text-align: right;\">\n",
              "      <th></th>\n",
              "      <th>0</th>\n",
              "    </tr>\n",
              "  </thead>\n",
              "  <tbody>\n",
              "    <tr>\n",
              "      <th>customerID</th>\n",
              "      <td>0</td>\n",
              "    </tr>\n",
              "    <tr>\n",
              "      <th>Churn</th>\n",
              "      <td>0</td>\n",
              "    </tr>\n",
              "    <tr>\n",
              "      <th>gender</th>\n",
              "      <td>0</td>\n",
              "    </tr>\n",
              "    <tr>\n",
              "      <th>SeniorCitizen</th>\n",
              "      <td>0</td>\n",
              "    </tr>\n",
              "    <tr>\n",
              "      <th>Partner</th>\n",
              "      <td>0</td>\n",
              "    </tr>\n",
              "    <tr>\n",
              "      <th>Dependents</th>\n",
              "      <td>0</td>\n",
              "    </tr>\n",
              "    <tr>\n",
              "      <th>tenure</th>\n",
              "      <td>0</td>\n",
              "    </tr>\n",
              "    <tr>\n",
              "      <th>PhoneService</th>\n",
              "      <td>0</td>\n",
              "    </tr>\n",
              "    <tr>\n",
              "      <th>MultipleLines</th>\n",
              "      <td>0</td>\n",
              "    </tr>\n",
              "    <tr>\n",
              "      <th>InternetService</th>\n",
              "      <td>0</td>\n",
              "    </tr>\n",
              "    <tr>\n",
              "      <th>OnlineSecurity</th>\n",
              "      <td>0</td>\n",
              "    </tr>\n",
              "    <tr>\n",
              "      <th>OnlineBackup</th>\n",
              "      <td>0</td>\n",
              "    </tr>\n",
              "    <tr>\n",
              "      <th>DeviceProtection</th>\n",
              "      <td>0</td>\n",
              "    </tr>\n",
              "    <tr>\n",
              "      <th>TechSupport</th>\n",
              "      <td>0</td>\n",
              "    </tr>\n",
              "    <tr>\n",
              "      <th>StreamingTV</th>\n",
              "      <td>0</td>\n",
              "    </tr>\n",
              "    <tr>\n",
              "      <th>StreamingMovies</th>\n",
              "      <td>0</td>\n",
              "    </tr>\n",
              "    <tr>\n",
              "      <th>Contract</th>\n",
              "      <td>0</td>\n",
              "    </tr>\n",
              "    <tr>\n",
              "      <th>PaperlessBilling</th>\n",
              "      <td>0</td>\n",
              "    </tr>\n",
              "    <tr>\n",
              "      <th>PaymentMethod</th>\n",
              "      <td>0</td>\n",
              "    </tr>\n",
              "    <tr>\n",
              "      <th>Charges.Monthly</th>\n",
              "      <td>0</td>\n",
              "    </tr>\n",
              "    <tr>\n",
              "      <th>Charges.Total</th>\n",
              "      <td>0</td>\n",
              "    </tr>\n",
              "  </tbody>\n",
              "</table>\n",
              "</div><br><label><b>dtype:</b> int64</label>"
            ]
          },
          "metadata": {},
          "execution_count": 38
        }
      ]
    },
    {
      "cell_type": "markdown",
      "source": [
        "Tratando a coluna '***Churn*** '"
      ],
      "metadata": {
        "id": "Bjwlihzgfr8m"
      }
    },
    {
      "cell_type": "code",
      "source": [
        "# O '' pode gerar inconsistêcia, pois a resposta para essa coluna é: Sim ou Não\n",
        "# String\n",
        "pd.unique(telecomDF['Churn'])"
      ],
      "metadata": {
        "colab": {
          "base_uri": "https://localhost:8080/"
        },
        "id": "M2WaUJDZacli",
        "outputId": "9f7b485b-1c93-45bb-dd26-0c651fe09c32"
      },
      "execution_count": 39,
      "outputs": [
        {
          "output_type": "execute_result",
          "data": {
            "text/plain": [
              "array(['No', 'Yes', ''], dtype=object)"
            ]
          },
          "metadata": {},
          "execution_count": 39
        }
      ]
    },
    {
      "cell_type": "code",
      "source": [
        "'''\n",
        "OBS: Existe strings vazias (''), na coluna 'Churn'. Farei a remoção para uma me-\n",
        "lhoranálise dos dados.\n",
        "'''\n",
        "telecomDF['Churn'] = telecomDF['Churn'].replace('', np.nan)\n",
        "telecomDF.dropna(subset=['Churn'], inplace=True)"
      ],
      "metadata": {
        "id": "9NdUIvT9frEh"
      },
      "execution_count": 40,
      "outputs": []
    },
    {
      "cell_type": "code",
      "source": [
        "#Verificando a coluna 'Churn' atualizada\n",
        "print(\"Valores únicos na coluna 'Churn':\", pd.unique(telecomDF['Churn']))"
      ],
      "metadata": {
        "colab": {
          "base_uri": "https://localhost:8080/"
        },
        "id": "Z2vTUlW1fq00",
        "outputId": "a5de1740-6e08-4a06-8244-ff0733dea807"
      },
      "execution_count": 41,
      "outputs": [
        {
          "output_type": "stream",
          "name": "stdout",
          "text": [
            "Valores únicos na coluna 'Churn': ['No' 'Yes']\n"
          ]
        }
      ]
    },
    {
      "cell_type": "markdown",
      "source": [
        "Tratando a coluna '***PaymentMethod***'"
      ],
      "metadata": {
        "id": "WlsDWZhveckA"
      }
    },
    {
      "cell_type": "code",
      "source": [
        "'''\n",
        "Esse array tem palavras entre parênteses. Isso pode gerar dificuldades na análi-\n",
        "se dos dados. Necessário remoção dessas palavras e dos parênteses.\n",
        "'''\n",
        "# Object\n",
        "pd.unique(telecomDF['PaymentMethod'])"
      ],
      "metadata": {
        "colab": {
          "base_uri": "https://localhost:8080/"
        },
        "id": "1vqCV9maaMMw",
        "outputId": "c9800b25-7468-4476-f288-e6350b82a9d4"
      },
      "execution_count": 42,
      "outputs": [
        {
          "output_type": "execute_result",
          "data": {
            "text/plain": [
              "array(['Mailed check', 'Electronic check', 'Credit card (automatic)',\n",
              "       'Bank transfer (automatic)'], dtype=object)"
            ]
          },
          "metadata": {},
          "execution_count": 42
        }
      ]
    },
    {
      "cell_type": "code",
      "source": [
        "'''\n",
        "OBS: Há palavras dentro de parênteses na coluna. Farei a remoção para uma melhor\n",
        "análise dos dados.\n",
        "'''\n",
        "# Removendo as palavras que estão entre os parênteses (e também os parênteses)\n",
        "telecomDF['PaymentMethod'] = telecomDF['PaymentMethod'].str.replace(r'\\([^)]*\\)', '', regex=True)\n",
        "# Removendo os espaços em brancos que sobraram\n",
        "telecomDF['PaymentMethod'] = telecomDF['PaymentMethod'].str.strip()"
      ],
      "metadata": {
        "id": "rkrijKb4aciB"
      },
      "execution_count": 43,
      "outputs": []
    },
    {
      "cell_type": "code",
      "source": [
        "# Verificando a coluna 'PaymentMethod' já sem as palavras entre parênteses.\n",
        "print(\"Valores únicos na coluna 'PaymentMethod':\", pd.unique(telecomDF['PaymentMethod']))"
      ],
      "metadata": {
        "colab": {
          "base_uri": "https://localhost:8080/"
        },
        "id": "CT4VCmjPacdC",
        "outputId": "6fdbf18f-2886-406d-fecb-ce3dcb0a5813"
      },
      "execution_count": 44,
      "outputs": [
        {
          "output_type": "stream",
          "name": "stdout",
          "text": [
            "Valores únicos na coluna 'PaymentMethod': ['Mailed check' 'Electronic check' 'Credit card' 'Bank transfer']\n"
          ]
        }
      ]
    },
    {
      "cell_type": "markdown",
      "source": [
        "## Todos os dados do data frame já estão ***limpos*** e ***tratados***"
      ],
      "metadata": {
        "id": "CnCnGSP-z2aU"
      }
    },
    {
      "cell_type": "markdown",
      "source": [
        "Criando a coluna \"***Contas_Diarias***\"."
      ],
      "metadata": {
        "id": "KTyjLw-TrYCg"
      }
    },
    {
      "cell_type": "code",
      "source": [
        "telecomDF['Contas_Diarias'] = telecomDF['Charges.Monthly'].sum() / 30"
      ],
      "metadata": {
        "id": "3jRMB1_j6RRi"
      },
      "execution_count": 45,
      "outputs": []
    },
    {
      "cell_type": "markdown",
      "source": [
        "Criando uma ***padronização dos dados***, para melhor usá-los no futuro:\n",
        "\n",
        "\" Para esse desafio, vou converter valores textuais como \"**Sim**\" e \"**Não**\" em valores binários (**1 e 0**), para **facilitar o processamento matemático** e a aplicação de modelos analíticos.\"\n",
        "\n",
        "Após a padronização:\n",
        "\n",
        "\n",
        "*   Sim(Yes) = **1**\n",
        "*   Nao(No) = **0**\n",
        "\n"
      ],
      "metadata": {
        "id": "9l1C5g6R6SN5"
      }
    },
    {
      "cell_type": "code",
      "source": [
        "# Transformando dados textuais \"sim\" e \"não\" em binários (1 e 0)\n",
        "\n",
        "# Colunas a serem convertidas\n",
        "texto_para_binario = ['Churn', 'Partner', 'Dependents', 'PhoneService', 'PaperlessBilling',]\n",
        "\n",
        "# Colocando o np.where em cada coluda\n",
        "for coluna in texto_para_binario:\n",
        "    telecomDF[coluna] = np.where(telecomDF[coluna] == 'Yes', 1, 0)"
      ],
      "metadata": {
        "id": "Z83DYKTLza71"
      },
      "execution_count": 46,
      "outputs": []
    },
    {
      "cell_type": "markdown",
      "source": [
        "***Traduzindo colunas***"
      ],
      "metadata": {
        "id": "4ynR25P7oGzI"
      }
    },
    {
      "cell_type": "code",
      "source": [
        "# Dicionário de mapeamento para renomear as colunas\n",
        "colunas_traduzidas = {\n",
        "    'customerID': 'ID_Cliente',\n",
        "    'Churn': 'Rotatividade',\n",
        "    'gender': 'Sexo',\n",
        "    'SeniorCitizen': 'Idoso',\n",
        "    'Partner': 'Parceiro',\n",
        "    'Dependents': 'Dependentes',\n",
        "    'tenure': 'TempoFidelidade',\n",
        "    'PhoneService': 'ServiçoTelefônico',\n",
        "    'MultipleLines': 'MultiplasLinhas',\n",
        "    'InternetService': 'ServiçoInternet',\n",
        "    'OnlineSecurity': 'SegurançaOnline',\n",
        "    'OnlineBackup': 'BackupOnline',\n",
        "    'DeviceProtection': 'ProteçãoDispositivo',\n",
        "    'TechSupport': 'SuporteTecnico',\n",
        "    'StreamingTV': 'StreamingTV',\n",
        "    'StreamingMovies': 'StreamingFilmes',\n",
        "    'Contract': 'Contrato',\n",
        "    'PaperlessBilling': 'FaturamentoEletronico',\n",
        "    'PaymentMethod': 'MetodoPagamento',\n",
        "    'Charges.Monthly': 'CobrançaMensal',\n",
        "    'Charges.Total': 'CobrançaTotal'\n",
        "}\n",
        "\n",
        "# Renomear as colunas no DataFrame\n",
        "telecomDF = telecomDF.rename(columns=colunas_traduzidas)"
      ],
      "metadata": {
        "id": "jszgxxtUvyVq"
      },
      "execution_count": 47,
      "outputs": []
    },
    {
      "cell_type": "markdown",
      "source": [
        "# CARGA E ANÁLISE"
      ],
      "metadata": {
        "id": "5wQ8yDv8q-gg"
      }
    },
    {
      "cell_type": "code",
      "source": [
        "# Análise descritiva dos dados\n",
        "telecomDF.describe()"
      ],
      "metadata": {
        "colab": {
          "base_uri": "https://localhost:8080/",
          "height": 320
        },
        "id": "4jKau2jmvyKr",
        "outputId": "8285a05d-3cbe-47f9-c4a2-64680eacf602"
      },
      "execution_count": 48,
      "outputs": [
        {
          "output_type": "execute_result",
          "data": {
            "text/plain": [
              "       Rotatividade        Idoso     Parceiro  Dependentes  TempoFidelidade  \\\n",
              "count   7043.000000  7043.000000  7043.000000  7043.000000      7043.000000   \n",
              "mean       0.265370     0.162147     0.483033     0.299588        32.371149   \n",
              "std        0.441561     0.368612     0.499748     0.458110        24.559481   \n",
              "min        0.000000     0.000000     0.000000     0.000000         0.000000   \n",
              "25%        0.000000     0.000000     0.000000     0.000000         9.000000   \n",
              "50%        0.000000     0.000000     0.000000     0.000000        29.000000   \n",
              "75%        1.000000     0.000000     1.000000     1.000000        55.000000   \n",
              "max        1.000000     1.000000     1.000000     1.000000        72.000000   \n",
              "\n",
              "       ServiçoTelefônico  FaturamentoEletronico  CobrançaMensal  \\\n",
              "count        7043.000000            7043.000000     7043.000000   \n",
              "mean            0.903166               0.592219       64.761692   \n",
              "std             0.295752               0.491457       30.090047   \n",
              "min             0.000000               0.000000       18.250000   \n",
              "25%             1.000000               0.000000       35.500000   \n",
              "50%             1.000000               1.000000       70.350000   \n",
              "75%             1.000000               1.000000       89.850000   \n",
              "max             1.000000               1.000000      118.750000   \n",
              "\n",
              "       CobrançaTotal  Contas_Diarias  \n",
              "count    7043.000000    7.043000e+03  \n",
              "mean     2279.734304    1.520389e+04  \n",
              "std      2266.794470    2.746869e-10  \n",
              "min         0.000000    1.520389e+04  \n",
              "25%       398.550000    1.520389e+04  \n",
              "50%      1394.550000    1.520389e+04  \n",
              "75%      3786.600000    1.520389e+04  \n",
              "max      8684.800000    1.520389e+04  "
            ],
            "text/html": [
              "\n",
              "  <div id=\"df-ba05978d-d4fc-4b19-b9a7-6f6ec5379cf9\" class=\"colab-df-container\">\n",
              "    <div>\n",
              "<style scoped>\n",
              "    .dataframe tbody tr th:only-of-type {\n",
              "        vertical-align: middle;\n",
              "    }\n",
              "\n",
              "    .dataframe tbody tr th {\n",
              "        vertical-align: top;\n",
              "    }\n",
              "\n",
              "    .dataframe thead th {\n",
              "        text-align: right;\n",
              "    }\n",
              "</style>\n",
              "<table border=\"1\" class=\"dataframe\">\n",
              "  <thead>\n",
              "    <tr style=\"text-align: right;\">\n",
              "      <th></th>\n",
              "      <th>Rotatividade</th>\n",
              "      <th>Idoso</th>\n",
              "      <th>Parceiro</th>\n",
              "      <th>Dependentes</th>\n",
              "      <th>TempoFidelidade</th>\n",
              "      <th>ServiçoTelefônico</th>\n",
              "      <th>FaturamentoEletronico</th>\n",
              "      <th>CobrançaMensal</th>\n",
              "      <th>CobrançaTotal</th>\n",
              "      <th>Contas_Diarias</th>\n",
              "    </tr>\n",
              "  </thead>\n",
              "  <tbody>\n",
              "    <tr>\n",
              "      <th>count</th>\n",
              "      <td>7043.000000</td>\n",
              "      <td>7043.000000</td>\n",
              "      <td>7043.000000</td>\n",
              "      <td>7043.000000</td>\n",
              "      <td>7043.000000</td>\n",
              "      <td>7043.000000</td>\n",
              "      <td>7043.000000</td>\n",
              "      <td>7043.000000</td>\n",
              "      <td>7043.000000</td>\n",
              "      <td>7.043000e+03</td>\n",
              "    </tr>\n",
              "    <tr>\n",
              "      <th>mean</th>\n",
              "      <td>0.265370</td>\n",
              "      <td>0.162147</td>\n",
              "      <td>0.483033</td>\n",
              "      <td>0.299588</td>\n",
              "      <td>32.371149</td>\n",
              "      <td>0.903166</td>\n",
              "      <td>0.592219</td>\n",
              "      <td>64.761692</td>\n",
              "      <td>2279.734304</td>\n",
              "      <td>1.520389e+04</td>\n",
              "    </tr>\n",
              "    <tr>\n",
              "      <th>std</th>\n",
              "      <td>0.441561</td>\n",
              "      <td>0.368612</td>\n",
              "      <td>0.499748</td>\n",
              "      <td>0.458110</td>\n",
              "      <td>24.559481</td>\n",
              "      <td>0.295752</td>\n",
              "      <td>0.491457</td>\n",
              "      <td>30.090047</td>\n",
              "      <td>2266.794470</td>\n",
              "      <td>2.746869e-10</td>\n",
              "    </tr>\n",
              "    <tr>\n",
              "      <th>min</th>\n",
              "      <td>0.000000</td>\n",
              "      <td>0.000000</td>\n",
              "      <td>0.000000</td>\n",
              "      <td>0.000000</td>\n",
              "      <td>0.000000</td>\n",
              "      <td>0.000000</td>\n",
              "      <td>0.000000</td>\n",
              "      <td>18.250000</td>\n",
              "      <td>0.000000</td>\n",
              "      <td>1.520389e+04</td>\n",
              "    </tr>\n",
              "    <tr>\n",
              "      <th>25%</th>\n",
              "      <td>0.000000</td>\n",
              "      <td>0.000000</td>\n",
              "      <td>0.000000</td>\n",
              "      <td>0.000000</td>\n",
              "      <td>9.000000</td>\n",
              "      <td>1.000000</td>\n",
              "      <td>0.000000</td>\n",
              "      <td>35.500000</td>\n",
              "      <td>398.550000</td>\n",
              "      <td>1.520389e+04</td>\n",
              "    </tr>\n",
              "    <tr>\n",
              "      <th>50%</th>\n",
              "      <td>0.000000</td>\n",
              "      <td>0.000000</td>\n",
              "      <td>0.000000</td>\n",
              "      <td>0.000000</td>\n",
              "      <td>29.000000</td>\n",
              "      <td>1.000000</td>\n",
              "      <td>1.000000</td>\n",
              "      <td>70.350000</td>\n",
              "      <td>1394.550000</td>\n",
              "      <td>1.520389e+04</td>\n",
              "    </tr>\n",
              "    <tr>\n",
              "      <th>75%</th>\n",
              "      <td>1.000000</td>\n",
              "      <td>0.000000</td>\n",
              "      <td>1.000000</td>\n",
              "      <td>1.000000</td>\n",
              "      <td>55.000000</td>\n",
              "      <td>1.000000</td>\n",
              "      <td>1.000000</td>\n",
              "      <td>89.850000</td>\n",
              "      <td>3786.600000</td>\n",
              "      <td>1.520389e+04</td>\n",
              "    </tr>\n",
              "    <tr>\n",
              "      <th>max</th>\n",
              "      <td>1.000000</td>\n",
              "      <td>1.000000</td>\n",
              "      <td>1.000000</td>\n",
              "      <td>1.000000</td>\n",
              "      <td>72.000000</td>\n",
              "      <td>1.000000</td>\n",
              "      <td>1.000000</td>\n",
              "      <td>118.750000</td>\n",
              "      <td>8684.800000</td>\n",
              "      <td>1.520389e+04</td>\n",
              "    </tr>\n",
              "  </tbody>\n",
              "</table>\n",
              "</div>\n",
              "    <div class=\"colab-df-buttons\">\n",
              "\n",
              "  <div class=\"colab-df-container\">\n",
              "    <button class=\"colab-df-convert\" onclick=\"convertToInteractive('df-ba05978d-d4fc-4b19-b9a7-6f6ec5379cf9')\"\n",
              "            title=\"Convert this dataframe to an interactive table.\"\n",
              "            style=\"display:none;\">\n",
              "\n",
              "  <svg xmlns=\"http://www.w3.org/2000/svg\" height=\"24px\" viewBox=\"0 -960 960 960\">\n",
              "    <path d=\"M120-120v-720h720v720H120Zm60-500h600v-160H180v160Zm220 220h160v-160H400v160Zm0 220h160v-160H400v160ZM180-400h160v-160H180v160Zm440 0h160v-160H620v160ZM180-180h160v-160H180v160Zm440 0h160v-160H620v160Z\"/>\n",
              "  </svg>\n",
              "    </button>\n",
              "\n",
              "  <style>\n",
              "    .colab-df-container {\n",
              "      display:flex;\n",
              "      gap: 12px;\n",
              "    }\n",
              "\n",
              "    .colab-df-convert {\n",
              "      background-color: #E8F0FE;\n",
              "      border: none;\n",
              "      border-radius: 50%;\n",
              "      cursor: pointer;\n",
              "      display: none;\n",
              "      fill: #1967D2;\n",
              "      height: 32px;\n",
              "      padding: 0 0 0 0;\n",
              "      width: 32px;\n",
              "    }\n",
              "\n",
              "    .colab-df-convert:hover {\n",
              "      background-color: #E2EBFA;\n",
              "      box-shadow: 0px 1px 2px rgba(60, 64, 67, 0.3), 0px 1px 3px 1px rgba(60, 64, 67, 0.15);\n",
              "      fill: #174EA6;\n",
              "    }\n",
              "\n",
              "    .colab-df-buttons div {\n",
              "      margin-bottom: 4px;\n",
              "    }\n",
              "\n",
              "    [theme=dark] .colab-df-convert {\n",
              "      background-color: #3B4455;\n",
              "      fill: #D2E3FC;\n",
              "    }\n",
              "\n",
              "    [theme=dark] .colab-df-convert:hover {\n",
              "      background-color: #434B5C;\n",
              "      box-shadow: 0px 1px 3px 1px rgba(0, 0, 0, 0.15);\n",
              "      filter: drop-shadow(0px 1px 2px rgba(0, 0, 0, 0.3));\n",
              "      fill: #FFFFFF;\n",
              "    }\n",
              "  </style>\n",
              "\n",
              "    <script>\n",
              "      const buttonEl =\n",
              "        document.querySelector('#df-ba05978d-d4fc-4b19-b9a7-6f6ec5379cf9 button.colab-df-convert');\n",
              "      buttonEl.style.display =\n",
              "        google.colab.kernel.accessAllowed ? 'block' : 'none';\n",
              "\n",
              "      async function convertToInteractive(key) {\n",
              "        const element = document.querySelector('#df-ba05978d-d4fc-4b19-b9a7-6f6ec5379cf9');\n",
              "        const dataTable =\n",
              "          await google.colab.kernel.invokeFunction('convertToInteractive',\n",
              "                                                    [key], {});\n",
              "        if (!dataTable) return;\n",
              "\n",
              "        const docLinkHtml = 'Like what you see? Visit the ' +\n",
              "          '<a target=\"_blank\" href=https://colab.research.google.com/notebooks/data_table.ipynb>data table notebook</a>'\n",
              "          + ' to learn more about interactive tables.';\n",
              "        element.innerHTML = '';\n",
              "        dataTable['output_type'] = 'display_data';\n",
              "        await google.colab.output.renderOutput(dataTable, element);\n",
              "        const docLink = document.createElement('div');\n",
              "        docLink.innerHTML = docLinkHtml;\n",
              "        element.appendChild(docLink);\n",
              "      }\n",
              "    </script>\n",
              "  </div>\n",
              "\n",
              "\n",
              "    <div id=\"df-4be50a1b-5875-45c6-9b29-fc6c114d0166\">\n",
              "      <button class=\"colab-df-quickchart\" onclick=\"quickchart('df-4be50a1b-5875-45c6-9b29-fc6c114d0166')\"\n",
              "                title=\"Suggest charts\"\n",
              "                style=\"display:none;\">\n",
              "\n",
              "<svg xmlns=\"http://www.w3.org/2000/svg\" height=\"24px\"viewBox=\"0 0 24 24\"\n",
              "     width=\"24px\">\n",
              "    <g>\n",
              "        <path d=\"M19 3H5c-1.1 0-2 .9-2 2v14c0 1.1.9 2 2 2h14c1.1 0 2-.9 2-2V5c0-1.1-.9-2-2-2zM9 17H7v-7h2v7zm4 0h-2V7h2v10zm4 0h-2v-4h2v4z\"/>\n",
              "    </g>\n",
              "</svg>\n",
              "      </button>\n",
              "\n",
              "<style>\n",
              "  .colab-df-quickchart {\n",
              "      --bg-color: #E8F0FE;\n",
              "      --fill-color: #1967D2;\n",
              "      --hover-bg-color: #E2EBFA;\n",
              "      --hover-fill-color: #174EA6;\n",
              "      --disabled-fill-color: #AAA;\n",
              "      --disabled-bg-color: #DDD;\n",
              "  }\n",
              "\n",
              "  [theme=dark] .colab-df-quickchart {\n",
              "      --bg-color: #3B4455;\n",
              "      --fill-color: #D2E3FC;\n",
              "      --hover-bg-color: #434B5C;\n",
              "      --hover-fill-color: #FFFFFF;\n",
              "      --disabled-bg-color: #3B4455;\n",
              "      --disabled-fill-color: #666;\n",
              "  }\n",
              "\n",
              "  .colab-df-quickchart {\n",
              "    background-color: var(--bg-color);\n",
              "    border: none;\n",
              "    border-radius: 50%;\n",
              "    cursor: pointer;\n",
              "    display: none;\n",
              "    fill: var(--fill-color);\n",
              "    height: 32px;\n",
              "    padding: 0;\n",
              "    width: 32px;\n",
              "  }\n",
              "\n",
              "  .colab-df-quickchart:hover {\n",
              "    background-color: var(--hover-bg-color);\n",
              "    box-shadow: 0 1px 2px rgba(60, 64, 67, 0.3), 0 1px 3px 1px rgba(60, 64, 67, 0.15);\n",
              "    fill: var(--button-hover-fill-color);\n",
              "  }\n",
              "\n",
              "  .colab-df-quickchart-complete:disabled,\n",
              "  .colab-df-quickchart-complete:disabled:hover {\n",
              "    background-color: var(--disabled-bg-color);\n",
              "    fill: var(--disabled-fill-color);\n",
              "    box-shadow: none;\n",
              "  }\n",
              "\n",
              "  .colab-df-spinner {\n",
              "    border: 2px solid var(--fill-color);\n",
              "    border-color: transparent;\n",
              "    border-bottom-color: var(--fill-color);\n",
              "    animation:\n",
              "      spin 1s steps(1) infinite;\n",
              "  }\n",
              "\n",
              "  @keyframes spin {\n",
              "    0% {\n",
              "      border-color: transparent;\n",
              "      border-bottom-color: var(--fill-color);\n",
              "      border-left-color: var(--fill-color);\n",
              "    }\n",
              "    20% {\n",
              "      border-color: transparent;\n",
              "      border-left-color: var(--fill-color);\n",
              "      border-top-color: var(--fill-color);\n",
              "    }\n",
              "    30% {\n",
              "      border-color: transparent;\n",
              "      border-left-color: var(--fill-color);\n",
              "      border-top-color: var(--fill-color);\n",
              "      border-right-color: var(--fill-color);\n",
              "    }\n",
              "    40% {\n",
              "      border-color: transparent;\n",
              "      border-right-color: var(--fill-color);\n",
              "      border-top-color: var(--fill-color);\n",
              "    }\n",
              "    60% {\n",
              "      border-color: transparent;\n",
              "      border-right-color: var(--fill-color);\n",
              "    }\n",
              "    80% {\n",
              "      border-color: transparent;\n",
              "      border-right-color: var(--fill-color);\n",
              "      border-bottom-color: var(--fill-color);\n",
              "    }\n",
              "    90% {\n",
              "      border-color: transparent;\n",
              "      border-bottom-color: var(--fill-color);\n",
              "    }\n",
              "  }\n",
              "</style>\n",
              "\n",
              "      <script>\n",
              "        async function quickchart(key) {\n",
              "          const quickchartButtonEl =\n",
              "            document.querySelector('#' + key + ' button');\n",
              "          quickchartButtonEl.disabled = true;  // To prevent multiple clicks.\n",
              "          quickchartButtonEl.classList.add('colab-df-spinner');\n",
              "          try {\n",
              "            const charts = await google.colab.kernel.invokeFunction(\n",
              "                'suggestCharts', [key], {});\n",
              "          } catch (error) {\n",
              "            console.error('Error during call to suggestCharts:', error);\n",
              "          }\n",
              "          quickchartButtonEl.classList.remove('colab-df-spinner');\n",
              "          quickchartButtonEl.classList.add('colab-df-quickchart-complete');\n",
              "        }\n",
              "        (() => {\n",
              "          let quickchartButtonEl =\n",
              "            document.querySelector('#df-4be50a1b-5875-45c6-9b29-fc6c114d0166 button');\n",
              "          quickchartButtonEl.style.display =\n",
              "            google.colab.kernel.accessAllowed ? 'block' : 'none';\n",
              "        })();\n",
              "      </script>\n",
              "    </div>\n",
              "\n",
              "    </div>\n",
              "  </div>\n"
            ],
            "application/vnd.google.colaboratory.intrinsic+json": {
              "type": "dataframe",
              "summary": "{\n  \"name\": \"telecomDF\",\n  \"rows\": 8,\n  \"fields\": [\n    {\n      \"column\": \"Rotatividade\",\n      \"properties\": {\n        \"dtype\": \"number\",\n        \"std\": 2489.939844235915,\n        \"min\": 0.0,\n        \"max\": 7043.0,\n        \"num_unique_values\": 5,\n        \"samples\": [\n          0.2653698707936959,\n          1.0,\n          0.4415613051219502\n        ],\n        \"semantic_type\": \"\",\n        \"description\": \"\"\n      }\n    },\n    {\n      \"column\": \"Idoso\",\n      \"properties\": {\n        \"dtype\": \"number\",\n        \"std\": 2489.9992387084,\n        \"min\": 0.0,\n        \"max\": 7043.0,\n        \"num_unique_values\": 5,\n        \"samples\": [\n          0.1621468124378816,\n          1.0,\n          0.3686116056100278\n        ],\n        \"semantic_type\": \"\",\n        \"description\": \"\"\n      }\n    },\n    {\n      \"column\": \"Parceiro\",\n      \"properties\": {\n        \"dtype\": \"number\",\n        \"std\": 2489.92591156319,\n        \"min\": 0.0,\n        \"max\": 7043.0,\n        \"num_unique_values\": 5,\n        \"samples\": [\n          0.4830327985233565,\n          1.0,\n          0.49974751072001705\n        ],\n        \"semantic_type\": \"\",\n        \"description\": \"\"\n      }\n    },\n    {\n      \"column\": \"Dependentes\",\n      \"properties\": {\n        \"dtype\": \"number\",\n        \"std\": 2489.9372799481184,\n        \"min\": 0.0,\n        \"max\": 7043.0,\n        \"num_unique_values\": 5,\n        \"samples\": [\n          0.2995882436461735,\n          1.0,\n          0.4581101675100069\n        ],\n        \"semantic_type\": \"\",\n        \"description\": \"\"\n      }\n    },\n    {\n      \"column\": \"TempoFidelidade\",\n      \"properties\": {\n        \"dtype\": \"number\",\n        \"std\": 2478.9752758409018,\n        \"min\": 0.0,\n        \"max\": 7043.0,\n        \"num_unique_values\": 8,\n        \"samples\": [\n          32.37114865824223,\n          29.0,\n          7043.0\n        ],\n        \"semantic_type\": \"\",\n        \"description\": \"\"\n      }\n    },\n    {\n      \"column\": \"Servi\\u00e7oTelef\\u00f4nico\",\n      \"properties\": {\n        \"dtype\": \"number\",\n        \"std\": 2489.813974802202,\n        \"min\": 0.0,\n        \"max\": 7043.0,\n        \"num_unique_values\": 5,\n        \"samples\": [\n          0.9031662643759761,\n          1.0,\n          0.2957522317836505\n        ],\n        \"semantic_type\": \"\",\n        \"description\": \"\"\n      }\n    },\n    {\n      \"column\": \"FaturamentoEletronico\",\n      \"properties\": {\n        \"dtype\": \"number\",\n        \"std\": 2489.8703078652547,\n        \"min\": 0.0,\n        \"max\": 7043.0,\n        \"num_unique_values\": 5,\n        \"samples\": [\n          0.5922192247621753,\n          1.0,\n          0.491456924049444\n        ],\n        \"semantic_type\": \"\",\n        \"description\": \"\"\n      }\n    },\n    {\n      \"column\": \"Cobran\\u00e7aMensal\",\n      \"properties\": {\n        \"dtype\": \"number\",\n        \"std\": 2468.7047672837775,\n        \"min\": 18.25,\n        \"max\": 7043.0,\n        \"num_unique_values\": 8,\n        \"samples\": [\n          64.76169246059918,\n          70.35,\n          7043.0\n        ],\n        \"semantic_type\": \"\",\n        \"description\": \"\"\n      }\n    },\n    {\n      \"column\": \"Cobran\\u00e7aTotal\",\n      \"properties\": {\n        \"dtype\": \"number\",\n        \"std\": 3122.5732655623974,\n        \"min\": 0.0,\n        \"max\": 8684.8,\n        \"num_unique_values\": 8,\n        \"samples\": [\n          2279.7343035638223,\n          1394.55,\n          7043.0\n        ],\n        \"semantic_type\": \"\",\n        \"description\": \"\"\n      }\n    },\n    {\n      \"column\": \"Contas_Diarias\",\n      \"properties\": {\n        \"dtype\": \"number\",\n        \"std\": 5726.120125533268,\n        \"min\": 2.7468690133059503e-10,\n        \"max\": 15203.886666666665,\n        \"num_unique_values\": 4,\n        \"samples\": [\n          15203.88666666666,\n          15203.886666666665,\n          7043.0\n        ],\n        \"semantic_type\": \"\",\n        \"description\": \"\"\n      }\n    }\n  ]\n}"
            }
          },
          "metadata": {},
          "execution_count": 48
        }
      ]
    },
    {
      "cell_type": "markdown",
      "source": [
        "Vou separar colunas ***categóricas*** e ***numéricas***"
      ],
      "metadata": {
        "id": "cp3xpOiQAqHx"
      }
    },
    {
      "cell_type": "code",
      "source": [
        "# Colunas numéricas\n",
        "colunas_numericas = telecomDF.select_dtypes(include=['int64', 'float64']).columns\n",
        "print(\"Colunas numéricas:\", colunas_numericas)\n",
        "\n",
        "# Colunas categóricas\n",
        "colunas_categoricas = telecomDF.select_dtypes(include=['object']).columns\n",
        "print(\"Colunas categóricas:\", colunas_categoricas)"
      ],
      "metadata": {
        "colab": {
          "base_uri": "https://localhost:8080/"
        },
        "id": "9XDSCgE_Ha8Y",
        "outputId": "3a4e265d-ec4c-43e5-e081-0b9c6b5781d2"
      },
      "execution_count": 49,
      "outputs": [
        {
          "output_type": "stream",
          "name": "stdout",
          "text": [
            "Colunas numéricas: Index(['Rotatividade', 'Idoso', 'Parceiro', 'Dependentes', 'TempoFidelidade',\n",
            "       'ServiçoTelefônico', 'FaturamentoEletronico', 'CobrançaMensal',\n",
            "       'CobrançaTotal', 'Contas_Diarias'],\n",
            "      dtype='object')\n",
            "Colunas categóricas: Index(['ID_Cliente', 'Sexo', 'MultiplasLinhas', 'ServiçoInternet',\n",
            "       'SegurançaOnline', 'BackupOnline', 'ProteçãoDispositivo',\n",
            "       'SuporteTecnico', 'StreamingTV', 'StreamingFilmes', 'Contrato',\n",
            "       'MetodoPagamento'],\n",
            "      dtype='object')\n"
          ]
        }
      ]
    },
    {
      "cell_type": "markdown",
      "source": [
        "## Contagem de ***Evasão*** por ***Variáveis Categóricas***"
      ],
      "metadata": {
        "id": "oc9-vwsyyfZm"
      }
    },
    {
      "cell_type": "markdown",
      "source": [
        "Evasão por ***gênero***"
      ],
      "metadata": {
        "id": "otAwgCM_y4ZV"
      }
    },
    {
      "cell_type": "code",
      "source": [
        "# Evasão (churn) de clientes por gênero.\n",
        "\n",
        "'''\n",
        "OBS:\n",
        "- Sim(Yes) = 1\n",
        "- Nao(No) = 0\n",
        "'''\n",
        "tabelaEvasao_genero = telecomDF.groupby('Sexo')['Rotatividade'].value_counts()\n",
        "tabelaEvasao_genero"
      ],
      "metadata": {
        "id": "A_xe-3kTzazg",
        "colab": {
          "base_uri": "https://localhost:8080/",
          "height": 241
        },
        "outputId": "69a19481-dbc6-4ed4-a669-a8b2d4e74c79"
      },
      "execution_count": 50,
      "outputs": [
        {
          "output_type": "execute_result",
          "data": {
            "text/plain": [
              "Sexo    Rotatividade\n",
              "Female  0               2549\n",
              "        1                939\n",
              "Male    0               2625\n",
              "        1                930\n",
              "Name: count, dtype: int64"
            ],
            "text/html": [
              "<div>\n",
              "<style scoped>\n",
              "    .dataframe tbody tr th:only-of-type {\n",
              "        vertical-align: middle;\n",
              "    }\n",
              "\n",
              "    .dataframe tbody tr th {\n",
              "        vertical-align: top;\n",
              "    }\n",
              "\n",
              "    .dataframe thead th {\n",
              "        text-align: right;\n",
              "    }\n",
              "</style>\n",
              "<table border=\"1\" class=\"dataframe\">\n",
              "  <thead>\n",
              "    <tr style=\"text-align: right;\">\n",
              "      <th></th>\n",
              "      <th></th>\n",
              "      <th>count</th>\n",
              "    </tr>\n",
              "    <tr>\n",
              "      <th>Sexo</th>\n",
              "      <th>Rotatividade</th>\n",
              "      <th></th>\n",
              "    </tr>\n",
              "  </thead>\n",
              "  <tbody>\n",
              "    <tr>\n",
              "      <th rowspan=\"2\" valign=\"top\">Female</th>\n",
              "      <th>0</th>\n",
              "      <td>2549</td>\n",
              "    </tr>\n",
              "    <tr>\n",
              "      <th>1</th>\n",
              "      <td>939</td>\n",
              "    </tr>\n",
              "    <tr>\n",
              "      <th rowspan=\"2\" valign=\"top\">Male</th>\n",
              "      <th>0</th>\n",
              "      <td>2625</td>\n",
              "    </tr>\n",
              "    <tr>\n",
              "      <th>1</th>\n",
              "      <td>930</td>\n",
              "    </tr>\n",
              "  </tbody>\n",
              "</table>\n",
              "</div><br><label><b>dtype:</b> int64</label>"
            ]
          },
          "metadata": {},
          "execution_count": 50
        }
      ]
    },
    {
      "cell_type": "markdown",
      "source": [
        "No código abaixo, eu usarei a opção **normalize = 'index '** calcula a ***proporção*** dentro de cada gênero (ex.: % de homens/mulheres que evadiram (churned) vs. % que não evadiram (didn't churn)."
      ],
      "metadata": {
        "id": "mZMBY-xv5Gfs"
      }
    },
    {
      "cell_type": "code",
      "source": [
        "# Tabela cruzada com contagens\n",
        "\n",
        "'''\n",
        "OBS:\n",
        "- Sim(Yes) = 1\n",
        "- Nao(No) = 0\n",
        "'''\n",
        "\n",
        "print(\"\\nContagem de Rotatividade por Sexo:\")\n",
        "tabela_contagem = pd.crosstab(telecomDF['Sexo'], telecomDF['Rotatividade'])\n",
        "print(tabela_contagem)\n",
        "\n",
        "# Tabela cruzada com proporções (percentual por gênero)\n",
        "print(\"\\nProporção de Rotatividade por Sexo (%):\")\n",
        "tabela_proporcao = pd.crosstab(telecomDF['Sexo'],  telecomDF['Rotatividade'], normalize='index').round(2) * 100\n",
        "print(tabela_proporcao)"
      ],
      "metadata": {
        "colab": {
          "base_uri": "https://localhost:8080/"
        },
        "id": "GWw-WJ-V4khf",
        "outputId": "10f198ac-7305-4b80-a6c8-e6625115c3cd"
      },
      "execution_count": 51,
      "outputs": [
        {
          "output_type": "stream",
          "name": "stdout",
          "text": [
            "\n",
            "Contagem de Rotatividade por Sexo:\n",
            "Rotatividade     0    1\n",
            "Sexo                   \n",
            "Female        2549  939\n",
            "Male          2625  930\n",
            "\n",
            "Proporção de Rotatividade por Sexo (%):\n",
            "Rotatividade     0     1\n",
            "Sexo                    \n",
            "Female        73.0  27.0\n",
            "Male          74.0  26.0\n"
          ]
        }
      ]
    },
    {
      "cell_type": "markdown",
      "source": [
        "Evasão por ***tipo de contrato***"
      ],
      "metadata": {
        "id": "VaapqFcs1z_s"
      }
    },
    {
      "cell_type": "code",
      "source": [
        "'''\n",
        "OBS:\n",
        "- Sim(Yes) = 1\n",
        "- Nao(No) = 0\n",
        "'''\n",
        "\n",
        "tabela_evasaoContrato = telecomDF.groupby('Contrato')['Rotatividade'].value_counts()\n",
        "tabela_evasaoContrato\n"
      ],
      "metadata": {
        "id": "weBWPQV76SNd",
        "colab": {
          "base_uri": "https://localhost:8080/",
          "height": 303
        },
        "outputId": "741cf7ad-55ed-47a4-d622-0c713af0ff6a"
      },
      "execution_count": 52,
      "outputs": [
        {
          "output_type": "execute_result",
          "data": {
            "text/plain": [
              "Contrato        Rotatividade\n",
              "Month-to-month  0               2220\n",
              "                1               1655\n",
              "One year        0               1307\n",
              "                1                166\n",
              "Two year        0               1647\n",
              "                1                 48\n",
              "Name: count, dtype: int64"
            ],
            "text/html": [
              "<div>\n",
              "<style scoped>\n",
              "    .dataframe tbody tr th:only-of-type {\n",
              "        vertical-align: middle;\n",
              "    }\n",
              "\n",
              "    .dataframe tbody tr th {\n",
              "        vertical-align: top;\n",
              "    }\n",
              "\n",
              "    .dataframe thead th {\n",
              "        text-align: right;\n",
              "    }\n",
              "</style>\n",
              "<table border=\"1\" class=\"dataframe\">\n",
              "  <thead>\n",
              "    <tr style=\"text-align: right;\">\n",
              "      <th></th>\n",
              "      <th></th>\n",
              "      <th>count</th>\n",
              "    </tr>\n",
              "    <tr>\n",
              "      <th>Contrato</th>\n",
              "      <th>Rotatividade</th>\n",
              "      <th></th>\n",
              "    </tr>\n",
              "  </thead>\n",
              "  <tbody>\n",
              "    <tr>\n",
              "      <th rowspan=\"2\" valign=\"top\">Month-to-month</th>\n",
              "      <th>0</th>\n",
              "      <td>2220</td>\n",
              "    </tr>\n",
              "    <tr>\n",
              "      <th>1</th>\n",
              "      <td>1655</td>\n",
              "    </tr>\n",
              "    <tr>\n",
              "      <th rowspan=\"2\" valign=\"top\">One year</th>\n",
              "      <th>0</th>\n",
              "      <td>1307</td>\n",
              "    </tr>\n",
              "    <tr>\n",
              "      <th>1</th>\n",
              "      <td>166</td>\n",
              "    </tr>\n",
              "    <tr>\n",
              "      <th rowspan=\"2\" valign=\"top\">Two year</th>\n",
              "      <th>0</th>\n",
              "      <td>1647</td>\n",
              "    </tr>\n",
              "    <tr>\n",
              "      <th>1</th>\n",
              "      <td>48</td>\n",
              "    </tr>\n",
              "  </tbody>\n",
              "</table>\n",
              "</div><br><label><b>dtype:</b> int64</label>"
            ]
          },
          "metadata": {},
          "execution_count": 52
        }
      ]
    },
    {
      "cell_type": "code",
      "source": [
        "# Tabela cruzada com contagens\n",
        "print(\"\\nContagem de Rotatividade por Contrato:\")\n",
        "tabela_contagem = pd.crosstab(telecomDF['Contrato'], telecomDF['Rotatividade'])\n",
        "print(tabela_contagem)\n",
        "\n",
        "# Tabela cruzada com proporções (percentual por contrato)\n",
        "print(\"\\nProporção de Rotatividade por Contrato (%):\")\n",
        "tabela_proporcao = pd.crosstab(telecomDF['Contrato'], telecomDF['Rotatividade'], normalize='index').round(2) * 100\n",
        "print(tabela_proporcao)"
      ],
      "metadata": {
        "colab": {
          "base_uri": "https://localhost:8080/"
        },
        "id": "4TRLyNaBBxhu",
        "outputId": "e84de3a4-5449-4009-f1c5-baf2dd199768"
      },
      "execution_count": 53,
      "outputs": [
        {
          "output_type": "stream",
          "name": "stdout",
          "text": [
            "\n",
            "Contagem de Rotatividade por Contrato:\n",
            "Rotatividade       0     1\n",
            "Contrato                  \n",
            "Month-to-month  2220  1655\n",
            "One year        1307   166\n",
            "Two year        1647    48\n",
            "\n",
            "Proporção de Rotatividade por Contrato (%):\n",
            "Rotatividade       0     1\n",
            "Contrato                  \n",
            "Month-to-month  57.0  43.0\n",
            "One year        89.0  11.0\n",
            "Two year        97.0   3.0\n"
          ]
        }
      ]
    },
    {
      "cell_type": "markdown",
      "source": [
        "Evasão por ***método de pagamento***"
      ],
      "metadata": {
        "id": "OrB0hewHSGBi"
      }
    },
    {
      "cell_type": "code",
      "source": [
        "'''\n",
        "OBS:\n",
        "- Sim(Yes) = 1\n",
        "- Nao(No) = 0\n",
        "'''\n",
        "\n",
        "tabela_evasaoMetodoPagamento = telecomDF.groupby('MetodoPagamento')['Rotatividade'].value_counts()\n",
        "tabela_evasaoMetodoPagamento"
      ],
      "metadata": {
        "colab": {
          "base_uri": "https://localhost:8080/",
          "height": 366
        },
        "id": "vt_nwHwb1wcM",
        "outputId": "6dbfec12-ed3b-4af6-f278-e5087856e639"
      },
      "execution_count": 54,
      "outputs": [
        {
          "output_type": "execute_result",
          "data": {
            "text/plain": [
              "MetodoPagamento   Rotatividade\n",
              "Bank transfer     0               1286\n",
              "                  1                258\n",
              "Credit card       0               1290\n",
              "                  1                232\n",
              "Electronic check  0               1294\n",
              "                  1               1071\n",
              "Mailed check      0               1304\n",
              "                  1                308\n",
              "Name: count, dtype: int64"
            ],
            "text/html": [
              "<div>\n",
              "<style scoped>\n",
              "    .dataframe tbody tr th:only-of-type {\n",
              "        vertical-align: middle;\n",
              "    }\n",
              "\n",
              "    .dataframe tbody tr th {\n",
              "        vertical-align: top;\n",
              "    }\n",
              "\n",
              "    .dataframe thead th {\n",
              "        text-align: right;\n",
              "    }\n",
              "</style>\n",
              "<table border=\"1\" class=\"dataframe\">\n",
              "  <thead>\n",
              "    <tr style=\"text-align: right;\">\n",
              "      <th></th>\n",
              "      <th></th>\n",
              "      <th>count</th>\n",
              "    </tr>\n",
              "    <tr>\n",
              "      <th>MetodoPagamento</th>\n",
              "      <th>Rotatividade</th>\n",
              "      <th></th>\n",
              "    </tr>\n",
              "  </thead>\n",
              "  <tbody>\n",
              "    <tr>\n",
              "      <th rowspan=\"2\" valign=\"top\">Bank transfer</th>\n",
              "      <th>0</th>\n",
              "      <td>1286</td>\n",
              "    </tr>\n",
              "    <tr>\n",
              "      <th>1</th>\n",
              "      <td>258</td>\n",
              "    </tr>\n",
              "    <tr>\n",
              "      <th rowspan=\"2\" valign=\"top\">Credit card</th>\n",
              "      <th>0</th>\n",
              "      <td>1290</td>\n",
              "    </tr>\n",
              "    <tr>\n",
              "      <th>1</th>\n",
              "      <td>232</td>\n",
              "    </tr>\n",
              "    <tr>\n",
              "      <th rowspan=\"2\" valign=\"top\">Electronic check</th>\n",
              "      <th>0</th>\n",
              "      <td>1294</td>\n",
              "    </tr>\n",
              "    <tr>\n",
              "      <th>1</th>\n",
              "      <td>1071</td>\n",
              "    </tr>\n",
              "    <tr>\n",
              "      <th rowspan=\"2\" valign=\"top\">Mailed check</th>\n",
              "      <th>0</th>\n",
              "      <td>1304</td>\n",
              "    </tr>\n",
              "    <tr>\n",
              "      <th>1</th>\n",
              "      <td>308</td>\n",
              "    </tr>\n",
              "  </tbody>\n",
              "</table>\n",
              "</div><br><label><b>dtype:</b> int64</label>"
            ]
          },
          "metadata": {},
          "execution_count": 54
        }
      ]
    },
    {
      "cell_type": "code",
      "source": [
        "# Tabela cruzada com contagens\n",
        "print(\"\\nContagem de Rotatividade por método de pagamento:\")\n",
        "tabela_contagem = pd.crosstab(telecomDF['MetodoPagamento'], telecomDF['Rotatividade'])\n",
        "print(tabela_contagem)\n",
        "\n",
        "# Tabela cruzada com proporções (percentual por método de pagamento)\n",
        "print(\"\\nProporção de Rotatividade por método de pagamento (%):\")\n",
        "tabela_proporcao = pd.crosstab(telecomDF['MetodoPagamento'], telecomDF['Rotatividade'], normalize='index').round(2) * 100\n",
        "print(tabela_proporcao)"
      ],
      "metadata": {
        "colab": {
          "base_uri": "https://localhost:8080/"
        },
        "id": "5C2EsAT11wWR",
        "outputId": "87ff039c-2ef8-4841-9078-c62c04f5d2b4"
      },
      "execution_count": 55,
      "outputs": [
        {
          "output_type": "stream",
          "name": "stdout",
          "text": [
            "\n",
            "Contagem de Rotatividade por método de pagamento:\n",
            "Rotatividade         0     1\n",
            "MetodoPagamento             \n",
            "Bank transfer     1286   258\n",
            "Credit card       1290   232\n",
            "Electronic check  1294  1071\n",
            "Mailed check      1304   308\n",
            "\n",
            "Proporção de Rotatividade por método de pagamento (%):\n",
            "Rotatividade         0     1\n",
            "MetodoPagamento             \n",
            "Bank transfer     83.0  17.0\n",
            "Credit card       85.0  15.0\n",
            "Electronic check  55.0  45.0\n",
            "Mailed check      81.0  19.0\n"
          ]
        }
      ]
    },
    {
      "cell_type": "markdown",
      "source": [
        "Evasão por ***serviço de internet***"
      ],
      "metadata": {
        "id": "BqKj8d71bUGK"
      }
    },
    {
      "cell_type": "code",
      "source": [
        "'''\n",
        "OBS:\n",
        "- Sim(Yes) = 1\n",
        "- Nao(No) = 0\n",
        "'''\n",
        "\n",
        "tabela_evasaoServicoInternet = telecomDF.groupby('ServiçoInternet')['Rotatividade'].value_counts()\n",
        "tabela_evasaoServicoInternet"
      ],
      "metadata": {
        "colab": {
          "base_uri": "https://localhost:8080/",
          "height": 303
        },
        "id": "SNvNpLFH1wQ6",
        "outputId": "f7fa7ab8-5944-4477-96dc-92c63539a944"
      },
      "execution_count": 56,
      "outputs": [
        {
          "output_type": "execute_result",
          "data": {
            "text/plain": [
              "ServiçoInternet  Rotatividade\n",
              "DSL              0               1962\n",
              "                 1                459\n",
              "Fiber optic      0               1799\n",
              "                 1               1297\n",
              "No               0               1413\n",
              "                 1                113\n",
              "Name: count, dtype: int64"
            ],
            "text/html": [
              "<div>\n",
              "<style scoped>\n",
              "    .dataframe tbody tr th:only-of-type {\n",
              "        vertical-align: middle;\n",
              "    }\n",
              "\n",
              "    .dataframe tbody tr th {\n",
              "        vertical-align: top;\n",
              "    }\n",
              "\n",
              "    .dataframe thead th {\n",
              "        text-align: right;\n",
              "    }\n",
              "</style>\n",
              "<table border=\"1\" class=\"dataframe\">\n",
              "  <thead>\n",
              "    <tr style=\"text-align: right;\">\n",
              "      <th></th>\n",
              "      <th></th>\n",
              "      <th>count</th>\n",
              "    </tr>\n",
              "    <tr>\n",
              "      <th>ServiçoInternet</th>\n",
              "      <th>Rotatividade</th>\n",
              "      <th></th>\n",
              "    </tr>\n",
              "  </thead>\n",
              "  <tbody>\n",
              "    <tr>\n",
              "      <th rowspan=\"2\" valign=\"top\">DSL</th>\n",
              "      <th>0</th>\n",
              "      <td>1962</td>\n",
              "    </tr>\n",
              "    <tr>\n",
              "      <th>1</th>\n",
              "      <td>459</td>\n",
              "    </tr>\n",
              "    <tr>\n",
              "      <th rowspan=\"2\" valign=\"top\">Fiber optic</th>\n",
              "      <th>0</th>\n",
              "      <td>1799</td>\n",
              "    </tr>\n",
              "    <tr>\n",
              "      <th>1</th>\n",
              "      <td>1297</td>\n",
              "    </tr>\n",
              "    <tr>\n",
              "      <th rowspan=\"2\" valign=\"top\">No</th>\n",
              "      <th>0</th>\n",
              "      <td>1413</td>\n",
              "    </tr>\n",
              "    <tr>\n",
              "      <th>1</th>\n",
              "      <td>113</td>\n",
              "    </tr>\n",
              "  </tbody>\n",
              "</table>\n",
              "</div><br><label><b>dtype:</b> int64</label>"
            ]
          },
          "metadata": {},
          "execution_count": 56
        }
      ]
    },
    {
      "cell_type": "code",
      "source": [
        "# Tabela\n",
        "print(\"\\nContagem de Rotatividade por serviço de internet:\")\n",
        "tabela_contagem = pd.crosstab(telecomDF['ServiçoInternet'], telecomDF['Rotatividade'])\n",
        "print(tabela_contagem)\n",
        "\n",
        "# Tabela cruzada com proporções (percentual por serviço de internet)\n",
        "print(\"\\nProporção de Rotatividade por serviço de internet (%):\")\n",
        "tabela_proporcao = pd.crosstab(telecomDF['ServiçoInternet'],  telecomDF['Rotatividade'], normalize='index').round(2) * 100\n",
        "print(tabela_proporcao)"
      ],
      "metadata": {
        "colab": {
          "base_uri": "https://localhost:8080/"
        },
        "id": "XZPP5vQ41wFY",
        "outputId": "d76914c8-7da9-4485-a82d-d8e25ad419ec"
      },
      "execution_count": 57,
      "outputs": [
        {
          "output_type": "stream",
          "name": "stdout",
          "text": [
            "\n",
            "Contagem de Rotatividade por serviço de internet:\n",
            "Rotatividade        0     1\n",
            "ServiçoInternet            \n",
            "DSL              1962   459\n",
            "Fiber optic      1799  1297\n",
            "No               1413   113\n",
            "\n",
            "Proporção de Rotatividade por serviço de internet (%):\n",
            "Rotatividade        0     1\n",
            "ServiçoInternet            \n",
            "DSL              81.0  19.0\n",
            "Fiber optic      58.0  42.0\n",
            "No               93.0   7.0\n"
          ]
        }
      ]
    },
    {
      "cell_type": "markdown",
      "source": [
        "OBS: Há outras colunas na ***tabela categórica*** que também podem ser exploradas, no entanto, por enquanto serão essas as análises iniciais e, se preciso, continuo a análise com o restante das colunas categóricas."
      ],
      "metadata": {
        "id": "N_ifAy2ffq2o"
      }
    },
    {
      "cell_type": "markdown",
      "source": [
        "### ***Gráficos exploratórios*** para uma melhor percepção da relação entre os clientes com a ***evasão*** dos serviços prestados pela empresa."
      ],
      "metadata": {
        "id": "wnKVO1zQhVDe"
      }
    },
    {
      "cell_type": "markdown",
      "source": [
        "Gráfico evasão por **gênero**"
      ],
      "metadata": {
        "id": "qD5GpQIMkpoQ"
      }
    },
    {
      "cell_type": "code",
      "source": [
        "# Gráfico de barras de evasão por gênero\n",
        "plt.figure(figsize=(8, 5))\n",
        "sns.countplot(data=telecomDF, x='Sexo', hue='Rotatividade')\n",
        "plt.title(\"Evasão por Gênero\\n OBS: 0 = Não 1 = Sim\")\n",
        "plt.xlabel(\"Sexo\")\n",
        "plt.ylabel(\"Contagem\")\n",
        "plt.legend(title=\"Evasão\")\n",
        "plt.show()"
      ],
      "metadata": {
        "colab": {
          "base_uri": "https://localhost:8080/",
          "height": 508
        },
        "id": "3hn7U437bAGI",
        "outputId": "376e610d-9a98-4631-bf89-8555d56c1a3b"
      },
      "execution_count": 58,
      "outputs": [
        {
          "output_type": "display_data",
          "data": {
            "text/plain": [
              "<Figure size 800x500 with 1 Axes>"
            ],
            "image/png": "[encoded data removed]"
          },
          "metadata": {}
        }
      ]
    },
    {
      "cell_type": "markdown",
      "source": [
        "Gráfico evasão por ***tipo de contrato***"
      ],
      "metadata": {
        "id": "gqyf5TCanBi_"
      }
    },
    {
      "cell_type": "code",
      "source": [
        "# Gráfico de evasão por tipo de contrato\n",
        "plt.figure(figsize=(8, 5))\n",
        "sns.countplot(data=telecomDF, x='Contrato', hue='Rotatividade')\n",
        "plt.title(\"Evasão por Tipo de Contrato\\n OBS: 0 = Não 1 = Sim\")\n",
        "plt.xlabel(\"Contrato\")\n",
        "plt.ylabel(\"Contagem\")\n",
        "plt.legend(title=\"Evasão\")\n",
        "plt.xticks(rotation=45)\n",
        "plt.show()"
      ],
      "metadata": {
        "colab": {
          "base_uri": "https://localhost:8080/",
          "height": 583
        },
        "id": "8g6JQZYGnG_0",
        "outputId": "5447e391-1889-49f9-b151-648cc28d4e90"
      },
      "execution_count": 59,
      "outputs": [
        {
          "output_type": "display_data",
          "data": {
            "text/plain": [
              "<Figure size 800x500 with 1 Axes>"
            ],
            "image/png": "[encoded data removed]"
          },
          "metadata": {}
        }
      ]
    },
    {
      "cell_type": "markdown",
      "source": [
        "Gráfico evasão por ***método de pagamento***"
      ],
      "metadata": {
        "id": "RmHNWyZgtn4E"
      }
    },
    {
      "cell_type": "code",
      "source": [
        "# Gráfico de evasão por tipo de método de pagamento\n",
        "plt.figure(figsize=(10, 6))\n",
        "sns.countplot(data=telecomDF, x='MetodoPagamento', hue='Rotatividade')\n",
        "plt.title(\"Evasão por Método de Pagamento\\n OBS: 0 = Não 1 = Sim\")\n",
        "plt.xlabel(\"Método de Pagamento\")\n",
        "plt.ylabel(\"Contagem\")\n",
        "plt.legend(title=\"Rotatividade\", fontsize= 6)\n",
        "plt.xticks(rotation=45)\n",
        "plt.show()"
      ],
      "metadata": {
        "colab": {
          "base_uri": "https://localhost:8080/",
          "height": 662
        },
        "id": "Ds6AveiKnG1Y",
        "outputId": "0c3bc6b8-8381-40f8-cb1e-3105075ab324"
      },
      "execution_count": 60,
      "outputs": [
        {
          "output_type": "display_data",
          "data": {
            "text/plain": [
              "<Figure size 1000x600 with 1 Axes>"
            ],
            "image/png": "[encoded data removed]"
          },
          "metadata": {}
        }
      ]
    },
    {
      "cell_type": "markdown",
      "source": [
        "Gráfico evasão por ***serviço de internet***"
      ],
      "metadata": {
        "id": "fDoGGqXDvPaC"
      }
    },
    {
      "cell_type": "code",
      "source": [
        "# Gráfico de evasão por tipo de serviço de internet\n",
        "plt.figure(figsize=(8, 5))\n",
        "sns.countplot(data=telecomDF, x='ServiçoInternet', hue='Rotatividade')\n",
        "plt.title(\"Evasão por Tipo de Serviço de Internet\\n OBS: 0 = Não 1 = Sim\")\n",
        "plt.xlabel(\"Serviço de Internet\")\n",
        "plt.ylabel(\"Contagem\")\n",
        "plt.legend(title=\"Rotatividade\")\n",
        "plt.xticks(rotation=45)\n",
        "plt.show()"
      ],
      "metadata": {
        "colab": {
          "base_uri": "https://localhost:8080/",
          "height": 555
        },
        "id": "qEtoIx6AnGnE",
        "outputId": "80bcfb6d-b329-4e6a-cd48-b2e07100357e"
      },
      "execution_count": 61,
      "outputs": [
        {
          "output_type": "display_data",
          "data": {
            "text/plain": [
              "<Figure size 800x500 with 1 Axes>"
            ],
            "image/png": "[encoded data removed]"
          },
          "metadata": {}
        }
      ]
    },
    {
      "cell_type": "markdown",
      "source": [
        "## Contagem de Evasão por ***Variáveis Numéricas***"
      ],
      "metadata": {
        "id": "svI_XY83wp13"
      }
    },
    {
      "cell_type": "markdown",
      "source": [
        "Análise da ***evasão*** de clientes em relação ao ***tempo de fidelidade***"
      ],
      "metadata": {
        "id": "qdnxPB02xnXX"
      }
    },
    {
      "cell_type": "code",
      "source": [
        "# Estatísticas descritivas da evasão por tempo de fidelidade(contrato)\n",
        "print(\"\\nEstatísticas descritivas de evasão por tempo de fidelidade:\")\n",
        "descritiva = telecomDF.groupby('Rotatividade')['TempoFidelidade'].describe()\n",
        "print(descritiva)"
      ],
      "metadata": {
        "colab": {
          "base_uri": "https://localhost:8080/"
        },
        "id": "y6s8290rwbCA",
        "outputId": "18d27b4d-b806-4d89-a943-99429b371f89"
      },
      "execution_count": 62,
      "outputs": [
        {
          "output_type": "stream",
          "name": "stdout",
          "text": [
            "\n",
            "Estatísticas descritivas de evasão por tempo de fidelidade:\n",
            "               count       mean        std  min   25%   50%   75%   max\n",
            "Rotatividade                                                           \n",
            "0             5174.0  37.569965  24.113777  0.0  15.0  38.0  61.0  72.0\n",
            "1             1869.0  17.979133  19.531123  1.0   2.0  10.0  29.0  72.0\n"
          ]
        }
      ]
    },
    {
      "cell_type": "markdown",
      "source": [
        "Gráficos de evasão por ***tempo de fidelidade*** (tenure)"
      ],
      "metadata": {
        "id": "efFq9t24yvgp"
      }
    },
    {
      "cell_type": "code",
      "source": [
        "# Histograma\n",
        "plt.figure(figsize=(10, 6))\n",
        "sns.histplot(data=telecomDF, x='TempoFidelidade', hue='Rotatividade', multiple='stack', bins=30)\n",
        "plt.title(\"Histograma de evasão por tempo de contrato\\n Obs: 0 = Não 1 = Sim\")\n",
        "plt.xlabel(\"Tempo de Fidelidade (meses)\")\n",
        "plt.ylabel(\"Contagem\")\n",
        "plt.show()"
      ],
      "metadata": {
        "colab": {
          "base_uri": "https://localhost:8080/",
          "height": 585
        },
        "id": "Z25sa8uSwa4f",
        "outputId": "d58c4bb7-76b7-4235-82af-ead0e1a7fa14"
      },
      "execution_count": 63,
      "outputs": [
        {
          "output_type": "display_data",
          "data": {
            "text/plain": [
              "<Figure size 1000x600 with 1 Axes>"
            ],
            "image/png": "[encoded data removed]"
          },
          "metadata": {}
        }
      ]
    },
    {
      "cell_type": "code",
      "source": [
        "# Gráfico de densidade\n",
        "plt.figure(figsize=(10, 6))\n",
        "sns.kdeplot(data=telecomDF, x='TempoFidelidade', hue='Rotatividade', fill=True)\n",
        "plt.title(\"Evasão de clientes por tempo de contrato\\n Obs: 0 = Não 1 = Sim\")\n",
        "plt.xlabel(\"Tempo de Fidelidade (meses)\")\n",
        "plt.ylabel(\"Densidade\")\n",
        "plt.show()"
      ],
      "metadata": {
        "colab": {
          "base_uri": "https://localhost:8080/",
          "height": 585
        },
        "id": "TfQDJMN1wa0y",
        "outputId": "ce9d4bf2-780a-437b-ad39-570516ae024f"
      },
      "execution_count": 64,
      "outputs": [
        {
          "output_type": "display_data",
          "data": {
            "text/plain": [
              "<Figure size 1000x600 with 1 Axes>"
            ],
            "image/png": "[encoded data removed]"
          },
          "metadata": {}
        }
      ]
    },
    {
      "cell_type": "code",
      "source": [
        "# Gráfico de densidade de evasão de clientes tempo de contrato com Plotly Express\n",
        "\n",
        "'''\n",
        "OBS:\n",
        "- Sim(Yes) = 1\n",
        "- Nao(No) = 0\n",
        "'''\n",
        "\n",
        "fig = px.histogram(\n",
        "    telecomDF,\n",
        "    x='TempoFidelidade',\n",
        "    color='Rotatividade',\n",
        "    histnorm='density',  # Normaliza para densidade\n",
        "    nbins=30,  # Número de bins, ajustável conforme a granularidade desejada\n",
        "    title='Evasão de clientes por tempo de contrato (Tenure)\\n Obs: 0 = Não 1 = Sim',\n",
        "    labels={'TempoFidelidade': 'Tempo de Fidelidade (meses)', 'Rotatividade': 'Rotatividade'},\n",
        "    opacity=0.5,  # Transparência para sobreposição\n",
        "    barmode='overlay'  # Sobrepor as densidades\n",
        ")\n",
        "\n",
        "# Ajuste do layout\n",
        "fig.update_layout(\n",
        "    xaxis_title='Tempo de Fidelidade (meses)',\n",
        "    yaxis_title='Densidade',\n",
        "    legend_title='Evasão',\n",
        "    width=800,\n",
        "    height=500,\n",
        "    showlegend=True\n",
        ")\n",
        "\n",
        "# Mostrando o gráfico\n",
        "fig.show()"
      ],
      "metadata": {
        "colab": {
          "base_uri": "https://localhost:8080/",
          "height": 517
        },
        "id": "ddvjCkR9wawj",
        "outputId": "d2dba1ea-4619-4851-9294-816c8178ca5a"
      },
      "execution_count": 65,
      "outputs": [
        {
          "output_type": "display_data",
          "data": {
            "text/html": [
              "<html>\n",
              "<head><meta charset=\"utf-8\" /></head>\n",
              "<body>\n",
              "    <div>            <script src=\"https://cdnjs.cloudflare.com/ajax/libs/mathjax/2.7.5/MathJax.js?config=TeX-AMS-MML_SVG\"></script><script type=\"text/javascript\">if (window.MathJax && window.MathJax.Hub && window.MathJax.Hub.Config) {window.MathJax.Hub.Config({SVG: {font: \"STIX-Web\"}});}</script>                <script type=\"text/javascript\">window.PlotlyConfig = {MathJaxConfig: 'local'};</script>\n",
              "        <script charset=\"utf-8\" src=\"https://cdn.plot.ly/plotly-2.35.2.min.js\"></script>                <div id=\"9ce381a9-32b7-4fba-adee-4306cd59c831\" class=\"plotly-graph-div\" style=\"height:500px; width:800px;\"></div>            <script type=\"text/javascript\">                                    window.PLOTLYENV=window.PLOTLYENV || {};                                    if (document.getElementById(\"9ce381a9-32b7-4fba-adee-4306cd59c831\")) {                    Plotly.newPlot(                        \"9ce381a9-32b7-4fba-adee-4306cd59c831\",                        [{\"alignmentgroup\":\"True\",\"bingroup\":\"x\",\"histnorm\":\"density\",\"hovertemplate\":\"Rotatividade=0\\u003cbr\\u003eTempo de Fidelidade (meses)=%{x}\\u003cbr\\u003edensity=%{y}\\u003cextra\\u003e\\u003c\\u002fextra\\u003e\",\"legendgroup\":\"0\",\"marker\":{\"color\":\"#636efa\",\"opacity\":0.5,\"pattern\":{\"shape\":\"\"}},\"name\":\"0\",\"nbinsx\":30,\"offsetgroup\":\"0\",\"orientation\":\"v\",\"showlegend\":true,\"x\":[9,9,9,71,63,7,65,54,72,5,72,56,71,34,1,50,23,3,55,54,26,69,37,49,66,67,20,43,55,59,12,27,27,25,25,29,72,14,35,1,29,64,39,40,6,30,27,70,57,58,16,69,32,16,71,33,10,26,50,61,26,72,44,66,44,69,2,27,26,39,72,24,19,71,33,3,47,62,71,7,27,2,25,30,9,69,66,46,54,12,22,70,30,71,30,10,4,52,8,2,3,19,72,63,66,60,48,50,72,46,72,1,1,67,48,72,52,67,32,3,50,71,16,67,72,23,72,7,8,66,63,12,27,35,54,5,19,52,72,32,41,5,11,16,71,11,71,9,6,6,11,49,3,53,3,70,39,60,55,72,72,60,46,15,23,11,56,25,68,40,71,17,18,37,2,28,9,1,65,3,36,22,72,67,34,10,69,40,20,46,72,70,2,23,36,67,72,72,72,58,31,3,55,49,39,66,15,51,9,25,22,15,3,47,67,18,62,41,44,53,48,54,24,33,66,3,13,63,52,3,10,72,29,62,26,19,72,45,32,41,65,11,49,61,25,23,21,24,70,46,2,57,60,37,28,24,62,20,52,72,70,66,55,57,72,28,54,24,2,12,51,13,58,18,29,72,71,70,20,63,7,69,9,46,60,16,41,4,24,38,25,40,13,64,20,57,12,59,59,45,50,70,72,13,4,53,63,10,56,65,1,29,72,40,72,3,4,18,62,29,48,53,6,22,72,34,48,21,71,1,1,32,1,63,72,53,50,21,52,4,40,23,57,49,9,61,70,13,34,57,7,44,45,36,69,71,30,52,52,3,72,72,51,51,72,64,13,52,7,4,46,54,72,66,16,11,71,57,62,72,66,16,58,4,72,67,71,72,15,11,43,24,52,13,55,42,2,1,17,27,45,71,36,15,20,71,24,71,66,30,47,7,46,62,70,16,15,45,72,13,6,18,68,64,5,64,26,2,59,17,56,62,53,23,6,8,61,34,56,38,69,72,70,7,61,55,61,14,22,60,1,4,13,3,63,36,54,47,41,13,30,44,47,52,12,54,13,7,42,65,49,62,11,37,1,69,72,26,3,62,26,40,33,72,3,68,19,7,56,66,7,1,8,62,56,41,57,38,26,72,30,68,63,60,19,25,71,8,20,43,17,44,2,71,72,18,67,56,69,1,25,55,53,59,7,3,64,51,69,38,56,63,11,24,72,69,56,18,11,45,61,66,42,55,1,68,1,17,15,28,28,40,63,39,48,44,69,49,24,71,61,18,27,64,1,50,30,57,17,51,60,33,38,1,16,72,41,65,72,67,49,19,69,47,53,27,11,28,53,19,3,23,63,61,27,1,4,8,12,56,52,20,68,3,50,60,4,45,25,43,9,62,40,6,20,16,8,72,21,64,3,58,18,67,61,52,14,43,52,4,5,27,23,49,71,59,64,72,44,30,39,15,70,72,72,35,68,71,70,29,66,20,55,9,72,49,24,42,52,18,12,72,52,70,18,7,54,68,72,55,9,4,18,41,6,14,61,13,64,72,27,22,11,4,7,6,50,11,54,23,67,46,0,48,40,30,15,16,9,7,20,11,1,44,43,24,7,57,11,57,23,18,70,33,1,3,54,7,70,30,32,1,56,52,12,29,33,22,10,26,13,66,58,22,72,1,39,1,52,4,70,60,8,3,64,66,49,1,36,58,7,1,72,35,30,52,72,31,70,53,10,29,59,45,12,33,66,49,61,24,1,17,12,61,27,48,71,4,61,31,30,55,42,71,43,19,19,12,4,70,68,57,51,4,70,19,51,71,11,60,62,12,45,8,68,36,1,29,1,14,5,19,71,4,1,6,32,68,63,53,6,59,48,1,37,27,72,70,12,23,23,40,11,42,12,71,39,58,61,19,61,16,60,52,17,63,46,42,47,51,45,53,1,2,64,10,34,32,54,11,8,56,34,1,46,60,22,39,2,35,25,18,3,66,29,66,8,45,18,72,34,2,72,10,51,28,13,2,15,2,12,51,30,64,72,5,72,1,27,72,30,65,61,62,45,52,24,70,39,42,20,72,13,22,1,7,8,8,64,22,26,31,4,48,71,36,1,21,58,29,11,64,1,64,39,39,24,1,8,36,16,7,41,5,55,72,72,1,47,21,68,58,33,33,56,49,68,72,1,1,67,45,72,10,59,22,30,52,10,20,35,72,65,7,23,29,43,18,71,9,48,27,70,58,60,46,8,68,46,8,9,1,63,18,18,37,63,6,48,4,29,27,65,31,49,72,5,1,33,1,65,60,63,55,68,72,37,29,64,46,23,68,41,17,55,5,68,7,41,2,1,1,3,17,37,22,68,72,16,65,55,1,33,30,25,1,25,72,44,18,7,59,70,40,34,5,68,14,19,67,50,43,59,27,40,28,5,54,63,20,72,71,32,71,71,71,22,68,2,29,12,34,40,72,72,45,72,71,18,68,68,34,24,58,37,52,45,43,26,56,1,68,27,9,1,71,72,21,54,8,24,48,5,17,72,72,6,72,62,1,51,38,33,20,31,64,72,9,61,52,69,1,68,14,7,1,51,15,72,50,57,44,62,7,72,1,72,1,32,71,60,4,52,29,49,40,57,62,23,65,38,72,2,28,65,2,72,12,26,20,7,23,67,48,64,3,32,51,48,18,23,55,2,27,35,58,42,44,43,7,41,65,40,46,62,30,70,1,24,11,58,8,35,65,68,46,72,38,58,17,72,50,3,55,71,37,55,61,44,2,56,72,1,44,10,72,66,18,64,22,38,5,18,11,67,67,72,47,54,31,11,11,1,20,8,1,72,23,30,29,59,58,1,4,61,39,31,33,4,32,72,11,23,15,72,35,50,41,33,60,25,0,70,60,34,27,60,56,15,70,1,42,1,2,72,52,57,7,47,65,72,68,72,48,1,35,44,37,65,59,22,1,54,44,6,50,13,1,27,71,14,31,20,12,40,72,1,64,71,64,33,3,70,51,67,68,62,64,3,71,2,36,65,33,54,1,10,60,65,72,26,1,48,41,1,37,56,7,4,71,58,53,31,1,6,49,8,22,61,9,5,65,29,1,12,55,68,34,1,36,15,10,3,1,43,8,71,6,39,46,72,33,32,5,17,5,10,1,41,22,47,65,8,35,8,24,36,67,0,21,11,50,13,64,3,71,9,1,3,46,63,71,5,65,42,3,24,66,25,56,52,23,25,32,23,26,49,1,50,28,49,18,72,37,7,45,19,29,61,4,38,2,15,43,24,64,72,27,35,1,53,6,1,61,1,68,34,13,35,35,72,2,12,69,57,69,41,47,59,18,40,2,68,70,1,72,2,11,56,36,37,18,19,1,38,0,56,30,72,8,53,46,6,13,40,59,50,46,18,35,69,62,23,45,9,24,71,1,2,67,7,13,57,36,66,22,3,69,72,23,40,70,70,3,69,72,67,19,70,21,29,29,25,55,2,19,7,29,29,50,67,37,64,8,1,38,3,32,3,3,56,9,53,63,35,13,14,14,51,68,1,60,23,72,3,6,13,47,3,14,23,72,66,53,11,2,1,18,18,61,65,41,19,4,25,72,5,0,59,68,54,22,49,51,19,2,14,72,63,4,17,71,10,72,69,47,60,2,53,34,60,55,53,57,61,38,60,50,9,71,46,35,23,21,16,70,66,14,46,3,34,3,25,19,65,67,8,67,26,47,20,52,0,61,72,24,4,66,65,34,45,71,2,12,16,72,1,62,53,52,18,51,6,72,72,57,58,71,72,17,8,68,28,2,71,30,34,32,6,45,11,2,23,29,68,17,69,59,1,32,29,28,50,14,20,3,14,23,71,64,12,72,36,4,8,29,59,16,40,9,8,58,71,5,17,30,3,13,30,1,34,52,44,47,13,23,40,67,70,43,72,51,51,22,51,71,3,44,31,3,1,41,60,29,2,5,2,28,14,19,60,71,1,43,68,4,46,35,47,25,19,49,6,68,58,25,24,6,15,26,16,10,21,67,19,40,57,41,28,70,21,36,70,2,56,4,63,68,43,35,60,71,71,24,23,72,72,1,72,34,24,32,26,43,17,71,7,22,68,55,47,55,72,49,7,47,12,34,63,20,47,68,64,1,12,53,24,72,66,42,58,46,45,1,61,72,18,51,57,10,35,9,1,24,2,3,27,70,10,55,31,64,71,66,52,2,57,21,8,17,17,15,62,13,68,58,19,13,71,61,13,1,56,32,72,43,61,69,52,62,54,19,71,5,10,68,1,60,10,16,29,52,4,5,68,50,7,16,21,72,69,26,61,49,37,60,1,5,38,2,1,54,51,15,27,24,10,6,71,1,66,35,65,15,61,22,28,24,36,67,3,66,4,12,7,13,65,59,65,46,68,67,33,20,64,58,24,71,35,8,53,1,72,21,30,70,63,63,11,2,14,3,55,1,20,72,70,27,67,12,17,72,71,1,71,16,2,16,10,71,17,4,40,59,38,72,19,69,70,14,67,1,60,67,45,68,16,37,72,68,67,24,10,45,63,4,68,72,71,72,64,9,60,3,26,41,1,45,50,44,2,72,42,47,9,66,57,42,20,23,28,70,34,1,72,3,72,67,11,58,62,71,72,1,5,19,8,65,36,26,9,2,71,60,38,58,25,19,31,63,56,56,27,60,21,1,25,22,61,6,31,72,3,3,41,49,71,64,18,72,58,7,7,3,52,11,1,33,52,36,51,0,72,16,30,72,13,38,34,71,3,48,20,34,68,67,24,29,67,56,29,7,69,4,35,71,58,9,12,47,67,5,4,52,28,55,2,50,51,72,51,1,63,51,35,46,54,67,12,70,10,21,63,36,57,57,26,63,72,54,59,1,69,12,67,28,33,61,21,2,8,68,72,1,2,2,2,61,35,60,52,5,6,1,66,72,24,8,38,68,9,1,28,7,72,7,65,56,15,56,9,16,69,68,50,10,26,16,70,72,17,10,7,13,70,5,10,39,20,20,72,62,24,21,48,7,53,27,56,17,18,37,48,8,50,1,0,56,1,34,72,32,17,68,47,44,72,22,70,3,44,5,4,4,54,14,12,13,69,35,64,20,26,4,7,10,71,42,9,2,60,39,15,7,15,61,19,59,30,62,18,20,5,0,52,45,69,36,8,2,5,13,38,61,18,23,46,26,35,31,71,42,56,18,13,42,26,54,40,8,25,42,51,58,12,9,2,46,8,16,55,52,62,4,14,59,47,71,5,41,52,9,9,12,52,13,16,45,70,53,8,27,60,20,42,16,65,20,33,22,44,72,51,69,22,53,9,1,32,34,54,62,30,55,17,7,18,6,53,45,64,18,70,69,40,18,1,33,60,72,63,12,31,71,50,54,11,44,62,57,18,70,21,42,21,3,8,2,51,21,70,67,21,1,72,34,29,5,18,20,45,20,29,50,11,72,6,72,48,50,1,36,7,40,72,63,2,60,47,25,4,37,72,67,59,43,30,13,2,30,12,63,48,1,71,61,5,26,40,7,11,8,34,19,70,51,35,30,8,4,10,72,50,71,18,32,72,72,22,42,61,35,40,72,66,20,16,72,19,65,67,39,72,47,65,56,6,56,40,5,3,2,58,13,10,66,56,71,56,55,42,42,14,10,22,39,57,8,63,61,50,35,72,29,54,49,72,1,70,55,26,25,31,2,18,2,13,40,17,10,61,27,60,64,28,34,36,35,22,43,70,15,3,29,72,71,30,19,56,36,57,3,52,2,17,68,57,72,26,14,30,66,49,15,71,39,67,31,13,47,23,57,56,10,30,43,9,27,20,51,1,38,11,56,72,13,1,7,51,29,26,67,65,43,9,30,32,25,13,3,2,67,66,4,50,64,59,51,10,17,1,59,2,24,47,55,60,72,69,29,71,48,36,2,50,3,31,63,54,56,43,25,62,49,1,8,72,63,54,31,59,9,4,38,16,67,20,64,28,71,21,3,31,37,68,34,28,3,11,17,69,37,72,8,49,27,4,72,2,2,67,22,48,47,66,37,56,72,10,9,35,54,63,53,67,71,42,12,57,35,33,62,25,26,34,49,17,53,1,70,28,27,72,7,31,68,32,4,64,26,71,41,41,47,29,42,57,45,54,52,71,72,72,40,64,26,52,62,42,11,41,72,49,56,72,11,29,53,46,72,63,60,35,72,48,53,7,46,12,64,15,41,51,28,66,43,58,66,71,31,71,31,48,72,72,54,72,60,65,34,37,4,62,52,8,69,12,5,1,28,3,58,71,72,2,18,37,50,21,69,72,71,38,22,45,15,66,66,12,32,60,9,67,65,5,16,5,8,71,57,30,32,10,12,14,19,41,69,2,33,12,58,22,61,27,53,19,56,72,17,70,72,69,43,41,46,19,68,52,24,33,31,67,22,66,71,20,66,47,1,70,17,46,41,8,33,1,25,33,11,47,7,49,20,28,4,42,1,4,41,13,50,66,10,1,2,27,58,8,71,63,34,46,58,44,8,24,72,14,2,6,12,7,72,10,15,58,46,4,35,9,20,35,21,49,3,47,13,30,58,53,60,8,51,31,10,41,18,32,10,62,42,72,24,65,72,70,50,71,71,68,43,72,17,31,41,67,17,48,28,71,26,1,11,13,71,4,53,0,43,4,65,13,49,8,72,66,43,52,61,69,70,71,46,28,11,61,6,3,22,52,72,50,7,40,12,9,8,72,71,72,34,24,56,52,55,69,68,63,50,72,70,39,3,52,20,70,37,7,56,57,48,56,62,23,29,29,21,16,16,18,33,35,71,71,33,22,68,27,6,70,49,44,2,1,26,46,10,1,32,60,23,72,11,5,72,35,58,72,56,9,67,31,31,70,1,55,34,32,72,70,49,2,37,32,32,2,64,13,41,9,69,22,23,17,15,48,19,53,71,15,2,26,18,33,72,6,21,3,12,72,64,47,2,72,46,51,36,43,72,35,37,23,65,72,32,39,68,24,16,12,66,58,23,37,1,67,40,72,61,1,41,72,54,70,61,34,35,2,69,72,17,28,5,32,54,16,15,39,41,2,69,69,70,55,70,41,25,23,27,65,22,52,38,3,13,51,40,18,23,72,32,36,68,64,26,26,59,44,13,29,72,34,46,62,63,24,70,1,1,41,56,35,19,13,18,62,7,48,6,64,10,1,33,68,26,1,71,71,6,72,59,57,35,43,67,46,5,72,48,5,72,3,1,38,51,57,65,56,17,5,29,46,22,9,52,64,63,50,15,57,17,6,42,69,6,56,4,45,22,72,66,23,62,23,69,61,70,54,37,71,13,71,4,7,68,32,1,4,26,31,69,65,30,9,44,71,56,72,1,20,54,23,50,72,19,70,59,29,71,11,49,49,67,65,13,48,71,9,50,62,31,20,69,34,72,53,4,3,67,54,3,31,42,71,13,38,4,68,61,16,46,72,5,60,1,39,72,62,3,4,25,51,2,66,72,46,11,51,62,23,28,48,24,19,10,5,65,72,9,70,30,68,31,31,5,35,71,71,57,8,67,1,4,16,23,12,15,32,25,36,72,45,29,56,8,68,62,31,6,8,7,68,14,55,6,28,13,23,15,37,23,38,22,53,2,72,69,35,24,15,16,33,3,23,51,60,13,9,14,34,33,71,16,26,49,45,33,45,1,46,33,25,17,32,1,1,51,15,48,27,72,70,15,17,50,13,6,46,33,30,72,24,71,61,65,23,45,24,18,63,5,6,58,67,12,59,2,4,72,23,28,5,2,14,30,16,72,1,67,11,1,50,72,1,48,31,19,69,7,11,56,43,63,60,44,62,16,35,18,70,67,16,11,61,72,29,20,5,61,10,43,72,15,65,66,44,71,27,14,15,72,63,1,67,20,47,70,35,3,67,5,65,72,67,44,30,63,42,35,19,72,42,61,30,46,58,26,56,49,40,29,24,24,2,36,5,12,18,62,66,6,38,47,45,51,56,2,10,48,28,27,12,15,3,69,12,54,24,2,58,64,58,35,8,72,2,67,72,11,9,37,30,24,68,2,70,64,40,30,32,71,1,18,48,71,50,44,61,29,12,49,52,60,72,40,29,1,65,65,72,1,59,5,72,5,56,23,2,11,53,72,26,31,19,48,2,54,68,70,18,45,47,70,70,37,15,55,58,43,9,6,55,72,8,67,69,44,26,14,49,38,60,69,70,4,14,71,68,71,66,4,55,72,18,25,40,71,29,61,2,56,13,9,7,41,47,30,54,72,24,37,48,69,31,38,37,4,46,21,39,17,54,9,3,70,30,48,62,11,66,39,4,12,32,70,72,17,8,25,10,1,72,43,72,9,50,69,15,26,35,21,52,26,71,66,60,72,38,17,46,5,34,17,16,48,60,72,66,40,23,50,60,8,10,12,37,55,57,43,61,3,67,71,58,22,57,67,36,72,72,25,12,70,21,62,22,65,38,44,6,67,72,40,11,70,41,24,4,17,68,14,63,43,66,4,32,44,1,24,50,51,3,1,53,40,61,1,72,11,25,18,62,55,55,28,62,13,22,24,17,5,45,12,1,60,14,51,1,23,72,1,30,69,1,5,1,13,8,7,25,32,2,13,72,39,6,31,59,27,8,39,4,51,3,59,37,7,6,7,9,4,46,72,28,9,1,19,71,2,18,2,22,2,20,4,71,44,3,72,54,18,26,53,3,25,72,53,10,57,8,33,64,9,60,54,46,6,1,1,48,45,37,11,55,39,38,45,72,1,16,53,71,60,71,14,69,37,7,57,61,2,46,64,72,25,64,24,15,69,50,12,69,66,5,3,69,3,17,57,12,63,1,18,58,50,27,6,10,67,70,48,13,72,72,24,72,68,62,41,46,1,71,60,40,27,1,34,32,27,12,65,62,48,35,1,71,72,31,45,72,45,62,17,54,15,22,1,53,42,56,28,6,56,7,25,57,47,8,12,58,2,52,70,39,63,0,54,11,71,43,21,19,59,72,29,36,10,17,12,58,57,69,23,33,8,34,72,71,64,53,68,52,68,49,37,1,11,70,40,69,71,61,26,60,15,69,1,54,72,9,2,66,72,57,55,51,6,28,16,30,12,55,1,34,6,3,72,10,47,22,39,12,45,70,72,3,6,61,42,1,45,8,14,18,43,27,18,52,3,23,20,31,1,35,6,14,63,68,3,58,24,51,45,61,33,26,23,13,4,1,21,45,12,72,63,43,60,31,53,67,72,4,51,15,69,4,1,55,4,19,23,25,71,14,24,56,7,5,19,16,10,72,51,67,25,45,1,11,20,70,64,65,60,35,11,36,3,31,27,52,21,24,67,10,8,6,65,72,66,66,47,4,21,25,72,36,49,18,15,8,54,42,13,66,63,71,15,10,2,15,53,35,43,72,55,66,40,22,56,72,62,71,39,50,55,6,72,69,1,63,66,63,12,62,1,10,49,22,62,54,33,64,1,65,71,24,67,14,24,70,9,10,30,13,11,62,9,71,58,72,10,19,59,54,42,48,43,68,12,38,14,72,11,17,10,9,4,36,6,72,56,6,49,15,23,54,71,34,42,8,39,2,50,72,11,7,7,59,66,72,33,3,69,24,31,70,1,68,62,4,53,32,41,52,24,72,14,21,71,25,1,23,72,12,70,72,70,16,22,5,69,42,42,5,72,39,21,35,35,12,27,72,58,64,71,10,71,66,69,43,72,61,7,70,5,17,51,5,64,7,60,1,20,72,72,4,1,56,9,12,33,70,1,39,45,30,7,59,1,72,67,47,4,24,9,7,65,14,35,26,7,37,23,50,27,58,12,72,72,9,45,64,64,39,1,58,72,68,38,55,33,57,15,8,4,62,1,68,72,55,42,67,41,26,4,66,15,63,59,25,4,69,66,28,57,49,65,42,61,10,67,1,37,35,72,8,19,20,38,57,38,67,22,57,72,70,13,62,31,18,64,42,30,65,18,41,54,32,72,59,52,61,54,8,3,14,72,35,66,48,48,1,67,1,17,40,69,72,1,36,47,16,17,38,50,8,67,38,70,41,59,64,22,70,43,1,72,18,38,2,12,3,71,1,6,26,69,56,47,72,18,51,46,9,72,42,69,14,66,57,14,16,2,64,71,3,72,26,52,72,36,46,51,4,56,44,29,29,1,29,68,34,1,51,52,1,21,70,69,33,1,59,2,4,61,42,1,71,27,57,37,41,26,10,31,10,14,9,72,42,2,5,46,57,21,4,65,19,1,72,70,28,71,5,69,57,68,1,71,27,71,63,72,1,65,52,9,21,63,25,66,44,60,60,59,12,8,28,12,30,2,41,55,72,30,25,46,31,68,58,70,48,72,63,30,60,33,67,25,72,63,39,33,48,10,45,64,68,6,29,39,20,52,71,41,69,68,20,35,17,1,7,62,1,44,39,72,47,15,2,54,69,72,21,3,46,34,72,37,60,62,42,25,18,68,12,15,63,32,1,41,50,56,57,3,22,36,22,70,14,18,23,1,71,64,35,11,27,64,71,1,69,9,1,21,13,7,57,19,72,45,60,42,48,55,9,43,7,71,32,8,72,51,3,26,35,27,2,26,65,41,22,64,65,24,51,72,69,44,70,40,61,23,72,62,50,64,47,47,58,34,60,12,64,22,11,15,14,23,2,59,1,61,1,10,69,35,48,72,62,40,16,1,72,44,59,18,23,51,64,69,2,35,26,26,68,44,29,24,14,56,6,6,71,43,15,22,44,12,52,53,50,24,38,42,63,56,37,18,44,1,69,55,47,72,16,65,18,45,21,72,72,1,48,67,65,11,52,71,3,10,15,3,52,21,68,39,46,72,64,13,5,72,57,72,47,69,38,26,14,11,27,8,23,60,6,7,66,72,33,23,59,4,67,4,72,42,26,38,24,65,67,24,64,40,15,71,27,4,12,52,60,33,1,6,35,72,43,43,5,44,53,23,62,27,15,69,3,70,15,67,64,45,40,8,70,38,51,9,2,72,48,17,71,1,11,72,27,50,35,53,72,25,37,26,35,71,28,71,70,71,62,72,14,70,9,72,63,70,72,8,66,10,25,45,11,8,72,61,35,69,59,52,20,53,3,13,54,34,35,10,27,31,10,34,13,15,70,36,26,69,1,52,68,62,19,9,24,61,72,8,13,30,38,71,36,52,65,64,71,3,68,6,37,68,15,59,17,41,64,2,49,69,55,37,56,50,1,1,35,67,1,22,4,43,6,47,25,37,68,63,41,4,1,35,3,47,3,72,2,63,53,3,9,66,6,47,18,38,45,66,58,2,71,45,46,72,53,72,49,44,55,59,34,5,43,10,2,51,50,61,13,5,1,39,56,4,14,71,27,2,41,32,49,49,39,72,6,67,3,47,22,52,32,1,1,26,49,48,5,39,13,59,17,38,70,53,3,10,27,65,64,31,72,22,6,49,35,63,72,7,23,64,66,7,8,14,17,46,2,22,66,23,72,71,46,40,53,12,2,37,66,53,1,41,72,36,41,24,58,42,12,72,43,1,4,70,59,14,17,72,35,34,72,19,72,17,22,21,34,11,72,25,29,35,64,28,23,1,66,18,32,65,26,20,59,48,41,72,21,42,33,23,72,72,22,12,4,28,46,11,60,15,41,68,37,67,32,25,28,63,69,6,72,71,1,71,19,63,6,34,67,28,53,64,46,1,47,7,13,2,67,63],\"xaxis\":\"x\",\"yaxis\":\"y\",\"type\":\"histogram\"},{\"alignmentgroup\":\"True\",\"bingroup\":\"x\",\"histnorm\":\"density\",\"hovertemplate\":\"Rotatividade=1\\u003cbr\\u003eTempo de Fidelidade (meses)=%{x}\\u003cbr\\u003edensity=%{y}\\u003cextra\\u003e\\u003c\\u002fextra\\u003e\",\"legendgroup\":\"1\",\"marker\":{\"color\":\"#EF553B\",\"opacity\":0.5,\"pattern\":{\"shape\":\"\"}},\"name\":\"1\",\"nbinsx\":30,\"offsetgroup\":\"1\",\"orientation\":\"v\",\"showlegend\":true,\"x\":[4,13,3,45,1,13,4,1,2,40,11,1,1,49,21,37,7,15,2,12,1,3,25,1,22,58,10,6,70,25,15,4,2,5,1,1,15,28,27,2,9,32,3,5,49,1,8,5,61,26,1,23,2,1,68,8,1,3,5,3,41,6,58,31,36,32,1,23,17,3,58,2,1,59,37,3,54,60,1,8,1,28,48,23,41,43,55,1,1,5,27,5,1,1,18,5,1,35,30,15,55,9,69,5,27,22,8,62,14,53,20,1,1,64,49,28,10,21,22,23,2,13,16,67,47,21,7,1,1,15,1,2,65,13,46,53,4,4,9,12,4,1,55,9,24,4,1,2,70,2,1,3,9,9,16,3,1,27,2,52,9,1,53,34,20,5,13,9,10,5,54,4,2,27,1,54,11,72,3,3,7,35,10,58,7,20,13,32,1,1,69,18,1,7,5,1,11,1,1,12,41,56,1,1,1,16,1,1,3,17,47,15,14,54,16,1,2,2,67,1,10,38,13,7,7,23,6,12,2,50,14,1,2,31,4,9,55,68,16,12,4,1,2,21,3,46,53,15,1,10,63,1,1,11,4,7,3,21,3,1,11,29,70,1,57,1,3,10,56,1,10,10,28,1,1,2,58,12,9,7,52,1,32,70,13,4,8,5,12,30,7,1,12,17,66,3,51,35,2,26,4,1,2,42,5,10,68,20,33,18,1,14,3,34,12,9,42,5,54,1,4,47,1,9,1,1,29,17,1,5,1,1,50,1,1,40,41,11,12,2,69,20,22,48,22,10,1,13,7,1,1,1,14,16,1,1,3,2,70,27,1,66,1,18,11,1,1,13,7,12,43,24,2,38,33,3,21,5,7,2,6,1,29,30,31,5,3,4,14,25,1,4,22,37,15,13,46,12,7,22,15,47,1,7,1,7,8,15,70,1,4,39,58,20,2,4,14,3,48,10,16,1,38,57,16,9,28,24,39,36,5,2,6,62,1,4,8,13,41,59,10,24,22,6,1,12,40,5,6,40,41,10,31,2,4,6,1,1,2,38,17,71,61,1,4,37,7,3,6,4,1,12,4,1,4,66,53,1,4,27,9,7,15,4,26,67,10,8,1,6,29,30,25,9,11,4,17,2,1,64,1,2,2,63,10,9,2,15,1,24,53,16,5,13,1,71,52,2,24,2,41,14,1,43,17,20,4,1,1,2,45,40,1,35,63,72,25,21,39,4,8,56,31,2,1,4,5,17,1,24,12,4,2,10,17,1,11,2,4,6,40,32,55,2,62,12,33,1,9,48,10,1,3,41,1,1,1,7,5,1,61,1,67,12,27,2,2,60,8,57,6,56,13,6,1,2,5,1,1,1,1,49,68,50,3,57,39,17,8,26,18,8,3,1,10,4,19,71,39,1,37,1,59,15,5,35,6,28,3,34,1,33,18,28,67,16,13,4,5,8,25,12,21,55,2,65,1,58,15,1,6,58,16,8,1,15,1,70,3,37,22,32,3,15,33,1,29,65,10,1,8,35,13,14,9,1,31,7,22,3,1,15,2,5,1,4,36,2,14,6,58,2,45,1,32,42,1,2,1,6,11,21,1,2,1,15,2,16,32,66,1,57,1,56,13,1,7,1,1,50,4,7,31,3,7,66,35,23,4,12,2,54,1,7,1,17,72,1,1,12,6,50,1,53,4,23,26,12,1,24,28,30,42,1,37,6,8,25,19,7,29,2,36,1,31,11,8,19,9,3,55,21,1,39,1,10,9,22,31,3,5,52,5,8,13,8,41,31,3,46,10,5,1,2,1,2,4,1,4,6,5,1,30,17,6,68,1,1,8,9,19,7,40,3,53,12,1,68,7,19,2,1,1,67,41,1,6,14,16,3,23,3,25,27,1,21,2,3,2,46,5,13,61,2,42,3,52,16,35,1,11,6,1,38,2,16,59,2,7,10,16,5,1,70,49,17,47,11,10,22,43,3,4,3,6,1,3,56,24,25,1,25,56,1,8,7,57,35,2,15,6,13,16,21,19,2,1,2,1,17,18,2,55,31,1,22,11,56,2,44,1,26,1,1,4,1,1,4,9,46,1,47,59,5,1,48,1,38,1,4,2,23,10,30,29,20,13,8,25,1,46,29,1,37,1,70,1,1,24,1,32,1,11,1,29,5,11,9,1,31,56,3,5,3,15,1,11,4,4,7,35,2,27,1,50,10,54,7,6,2,1,1,1,3,1,39,60,1,18,58,3,43,1,11,25,1,33,10,10,1,9,2,4,1,9,4,1,22,1,1,1,39,19,2,33,13,8,8,57,1,33,4,68,1,2,2,36,71,11,51,4,10,3,32,32,2,2,1,9,13,51,20,36,1,1,5,34,8,52,32,1,37,4,1,25,69,3,11,62,7,19,65,61,3,24,4,2,2,2,1,34,69,1,54,1,12,21,12,49,55,1,1,1,2,1,16,3,9,28,3,22,15,1,22,20,1,20,20,1,2,2,27,12,4,49,5,1,2,5,4,15,1,1,9,9,58,2,4,10,69,3,29,1,1,2,33,19,2,1,3,5,1,6,1,6,19,1,50,13,3,13,45,15,1,18,1,19,10,7,1,19,4,8,18,5,32,1,10,44,40,12,26,9,26,5,20,32,3,37,1,30,72,24,5,5,1,16,66,17,6,4,3,1,16,1,1,1,1,9,3,2,3,49,47,12,43,3,25,9,22,2,15,1,5,18,42,60,2,22,33,22,31,3,69,29,53,1,20,59,8,11,11,20,10,3,44,10,35,1,1,24,1,1,4,10,49,1,34,48,43,6,25,9,17,1,3,66,5,7,45,1,1,47,2,67,3,7,1,1,38,1,53,9,30,71,1,16,50,1,25,2,34,47,1,14,1,1,1,5,30,34,62,53,49,1,42,56,43,3,40,20,47,11,1,5,14,1,7,36,26,5,52,46,1,57,1,3,53,70,61,68,13,23,13,26,47,19,1,1,11,7,1,18,1,4,24,1,37,26,1,15,36,1,4,20,5,25,3,1,1,46,8,1,1,39,54,65,2,1,20,6,29,2,35,17,1,54,53,1,65,3,24,15,8,33,1,61,8,25,70,37,43,1,13,1,1,2,1,65,10,1,2,4,8,2,1,9,18,1,47,10,1,46,1,22,3,1,41,1,4,2,71,11,5,4,1,64,2,3,3,9,17,1,18,7,1,12,15,13,7,50,49,43,4,1,8,16,1,14,9,19,12,38,24,2,36,42,5,63,6,1,16,5,1,2,3,2,2,3,6,1,1,1,2,42,12,12,49,2,24,1,11,37,66,7,22,46,38,1,1,1,39,3,14,5,67,23,48,59,43,1,32,8,60,15,2,66,1,31,30,10,18,12,4,5,17,2,19,1,18,1,2,8,1,2,1,22,2,1,15,2,45,3,28,1,1,1,7,30,38,1,3,9,33,40,3,21,24,1,8,1,14,15,23,42,15,40,1,1,6,1,9,1,27,16,10,13,1,65,1,4,2,4,4,39,23,7,1,24,66,11,46,28,12,2,6,67,22,10,4,16,14,3,1,2,33,51,1,32,19,1,43,1,14,10,2,7,4,3,1,43,1,1,8,42,25,34,21,2,5,6,22,2,26,10,4,66,2,1,5,5,19,13,25,15,14,21,7,24,1,72,3,5,1,49,15,34,51,49,24,44,66,69,47,12,4,2,1,4,60,1,3,16,22,37,7,42,31,13,5,25,1,5,51,4,44,17,9,1,1,6,18,11,12,3,8,72,1,32,1,3,2,8,35,13,54,18,10,28,48,3,7,12,31,44,25,9,1,47,2,1,51,29,7,4,34,1,3,11,1,6,9,5,12,39,3,18,67,27,3,1,13,61,54,68,5,50,17,15,1,1,7,1,49,41,17,41,10,26,1,14,24,19,7,13,7,14,1,1,4,2,6,1,52,5,29,17,34,3,4,1,13,38,1,1,8,3,2,1,13,43,8,33,54,24,12,1,4,48,40,18,15,4,14,1,36,1,7,4,32,15,1,42,18,1,1,18,1,64,18,1,26,11,8,2,16,1,4,38,59,30,3,16,43,30,25,32,3,65,13,1,30,53,17,42,1,30,5,14,2,18,37,29,1,1,1,2,9,1,4,51,1,39,1,22,11,35,17,1,39,66,3,6,9,3,10,41,35,19,17,2,1,8,1,3,40,1,26,14,9,1,3,15,38,21,9,1,4,22],\"xaxis\":\"x\",\"yaxis\":\"y\",\"type\":\"histogram\"}],                        {\"template\":{\"data\":{\"histogram2dcontour\":[{\"type\":\"histogram2dcontour\",\"colorbar\":{\"outlinewidth\":0,\"ticks\":\"\"},\"colorscale\":[[0.0,\"#0d0887\"],[0.1111111111111111,\"#46039f\"],[0.2222222222222222,\"#7201a8\"],[0.3333333333333333,\"#9c179e\"],[0.4444444444444444,\"#bd3786\"],[0.5555555555555556,\"#d8576b\"],[0.6666666666666666,\"#ed7953\"],[0.7777777777777778,\"#fb9f3a\"],[0.8888888888888888,\"#fdca26\"],[1.0,\"#f0f921\"]]}],\"choropleth\":[{\"type\":\"choropleth\",\"colorbar\":{\"outlinewidth\":0,\"ticks\":\"\"}}],\"histogram2d\":[{\"type\":\"histogram2d\",\"colorbar\":{\"outlinewidth\":0,\"ticks\":\"\"},\"colorscale\":[[0.0,\"#0d0887\"],[0.1111111111111111,\"#46039f\"],[0.2222222222222222,\"#7201a8\"],[0.3333333333333333,\"#9c179e\"],[0.4444444444444444,\"#bd3786\"],[0.5555555555555556,\"#d8576b\"],[0.6666666666666666,\"#ed7953\"],[0.7777777777777778,\"#fb9f3a\"],[0.8888888888888888,\"#fdca26\"],[1.0,\"#f0f921\"]]}],\"heatmap\":[{\"type\":\"heatmap\",\"colorbar\":{\"outlinewidth\":0,\"ticks\":\"\"},\"colorscale\":[[0.0,\"#0d0887\"],[0.1111111111111111,\"#46039f\"],[0.2222222222222222,\"#7201a8\"],[0.3333333333333333,\"#9c179e\"],[0.4444444444444444,\"#bd3786\"],[0.5555555555555556,\"#d8576b\"],[0.6666666666666666,\"#ed7953\"],[0.7777777777777778,\"#fb9f3a\"],[0.8888888888888888,\"#fdca26\"],[1.0,\"#f0f921\"]]}],\"heatmapgl\":[{\"type\":\"heatmapgl\",\"colorbar\":{\"outlinewidth\":0,\"ticks\":\"\"},\"colorscale\":[[0.0,\"#0d0887\"],[0.1111111111111111,\"#46039f\"],[0.2222222222222222,\"#7201a8\"],[0.3333333333333333,\"#9c179e\"],[0.4444444444444444,\"#bd3786\"],[0.5555555555555556,\"#d8576b\"],[0.6666666666666666,\"#ed7953\"],[0.7777777777777778,\"#fb9f3a\"],[0.8888888888888888,\"#fdca26\"],[1.0,\"#f0f921\"]]}],\"contourcarpet\":[{\"type\":\"contourcarpet\",\"colorbar\":{\"outlinewidth\":0,\"ticks\":\"\"}}],\"contour\":[{\"type\":\"contour\",\"colorbar\":{\"outlinewidth\":0,\"ticks\":\"\"},\"colorscale\":[[0.0,\"#0d0887\"],[0.1111111111111111,\"#46039f\"],[0.2222222222222222,\"#7201a8\"],[0.3333333333333333,\"#9c179e\"],[0.4444444444444444,\"#bd3786\"],[0.5555555555555556,\"#d8576b\"],[0.6666666666666666,\"#ed7953\"],[0.7777777777777778,\"#fb9f3a\"],[0.8888888888888888,\"#fdca26\"],[1.0,\"#f0f921\"]]}],\"surface\":[{\"type\":\"surface\",\"colorbar\":{\"outlinewidth\":0,\"ticks\":\"\"},\"colorscale\":[[0.0,\"#0d0887\"],[0.1111111111111111,\"#46039f\"],[0.2222222222222222,\"#7201a8\"],[0.3333333333333333,\"#9c179e\"],[0.4444444444444444,\"#bd3786\"],[0.5555555555555556,\"#d8576b\"],[0.6666666666666666,\"#ed7953\"],[0.7777777777777778,\"#fb9f3a\"],[0.8888888888888888,\"#fdca26\"],[1.0,\"#f0f921\"]]}],\"mesh3d\":[{\"type\":\"mesh3d\",\"colorbar\":{\"outlinewidth\":0,\"ticks\":\"\"}}],\"scatter\":[{\"fillpattern\":{\"fillmode\":\"overlay\",\"size\":10,\"solidity\":0.2},\"type\":\"scatter\"}],\"parcoords\":[{\"type\":\"parcoords\",\"line\":{\"colorbar\":{\"outlinewidth\":0,\"ticks\":\"\"}}}],\"scatterpolargl\":[{\"type\":\"scatterpolargl\",\"marker\":{\"colorbar\":{\"outlinewidth\":0,\"ticks\":\"\"}}}],\"bar\":[{\"error_x\":{\"color\":\"#2a3f5f\"},\"error_y\":{\"color\":\"#2a3f5f\"},\"marker\":{\"line\":{\"color\":\"#E5ECF6\",\"width\":0.5},\"pattern\":{\"fillmode\":\"overlay\",\"size\":10,\"solidity\":0.2}},\"type\":\"bar\"}],\"scattergeo\":[{\"type\":\"scattergeo\",\"marker\":{\"colorbar\":{\"outlinewidth\":0,\"ticks\":\"\"}}}],\"scatterpolar\":[{\"type\":\"scatterpolar\",\"marker\":{\"colorbar\":{\"outlinewidth\":0,\"ticks\":\"\"}}}],\"histogram\":[{\"marker\":{\"pattern\":{\"fillmode\":\"overlay\",\"size\":10,\"solidity\":0.2}},\"type\":\"histogram\"}],\"scattergl\":[{\"type\":\"scattergl\",\"marker\":{\"colorbar\":{\"outlinewidth\":0,\"ticks\":\"\"}}}],\"scatter3d\":[{\"type\":\"scatter3d\",\"line\":{\"colorbar\":{\"outlinewidth\":0,\"ticks\":\"\"}},\"marker\":{\"colorbar\":{\"outlinewidth\":0,\"ticks\":\"\"}}}],\"scattermapbox\":[{\"type\":\"scattermapbox\",\"marker\":{\"colorbar\":{\"outlinewidth\":0,\"ticks\":\"\"}}}],\"scatterternary\":[{\"type\":\"scatterternary\",\"marker\":{\"colorbar\":{\"outlinewidth\":0,\"ticks\":\"\"}}}],\"scattercarpet\":[{\"type\":\"scattercarpet\",\"marker\":{\"colorbar\":{\"outlinewidth\":0,\"ticks\":\"\"}}}],\"carpet\":[{\"aaxis\":{\"endlinecolor\":\"#2a3f5f\",\"gridcolor\":\"white\",\"linecolor\":\"white\",\"minorgridcolor\":\"white\",\"startlinecolor\":\"#2a3f5f\"},\"baxis\":{\"endlinecolor\":\"#2a3f5f\",\"gridcolor\":\"white\",\"linecolor\":\"white\",\"minorgridcolor\":\"white\",\"startlinecolor\":\"#2a3f5f\"},\"type\":\"carpet\"}],\"table\":[{\"cells\":{\"fill\":{\"color\":\"#EBF0F8\"},\"line\":{\"color\":\"white\"}},\"header\":{\"fill\":{\"color\":\"#C8D4E3\"},\"line\":{\"color\":\"white\"}},\"type\":\"table\"}],\"barpolar\":[{\"marker\":{\"line\":{\"color\":\"#E5ECF6\",\"width\":0.5},\"pattern\":{\"fillmode\":\"overlay\",\"size\":10,\"solidity\":0.2}},\"type\":\"barpolar\"}],\"pie\":[{\"automargin\":true,\"type\":\"pie\"}]},\"layout\":{\"autotypenumbers\":\"strict\",\"colorway\":[\"#636efa\",\"#EF553B\",\"#00cc96\",\"#ab63fa\",\"#FFA15A\",\"#19d3f3\",\"#FF6692\",\"#B6E880\",\"#FF97FF\",\"#FECB52\"],\"font\":{\"color\":\"#2a3f5f\"},\"hovermode\":\"closest\",\"hoverlabel\":{\"align\":\"left\"},\"paper_bgcolor\":\"white\",\"plot_bgcolor\":\"#E5ECF6\",\"polar\":{\"bgcolor\":\"#E5ECF6\",\"angularaxis\":{\"gridcolor\":\"white\",\"linecolor\":\"white\",\"ticks\":\"\"},\"radialaxis\":{\"gridcolor\":\"white\",\"linecolor\":\"white\",\"ticks\":\"\"}},\"ternary\":{\"bgcolor\":\"#E5ECF6\",\"aaxis\":{\"gridcolor\":\"white\",\"linecolor\":\"white\",\"ticks\":\"\"},\"baxis\":{\"gridcolor\":\"white\",\"linecolor\":\"white\",\"ticks\":\"\"},\"caxis\":{\"gridcolor\":\"white\",\"linecolor\":\"white\",\"ticks\":\"\"}},\"coloraxis\":{\"colorbar\":{\"outlinewidth\":0,\"ticks\":\"\"}},\"colorscale\":{\"sequential\":[[0.0,\"#0d0887\"],[0.1111111111111111,\"#46039f\"],[0.2222222222222222,\"#7201a8\"],[0.3333333333333333,\"#9c179e\"],[0.4444444444444444,\"#bd3786\"],[0.5555555555555556,\"#d8576b\"],[0.6666666666666666,\"#ed7953\"],[0.7777777777777778,\"#fb9f3a\"],[0.8888888888888888,\"#fdca26\"],[1.0,\"#f0f921\"]],\"sequentialminus\":[[0.0,\"#0d0887\"],[0.1111111111111111,\"#46039f\"],[0.2222222222222222,\"#7201a8\"],[0.3333333333333333,\"#9c179e\"],[0.4444444444444444,\"#bd3786\"],[0.5555555555555556,\"#d8576b\"],[0.6666666666666666,\"#ed7953\"],[0.7777777777777778,\"#fb9f3a\"],[0.8888888888888888,\"#fdca26\"],[1.0,\"#f0f921\"]],\"diverging\":[[0,\"#8e0152\"],[0.1,\"#c51b7d\"],[0.2,\"#de77ae\"],[0.3,\"#f1b6da\"],[0.4,\"#fde0ef\"],[0.5,\"#f7f7f7\"],[0.6,\"#e6f5d0\"],[0.7,\"#b8e186\"],[0.8,\"#7fbc41\"],[0.9,\"#4d9221\"],[1,\"#276419\"]]},\"xaxis\":{\"gridcolor\":\"white\",\"linecolor\":\"white\",\"ticks\":\"\",\"title\":{\"standoff\":15},\"zerolinecolor\":\"white\",\"automargin\":true,\"zerolinewidth\":2},\"yaxis\":{\"gridcolor\":\"white\",\"linecolor\":\"white\",\"ticks\":\"\",\"title\":{\"standoff\":15},\"zerolinecolor\":\"white\",\"automargin\":true,\"zerolinewidth\":2},\"scene\":{\"xaxis\":{\"backgroundcolor\":\"#E5ECF6\",\"gridcolor\":\"white\",\"linecolor\":\"white\",\"showbackground\":true,\"ticks\":\"\",\"zerolinecolor\":\"white\",\"gridwidth\":2},\"yaxis\":{\"backgroundcolor\":\"#E5ECF6\",\"gridcolor\":\"white\",\"linecolor\":\"white\",\"showbackground\":true,\"ticks\":\"\",\"zerolinecolor\":\"white\",\"gridwidth\":2},\"zaxis\":{\"backgroundcolor\":\"#E5ECF6\",\"gridcolor\":\"white\",\"linecolor\":\"white\",\"showbackground\":true,\"ticks\":\"\",\"zerolinecolor\":\"white\",\"gridwidth\":2}},\"shapedefaults\":{\"line\":{\"color\":\"#2a3f5f\"}},\"annotationdefaults\":{\"arrowcolor\":\"#2a3f5f\",\"arrowhead\":0,\"arrowwidth\":1},\"geo\":{\"bgcolor\":\"white\",\"landcolor\":\"#E5ECF6\",\"subunitcolor\":\"white\",\"showland\":true,\"showlakes\":true,\"lakecolor\":\"white\"},\"title\":{\"x\":0.05},\"mapbox\":{\"style\":\"light\"}}},\"xaxis\":{\"anchor\":\"y\",\"domain\":[0.0,1.0],\"title\":{\"text\":\"Tempo de Fidelidade (meses)\"}},\"yaxis\":{\"anchor\":\"x\",\"domain\":[0.0,1.0],\"title\":{\"text\":\"Densidade\"}},\"legend\":{\"title\":{\"text\":\"Evasão\"},\"tracegroupgap\":0},\"title\":{\"text\":\"Evasão de clientes por tempo de contrato (Tenure)\\n Obs: 0 = Não 1 = Sim\"},\"barmode\":\"overlay\",\"width\":800,\"height\":500,\"showlegend\":true},                        {\"responsive\": true}                    ).then(function(){\n",
              "                            \n",
              "var gd = document.getElementById('9ce381a9-32b7-4fba-adee-4306cd59c831');\n",
              "var x = new MutationObserver(function (mutations, observer) {{\n",
              "        var display = window.getComputedStyle(gd).display;\n",
              "        if (!display || display === 'none') {{\n",
              "            console.log([gd, 'removed!']);\n",
              "            Plotly.purge(gd);\n",
              "            observer.disconnect();\n",
              "        }}\n",
              "}});\n",
              "\n",
              "// Listen for the removal of the full notebook cells\n",
              "var notebookContainer = gd.closest('#notebook-container');\n",
              "if (notebookContainer) {{\n",
              "    x.observe(notebookContainer, {childList: true});\n",
              "}}\n",
              "\n",
              "// Listen for the clearing of the current output cell\n",
              "var outputEl = gd.closest('.output');\n",
              "if (outputEl) {{\n",
              "    x.observe(outputEl, {childList: true});\n",
              "}}\n",
              "\n",
              "                        })                };                            </script>        </div>\n",
              "</body>\n",
              "</html>"
            ]
          },
          "metadata": {}
        }
      ]
    },
    {
      "cell_type": "markdown",
      "source": [
        "# RELATÓRIO FINAL"
      ],
      "metadata": {
        "id": "qhhhftMtrQb4"
      }
    },
    {
      "cell_type": "markdown",
      "source": [
        "## Relatório final para a empresa Telecom X"
      ],
      "metadata": {
        "id": "6BRYk6B8XKt-"
      }
    },
    {
      "cell_type": "markdown",
      "source": [
        "\n",
        "\n",
        "Fomos contratados para analisar a empresa Telecom X. A empresa solicitou nosso serviços porque está enfrentando um alto índice de cancelamentos de assinaturas (Churn de Clientes) e quer entender o que os leva a tomar essa decisão.\n",
        "\n",
        "Para iniciar esse projeto, nós:\n",
        "\n",
        "- Fizemos importações de bibliotecas úteis para análise da dados. As bibliotecas escolhidas foram: Pandas, Numpy, Seaborn, Matplotlib e Ploty.\n",
        "\n",
        "- Limpamos os dados do data frame telecomDF: Removemos dados nulos e outros que pudessem atrapalhar a análise de evasão de cliente.\n",
        "\n",
        "- Tratamos os dados do data frame: Procuramos por inconsistências, fizemos a conversão do tipo de dados de algumas colunas e etc.\n",
        "\n",
        "Depois de termos tratado todas as necessidades do data frame telecomDF, começamos as análises exploratórias dos dados. Baseado nas informações do data frame, nós criamos gráficos e outras visualizações para identificarmos padrões dos clientes.\n"
      ],
      "metadata": {
        "id": "SjwRJWt_XOOl"
      }
    },
    {
      "cell_type": "markdown",
      "source": [
        "Feitas as análises, pudemos observar que:"
      ],
      "metadata": {
        "id": "ULOtlv8qZPKw"
      }
    },
    {
      "cell_type": "markdown",
      "source": [
        "- Clientes com assinaturas mensais tendem a evadir muito mais se compararmos com os que possuem assinaturas de 1 e 2 anos."
      ],
      "metadata": {
        "id": "Y8E0DB7jZaQF"
      }
    },
    {
      "cell_type": "code",
      "source": [
        "# Visualização - Gráfico de evasão por tipo de assinatura\n",
        "plt.figure(figsize=(8, 5))\n",
        "sns.countplot(data=telecomDF, x='Contrato', hue='Rotatividade')\n",
        "plt.title(\"Evasão por Tipo de Contrato\\n OBS: 0 = Não 1 = Sim\")\n",
        "plt.xlabel(\"Contrato\")\n",
        "plt.ylabel(\"Contagem\")\n",
        "plt.legend(title=\"Evasão\")\n",
        "plt.xticks(rotation=45)\n",
        "plt.show()"
      ],
      "metadata": {
        "id": "d6qV9z0ZZSl3",
        "outputId": "f8b243f5-8f88-4422-e097-2544e7998f83",
        "colab": {
          "base_uri": "https://localhost:8080/",
          "height": 583
        }
      },
      "execution_count": 66,
      "outputs": [
        {
          "output_type": "display_data",
          "data": {
            "text/plain": [
              "<Figure size 800x500 with 1 Axes>"
            ],
            "image/png": "[encoded data removed]"
          },
          "metadata": {}
        }
      ]
    },
    {
      "cell_type": "markdown",
      "source": [
        "- Clientes que utilizam método de pagamento \"cheque eletrônico\" tendem a evadir muito mais se compararmos com os que escolheram \"cheque por e-mail\", \"cartão de crédito\" e \"transferência bancária.\""
      ],
      "metadata": {
        "id": "U8e7bjh8Zmoi"
      }
    },
    {
      "cell_type": "code",
      "source": [
        "# Visualização - Gráfico de evasão por tipo de método de pagamento\n",
        "plt.figure(figsize=(10, 6))\n",
        "sns.countplot(data=telecomDF, x='MetodoPagamento', hue='Rotatividade')\n",
        "plt.title(\"Evasão por Método de Pagamento\\n OBS: 0 = Não 1 = Sim\")\n",
        "plt.xlabel(\"Método de Pagamento\")\n",
        "plt.ylabel(\"Contagem\")\n",
        "plt.legend(title=\"Rotatividade\", fontsize= 6)\n",
        "plt.xticks(rotation=45)\n",
        "plt.show()"
      ],
      "metadata": {
        "id": "yA7b1y4LZSiJ",
        "outputId": "1a71e065-4675-42f7-932d-a42412f1fab7",
        "colab": {
          "base_uri": "https://localhost:8080/",
          "height": 662
        }
      },
      "execution_count": 67,
      "outputs": [
        {
          "output_type": "display_data",
          "data": {
            "text/plain": [
              "<Figure size 1000x600 with 1 Axes>"
            ],
            "image/png": "[encoded data removed]"
          },
          "metadata": {}
        }
      ]
    },
    {
      "cell_type": "markdown",
      "source": [
        "- Clientes que utilizam serviço de internet do tipo \"fibra ótica\" tendem a evadir muito mais se compararmos com os que escolheram \"DSL\" ou \"nenhum serviço de internet\"."
      ],
      "metadata": {
        "id": "vMe9Wc2packa"
      }
    },
    {
      "cell_type": "code",
      "source": [
        "# Gráfico de evasão por tipo de serviço de internet\n",
        "plt.figure(figsize=(8, 5))\n",
        "sns.countplot(data=telecomDF, x='ServiçoInternet', hue='Rotatividade')\n",
        "plt.title(\"Evasão por Tipo de Serviço de Internet\\n OBS: 0 = Não 1 = Sim\")\n",
        "plt.xlabel(\"Serviço de Internet\")\n",
        "plt.ylabel(\"Contagem\")\n",
        "plt.legend(title=\"Rotatividade\")\n",
        "plt.xticks(rotation=45)\n",
        "plt.show()"
      ],
      "metadata": {
        "id": "8nm8Sz2gZSeS",
        "outputId": "be06afe7-8a52-46d7-8512-f6f747c7f812",
        "colab": {
          "base_uri": "https://localhost:8080/",
          "height": 555
        }
      },
      "execution_count": 68,
      "outputs": [
        {
          "output_type": "display_data",
          "data": {
            "text/plain": [
              "<Figure size 800x500 with 1 Axes>"
            ],
            "image/png": "[encoded data removed]"
          },
          "metadata": {}
        }
      ]
    },
    {
      "cell_type": "markdown",
      "source": [
        "- \"Clientes que possuem tempo de contrato maior que 70 meses tendem a evadir muito menos se compararmos, por exemplo, com os que possuem tempo de contrato igual ou menor do que 40 meses.\""
      ],
      "metadata": {
        "id": "UsyJRfFXbD3E"
      }
    },
    {
      "cell_type": "code",
      "source": [
        "# Gráfico de densidade de evasão de clientes tempo de contrato com Plotly Express\n",
        "\n",
        "'''\n",
        "OBS:\n",
        "- Sim(Yes) = 1\n",
        "- Nao(No) = 0\n",
        "'''\n",
        "\n",
        "fig = px.histogram(\n",
        "    telecomDF,\n",
        "    x='TempoFidelidade',\n",
        "    color='Rotatividade',\n",
        "    histnorm='density',  # Normaliza para densidade\n",
        "    nbins=30,  # Número de bins, ajustável conforme a granularidade desejada\n",
        "    title='Evasão de clientes por tempo de contrato (Tenure)\\n Obs: 0 = Não 1 = Sim',\n",
        "    labels={'TempoFidelidade': 'Tempo de Fidelidade (meses)', 'Rotatividade': 'Rotatividade'},\n",
        "    opacity=0.5,  # Transparência para sobreposição\n",
        "    barmode='overlay'  # Sobrepor as densidades\n",
        ")\n",
        "\n",
        "# Ajuste do layout\n",
        "fig.update_layout(\n",
        "    xaxis_title='Tempo de Fidelidade (meses)',\n",
        "    yaxis_title='Densidade',\n",
        "    legend_title='Evasão',\n",
        "    width=800,\n",
        "    height=500,\n",
        "    showlegend=True\n",
        ")\n",
        "\n",
        "# Mostrando o gráfico\n",
        "fig.show()"
      ],
      "metadata": {
        "id": "HPxwws3GacDH",
        "outputId": "f0edaa9e-8cc0-4d61-b9c8-350ab6a7aa9d",
        "colab": {
          "base_uri": "https://localhost:8080/",
          "height": 517
        }
      },
      "execution_count": 69,
      "outputs": [
        {
          "output_type": "display_data",
          "data": {
            "text/html": [
              "<html>\n",
              "<head><meta charset=\"utf-8\" /></head>\n",
              "<body>\n",
              "    <div>            <script src=\"https://cdnjs.cloudflare.com/ajax/libs/mathjax/2.7.5/MathJax.js?config=TeX-AMS-MML_SVG\"></script><script type=\"text/javascript\">if (window.MathJax && window.MathJax.Hub && window.MathJax.Hub.Config) {window.MathJax.Hub.Config({SVG: {font: \"STIX-Web\"}});}</script>                <script type=\"text/javascript\">window.PlotlyConfig = {MathJaxConfig: 'local'};</script>\n",
              "        <script charset=\"utf-8\" src=\"https://cdn.plot.ly/plotly-2.35.2.min.js\"></script>                <div id=\"edd5d866-a4ad-47e7-8e76-5b5b4f3d84ff\" class=\"plotly-graph-div\" style=\"height:500px; width:800px;\"></div>            <script type=\"text/javascript\">                                    window.PLOTLYENV=window.PLOTLYENV || {};                                    if (document.getElementById(\"edd5d866-a4ad-47e7-8e76-5b5b4f3d84ff\")) {                    Plotly.newPlot(                        \"edd5d866-a4ad-47e7-8e76-5b5b4f3d84ff\",                        [{\"alignmentgroup\":\"True\",\"bingroup\":\"x\",\"histnorm\":\"density\",\"hovertemplate\":\"Rotatividade=0\\u003cbr\\u003eTempo de Fidelidade (meses)=%{x}\\u003cbr\\u003edensity=%{y}\\u003cextra\\u003e\\u003c\\u002fextra\\u003e\",\"legendgroup\":\"0\",\"marker\":{\"color\":\"#636efa\",\"opacity\":0.5,\"pattern\":{\"shape\":\"\"}},\"name\":\"0\",\"nbinsx\":30,\"offsetgroup\":\"0\",\"orientation\":\"v\",\"showlegend\":true,\"x\":[9,9,9,71,63,7,65,54,72,5,72,56,71,34,1,50,23,3,55,54,26,69,37,49,66,67,20,43,55,59,12,27,27,25,25,29,72,14,35,1,29,64,39,40,6,30,27,70,57,58,16,69,32,16,71,33,10,26,50,61,26,72,44,66,44,69,2,27,26,39,72,24,19,71,33,3,47,62,71,7,27,2,25,30,9,69,66,46,54,12,22,70,30,71,30,10,4,52,8,2,3,19,72,63,66,60,48,50,72,46,72,1,1,67,48,72,52,67,32,3,50,71,16,67,72,23,72,7,8,66,63,12,27,35,54,5,19,52,72,32,41,5,11,16,71,11,71,9,6,6,11,49,3,53,3,70,39,60,55,72,72,60,46,15,23,11,56,25,68,40,71,17,18,37,2,28,9,1,65,3,36,22,72,67,34,10,69,40,20,46,72,70,2,23,36,67,72,72,72,58,31,3,55,49,39,66,15,51,9,25,22,15,3,47,67,18,62,41,44,53,48,54,24,33,66,3,13,63,52,3,10,72,29,62,26,19,72,45,32,41,65,11,49,61,25,23,21,24,70,46,2,57,60,37,28,24,62,20,52,72,70,66,55,57,72,28,54,24,2,12,51,13,58,18,29,72,71,70,20,63,7,69,9,46,60,16,41,4,24,38,25,40,13,64,20,57,12,59,59,45,50,70,72,13,4,53,63,10,56,65,1,29,72,40,72,3,4,18,62,29,48,53,6,22,72,34,48,21,71,1,1,32,1,63,72,53,50,21,52,4,40,23,57,49,9,61,70,13,34,57,7,44,45,36,69,71,30,52,52,3,72,72,51,51,72,64,13,52,7,4,46,54,72,66,16,11,71,57,62,72,66,16,58,4,72,67,71,72,15,11,43,24,52,13,55,42,2,1,17,27,45,71,36,15,20,71,24,71,66,30,47,7,46,62,70,16,15,45,72,13,6,18,68,64,5,64,26,2,59,17,56,62,53,23,6,8,61,34,56,38,69,72,70,7,61,55,61,14,22,60,1,4,13,3,63,36,54,47,41,13,30,44,47,52,12,54,13,7,42,65,49,62,11,37,1,69,72,26,3,62,26,40,33,72,3,68,19,7,56,66,7,1,8,62,56,41,57,38,26,72,30,68,63,60,19,25,71,8,20,43,17,44,2,71,72,18,67,56,69,1,25,55,53,59,7,3,64,51,69,38,56,63,11,24,72,69,56,18,11,45,61,66,42,55,1,68,1,17,15,28,28,40,63,39,48,44,69,49,24,71,61,18,27,64,1,50,30,57,17,51,60,33,38,1,16,72,41,65,72,67,49,19,69,47,53,27,11,28,53,19,3,23,63,61,27,1,4,8,12,56,52,20,68,3,50,60,4,45,25,43,9,62,40,6,20,16,8,72,21,64,3,58,18,67,61,52,14,43,52,4,5,27,23,49,71,59,64,72,44,30,39,15,70,72,72,35,68,71,70,29,66,20,55,9,72,49,24,42,52,18,12,72,52,70,18,7,54,68,72,55,9,4,18,41,6,14,61,13,64,72,27,22,11,4,7,6,50,11,54,23,67,46,0,48,40,30,15,16,9,7,20,11,1,44,43,24,7,57,11,57,23,18,70,33,1,3,54,7,70,30,32,1,56,52,12,29,33,22,10,26,13,66,58,22,72,1,39,1,52,4,70,60,8,3,64,66,49,1,36,58,7,1,72,35,30,52,72,31,70,53,10,29,59,45,12,33,66,49,61,24,1,17,12,61,27,48,71,4,61,31,30,55,42,71,43,19,19,12,4,70,68,57,51,4,70,19,51,71,11,60,62,12,45,8,68,36,1,29,1,14,5,19,71,4,1,6,32,68,63,53,6,59,48,1,37,27,72,70,12,23,23,40,11,42,12,71,39,58,61,19,61,16,60,52,17,63,46,42,47,51,45,53,1,2,64,10,34,32,54,11,8,56,34,1,46,60,22,39,2,35,25,18,3,66,29,66,8,45,18,72,34,2,72,10,51,28,13,2,15,2,12,51,30,64,72,5,72,1,27,72,30,65,61,62,45,52,24,70,39,42,20,72,13,22,1,7,8,8,64,22,26,31,4,48,71,36,1,21,58,29,11,64,1,64,39,39,24,1,8,36,16,7,41,5,55,72,72,1,47,21,68,58,33,33,56,49,68,72,1,1,67,45,72,10,59,22,30,52,10,20,35,72,65,7,23,29,43,18,71,9,48,27,70,58,60,46,8,68,46,8,9,1,63,18,18,37,63,6,48,4,29,27,65,31,49,72,5,1,33,1,65,60,63,55,68,72,37,29,64,46,23,68,41,17,55,5,68,7,41,2,1,1,3,17,37,22,68,72,16,65,55,1,33,30,25,1,25,72,44,18,7,59,70,40,34,5,68,14,19,67,50,43,59,27,40,28,5,54,63,20,72,71,32,71,71,71,22,68,2,29,12,34,40,72,72,45,72,71,18,68,68,34,24,58,37,52,45,43,26,56,1,68,27,9,1,71,72,21,54,8,24,48,5,17,72,72,6,72,62,1,51,38,33,20,31,64,72,9,61,52,69,1,68,14,7,1,51,15,72,50,57,44,62,7,72,1,72,1,32,71,60,4,52,29,49,40,57,62,23,65,38,72,2,28,65,2,72,12,26,20,7,23,67,48,64,3,32,51,48,18,23,55,2,27,35,58,42,44,43,7,41,65,40,46,62,30,70,1,24,11,58,8,35,65,68,46,72,38,58,17,72,50,3,55,71,37,55,61,44,2,56,72,1,44,10,72,66,18,64,22,38,5,18,11,67,67,72,47,54,31,11,11,1,20,8,1,72,23,30,29,59,58,1,4,61,39,31,33,4,32,72,11,23,15,72,35,50,41,33,60,25,0,70,60,34,27,60,56,15,70,1,42,1,2,72,52,57,7,47,65,72,68,72,48,1,35,44,37,65,59,22,1,54,44,6,50,13,1,27,71,14,31,20,12,40,72,1,64,71,64,33,3,70,51,67,68,62,64,3,71,2,36,65,33,54,1,10,60,65,72,26,1,48,41,1,37,56,7,4,71,58,53,31,1,6,49,8,22,61,9,5,65,29,1,12,55,68,34,1,36,15,10,3,1,43,8,71,6,39,46,72,33,32,5,17,5,10,1,41,22,47,65,8,35,8,24,36,67,0,21,11,50,13,64,3,71,9,1,3,46,63,71,5,65,42,3,24,66,25,56,52,23,25,32,23,26,49,1,50,28,49,18,72,37,7,45,19,29,61,4,38,2,15,43,24,64,72,27,35,1,53,6,1,61,1,68,34,13,35,35,72,2,12,69,57,69,41,47,59,18,40,2,68,70,1,72,2,11,56,36,37,18,19,1,38,0,56,30,72,8,53,46,6,13,40,59,50,46,18,35,69,62,23,45,9,24,71,1,2,67,7,13,57,36,66,22,3,69,72,23,40,70,70,3,69,72,67,19,70,21,29,29,25,55,2,19,7,29,29,50,67,37,64,8,1,38,3,32,3,3,56,9,53,63,35,13,14,14,51,68,1,60,23,72,3,6,13,47,3,14,23,72,66,53,11,2,1,18,18,61,65,41,19,4,25,72,5,0,59,68,54,22,49,51,19,2,14,72,63,4,17,71,10,72,69,47,60,2,53,34,60,55,53,57,61,38,60,50,9,71,46,35,23,21,16,70,66,14,46,3,34,3,25,19,65,67,8,67,26,47,20,52,0,61,72,24,4,66,65,34,45,71,2,12,16,72,1,62,53,52,18,51,6,72,72,57,58,71,72,17,8,68,28,2,71,30,34,32,6,45,11,2,23,29,68,17,69,59,1,32,29,28,50,14,20,3,14,23,71,64,12,72,36,4,8,29,59,16,40,9,8,58,71,5,17,30,3,13,30,1,34,52,44,47,13,23,40,67,70,43,72,51,51,22,51,71,3,44,31,3,1,41,60,29,2,5,2,28,14,19,60,71,1,43,68,4,46,35,47,25,19,49,6,68,58,25,24,6,15,26,16,10,21,67,19,40,57,41,28,70,21,36,70,2,56,4,63,68,43,35,60,71,71,24,23,72,72,1,72,34,24,32,26,43,17,71,7,22,68,55,47,55,72,49,7,47,12,34,63,20,47,68,64,1,12,53,24,72,66,42,58,46,45,1,61,72,18,51,57,10,35,9,1,24,2,3,27,70,10,55,31,64,71,66,52,2,57,21,8,17,17,15,62,13,68,58,19,13,71,61,13,1,56,32,72,43,61,69,52,62,54,19,71,5,10,68,1,60,10,16,29,52,4,5,68,50,7,16,21,72,69,26,61,49,37,60,1,5,38,2,1,54,51,15,27,24,10,6,71,1,66,35,65,15,61,22,28,24,36,67,3,66,4,12,7,13,65,59,65,46,68,67,33,20,64,58,24,71,35,8,53,1,72,21,30,70,63,63,11,2,14,3,55,1,20,72,70,27,67,12,17,72,71,1,71,16,2,16,10,71,17,4,40,59,38,72,19,69,70,14,67,1,60,67,45,68,16,37,72,68,67,24,10,45,63,4,68,72,71,72,64,9,60,3,26,41,1,45,50,44,2,72,42,47,9,66,57,42,20,23,28,70,34,1,72,3,72,67,11,58,62,71,72,1,5,19,8,65,36,26,9,2,71,60,38,58,25,19,31,63,56,56,27,60,21,1,25,22,61,6,31,72,3,3,41,49,71,64,18,72,58,7,7,3,52,11,1,33,52,36,51,0,72,16,30,72,13,38,34,71,3,48,20,34,68,67,24,29,67,56,29,7,69,4,35,71,58,9,12,47,67,5,4,52,28,55,2,50,51,72,51,1,63,51,35,46,54,67,12,70,10,21,63,36,57,57,26,63,72,54,59,1,69,12,67,28,33,61,21,2,8,68,72,1,2,2,2,61,35,60,52,5,6,1,66,72,24,8,38,68,9,1,28,7,72,7,65,56,15,56,9,16,69,68,50,10,26,16,70,72,17,10,7,13,70,5,10,39,20,20,72,62,24,21,48,7,53,27,56,17,18,37,48,8,50,1,0,56,1,34,72,32,17,68,47,44,72,22,70,3,44,5,4,4,54,14,12,13,69,35,64,20,26,4,7,10,71,42,9,2,60,39,15,7,15,61,19,59,30,62,18,20,5,0,52,45,69,36,8,2,5,13,38,61,18,23,46,26,35,31,71,42,56,18,13,42,26,54,40,8,25,42,51,58,12,9,2,46,8,16,55,52,62,4,14,59,47,71,5,41,52,9,9,12,52,13,16,45,70,53,8,27,60,20,42,16,65,20,33,22,44,72,51,69,22,53,9,1,32,34,54,62,30,55,17,7,18,6,53,45,64,18,70,69,40,18,1,33,60,72,63,12,31,71,50,54,11,44,62,57,18,70,21,42,21,3,8,2,51,21,70,67,21,1,72,34,29,5,18,20,45,20,29,50,11,72,6,72,48,50,1,36,7,40,72,63,2,60,47,25,4,37,72,67,59,43,30,13,2,30,12,63,48,1,71,61,5,26,40,7,11,8,34,19,70,51,35,30,8,4,10,72,50,71,18,32,72,72,22,42,61,35,40,72,66,20,16,72,19,65,67,39,72,47,65,56,6,56,40,5,3,2,58,13,10,66,56,71,56,55,42,42,14,10,22,39,57,8,63,61,50,35,72,29,54,49,72,1,70,55,26,25,31,2,18,2,13,40,17,10,61,27,60,64,28,34,36,35,22,43,70,15,3,29,72,71,30,19,56,36,57,3,52,2,17,68,57,72,26,14,30,66,49,15,71,39,67,31,13,47,23,57,56,10,30,43,9,27,20,51,1,38,11,56,72,13,1,7,51,29,26,67,65,43,9,30,32,25,13,3,2,67,66,4,50,64,59,51,10,17,1,59,2,24,47,55,60,72,69,29,71,48,36,2,50,3,31,63,54,56,43,25,62,49,1,8,72,63,54,31,59,9,4,38,16,67,20,64,28,71,21,3,31,37,68,34,28,3,11,17,69,37,72,8,49,27,4,72,2,2,67,22,48,47,66,37,56,72,10,9,35,54,63,53,67,71,42,12,57,35,33,62,25,26,34,49,17,53,1,70,28,27,72,7,31,68,32,4,64,26,71,41,41,47,29,42,57,45,54,52,71,72,72,40,64,26,52,62,42,11,41,72,49,56,72,11,29,53,46,72,63,60,35,72,48,53,7,46,12,64,15,41,51,28,66,43,58,66,71,31,71,31,48,72,72,54,72,60,65,34,37,4,62,52,8,69,12,5,1,28,3,58,71,72,2,18,37,50,21,69,72,71,38,22,45,15,66,66,12,32,60,9,67,65,5,16,5,8,71,57,30,32,10,12,14,19,41,69,2,33,12,58,22,61,27,53,19,56,72,17,70,72,69,43,41,46,19,68,52,24,33,31,67,22,66,71,20,66,47,1,70,17,46,41,8,33,1,25,33,11,47,7,49,20,28,4,42,1,4,41,13,50,66,10,1,2,27,58,8,71,63,34,46,58,44,8,24,72,14,2,6,12,7,72,10,15,58,46,4,35,9,20,35,21,49,3,47,13,30,58,53,60,8,51,31,10,41,18,32,10,62,42,72,24,65,72,70,50,71,71,68,43,72,17,31,41,67,17,48,28,71,26,1,11,13,71,4,53,0,43,4,65,13,49,8,72,66,43,52,61,69,70,71,46,28,11,61,6,3,22,52,72,50,7,40,12,9,8,72,71,72,34,24,56,52,55,69,68,63,50,72,70,39,3,52,20,70,37,7,56,57,48,56,62,23,29,29,21,16,16,18,33,35,71,71,33,22,68,27,6,70,49,44,2,1,26,46,10,1,32,60,23,72,11,5,72,35,58,72,56,9,67,31,31,70,1,55,34,32,72,70,49,2,37,32,32,2,64,13,41,9,69,22,23,17,15,48,19,53,71,15,2,26,18,33,72,6,21,3,12,72,64,47,2,72,46,51,36,43,72,35,37,23,65,72,32,39,68,24,16,12,66,58,23,37,1,67,40,72,61,1,41,72,54,70,61,34,35,2,69,72,17,28,5,32,54,16,15,39,41,2,69,69,70,55,70,41,25,23,27,65,22,52,38,3,13,51,40,18,23,72,32,36,68,64,26,26,59,44,13,29,72,34,46,62,63,24,70,1,1,41,56,35,19,13,18,62,7,48,6,64,10,1,33,68,26,1,71,71,6,72,59,57,35,43,67,46,5,72,48,5,72,3,1,38,51,57,65,56,17,5,29,46,22,9,52,64,63,50,15,57,17,6,42,69,6,56,4,45,22,72,66,23,62,23,69,61,70,54,37,71,13,71,4,7,68,32,1,4,26,31,69,65,30,9,44,71,56,72,1,20,54,23,50,72,19,70,59,29,71,11,49,49,67,65,13,48,71,9,50,62,31,20,69,34,72,53,4,3,67,54,3,31,42,71,13,38,4,68,61,16,46,72,5,60,1,39,72,62,3,4,25,51,2,66,72,46,11,51,62,23,28,48,24,19,10,5,65,72,9,70,30,68,31,31,5,35,71,71,57,8,67,1,4,16,23,12,15,32,25,36,72,45,29,56,8,68,62,31,6,8,7,68,14,55,6,28,13,23,15,37,23,38,22,53,2,72,69,35,24,15,16,33,3,23,51,60,13,9,14,34,33,71,16,26,49,45,33,45,1,46,33,25,17,32,1,1,51,15,48,27,72,70,15,17,50,13,6,46,33,30,72,24,71,61,65,23,45,24,18,63,5,6,58,67,12,59,2,4,72,23,28,5,2,14,30,16,72,1,67,11,1,50,72,1,48,31,19,69,7,11,56,43,63,60,44,62,16,35,18,70,67,16,11,61,72,29,20,5,61,10,43,72,15,65,66,44,71,27,14,15,72,63,1,67,20,47,70,35,3,67,5,65,72,67,44,30,63,42,35,19,72,42,61,30,46,58,26,56,49,40,29,24,24,2,36,5,12,18,62,66,6,38,47,45,51,56,2,10,48,28,27,12,15,3,69,12,54,24,2,58,64,58,35,8,72,2,67,72,11,9,37,30,24,68,2,70,64,40,30,32,71,1,18,48,71,50,44,61,29,12,49,52,60,72,40,29,1,65,65,72,1,59,5,72,5,56,23,2,11,53,72,26,31,19,48,2,54,68,70,18,45,47,70,70,37,15,55,58,43,9,6,55,72,8,67,69,44,26,14,49,38,60,69,70,4,14,71,68,71,66,4,55,72,18,25,40,71,29,61,2,56,13,9,7,41,47,30,54,72,24,37,48,69,31,38,37,4,46,21,39,17,54,9,3,70,30,48,62,11,66,39,4,12,32,70,72,17,8,25,10,1,72,43,72,9,50,69,15,26,35,21,52,26,71,66,60,72,38,17,46,5,34,17,16,48,60,72,66,40,23,50,60,8,10,12,37,55,57,43,61,3,67,71,58,22,57,67,36,72,72,25,12,70,21,62,22,65,38,44,6,67,72,40,11,70,41,24,4,17,68,14,63,43,66,4,32,44,1,24,50,51,3,1,53,40,61,1,72,11,25,18,62,55,55,28,62,13,22,24,17,5,45,12,1,60,14,51,1,23,72,1,30,69,1,5,1,13,8,7,25,32,2,13,72,39,6,31,59,27,8,39,4,51,3,59,37,7,6,7,9,4,46,72,28,9,1,19,71,2,18,2,22,2,20,4,71,44,3,72,54,18,26,53,3,25,72,53,10,57,8,33,64,9,60,54,46,6,1,1,48,45,37,11,55,39,38,45,72,1,16,53,71,60,71,14,69,37,7,57,61,2,46,64,72,25,64,24,15,69,50,12,69,66,5,3,69,3,17,57,12,63,1,18,58,50,27,6,10,67,70,48,13,72,72,24,72,68,62,41,46,1,71,60,40,27,1,34,32,27,12,65,62,48,35,1,71,72,31,45,72,45,62,17,54,15,22,1,53,42,56,28,6,56,7,25,57,47,8,12,58,2,52,70,39,63,0,54,11,71,43,21,19,59,72,29,36,10,17,12,58,57,69,23,33,8,34,72,71,64,53,68,52,68,49,37,1,11,70,40,69,71,61,26,60,15,69,1,54,72,9,2,66,72,57,55,51,6,28,16,30,12,55,1,34,6,3,72,10,47,22,39,12,45,70,72,3,6,61,42,1,45,8,14,18,43,27,18,52,3,23,20,31,1,35,6,14,63,68,3,58,24,51,45,61,33,26,23,13,4,1,21,45,12,72,63,43,60,31,53,67,72,4,51,15,69,4,1,55,4,19,23,25,71,14,24,56,7,5,19,16,10,72,51,67,25,45,1,11,20,70,64,65,60,35,11,36,3,31,27,52,21,24,67,10,8,6,65,72,66,66,47,4,21,25,72,36,49,18,15,8,54,42,13,66,63,71,15,10,2,15,53,35,43,72,55,66,40,22,56,72,62,71,39,50,55,6,72,69,1,63,66,63,12,62,1,10,49,22,62,54,33,64,1,65,71,24,67,14,24,70,9,10,30,13,11,62,9,71,58,72,10,19,59,54,42,48,43,68,12,38,14,72,11,17,10,9,4,36,6,72,56,6,49,15,23,54,71,34,42,8,39,2,50,72,11,7,7,59,66,72,33,3,69,24,31,70,1,68,62,4,53,32,41,52,24,72,14,21,71,25,1,23,72,12,70,72,70,16,22,5,69,42,42,5,72,39,21,35,35,12,27,72,58,64,71,10,71,66,69,43,72,61,7,70,5,17,51,5,64,7,60,1,20,72,72,4,1,56,9,12,33,70,1,39,45,30,7,59,1,72,67,47,4,24,9,7,65,14,35,26,7,37,23,50,27,58,12,72,72,9,45,64,64,39,1,58,72,68,38,55,33,57,15,8,4,62,1,68,72,55,42,67,41,26,4,66,15,63,59,25,4,69,66,28,57,49,65,42,61,10,67,1,37,35,72,8,19,20,38,57,38,67,22,57,72,70,13,62,31,18,64,42,30,65,18,41,54,32,72,59,52,61,54,8,3,14,72,35,66,48,48,1,67,1,17,40,69,72,1,36,47,16,17,38,50,8,67,38,70,41,59,64,22,70,43,1,72,18,38,2,12,3,71,1,6,26,69,56,47,72,18,51,46,9,72,42,69,14,66,57,14,16,2,64,71,3,72,26,52,72,36,46,51,4,56,44,29,29,1,29,68,34,1,51,52,1,21,70,69,33,1,59,2,4,61,42,1,71,27,57,37,41,26,10,31,10,14,9,72,42,2,5,46,57,21,4,65,19,1,72,70,28,71,5,69,57,68,1,71,27,71,63,72,1,65,52,9,21,63,25,66,44,60,60,59,12,8,28,12,30,2,41,55,72,30,25,46,31,68,58,70,48,72,63,30,60,33,67,25,72,63,39,33,48,10,45,64,68,6,29,39,20,52,71,41,69,68,20,35,17,1,7,62,1,44,39,72,47,15,2,54,69,72,21,3,46,34,72,37,60,62,42,25,18,68,12,15,63,32,1,41,50,56,57,3,22,36,22,70,14,18,23,1,71,64,35,11,27,64,71,1,69,9,1,21,13,7,57,19,72,45,60,42,48,55,9,43,7,71,32,8,72,51,3,26,35,27,2,26,65,41,22,64,65,24,51,72,69,44,70,40,61,23,72,62,50,64,47,47,58,34,60,12,64,22,11,15,14,23,2,59,1,61,1,10,69,35,48,72,62,40,16,1,72,44,59,18,23,51,64,69,2,35,26,26,68,44,29,24,14,56,6,6,71,43,15,22,44,12,52,53,50,24,38,42,63,56,37,18,44,1,69,55,47,72,16,65,18,45,21,72,72,1,48,67,65,11,52,71,3,10,15,3,52,21,68,39,46,72,64,13,5,72,57,72,47,69,38,26,14,11,27,8,23,60,6,7,66,72,33,23,59,4,67,4,72,42,26,38,24,65,67,24,64,40,15,71,27,4,12,52,60,33,1,6,35,72,43,43,5,44,53,23,62,27,15,69,3,70,15,67,64,45,40,8,70,38,51,9,2,72,48,17,71,1,11,72,27,50,35,53,72,25,37,26,35,71,28,71,70,71,62,72,14,70,9,72,63,70,72,8,66,10,25,45,11,8,72,61,35,69,59,52,20,53,3,13,54,34,35,10,27,31,10,34,13,15,70,36,26,69,1,52,68,62,19,9,24,61,72,8,13,30,38,71,36,52,65,64,71,3,68,6,37,68,15,59,17,41,64,2,49,69,55,37,56,50,1,1,35,67,1,22,4,43,6,47,25,37,68,63,41,4,1,35,3,47,3,72,2,63,53,3,9,66,6,47,18,38,45,66,58,2,71,45,46,72,53,72,49,44,55,59,34,5,43,10,2,51,50,61,13,5,1,39,56,4,14,71,27,2,41,32,49,49,39,72,6,67,3,47,22,52,32,1,1,26,49,48,5,39,13,59,17,38,70,53,3,10,27,65,64,31,72,22,6,49,35,63,72,7,23,64,66,7,8,14,17,46,2,22,66,23,72,71,46,40,53,12,2,37,66,53,1,41,72,36,41,24,58,42,12,72,43,1,4,70,59,14,17,72,35,34,72,19,72,17,22,21,34,11,72,25,29,35,64,28,23,1,66,18,32,65,26,20,59,48,41,72,21,42,33,23,72,72,22,12,4,28,46,11,60,15,41,68,37,67,32,25,28,63,69,6,72,71,1,71,19,63,6,34,67,28,53,64,46,1,47,7,13,2,67,63],\"xaxis\":\"x\",\"yaxis\":\"y\",\"type\":\"histogram\"},{\"alignmentgroup\":\"True\",\"bingroup\":\"x\",\"histnorm\":\"density\",\"hovertemplate\":\"Rotatividade=1\\u003cbr\\u003eTempo de Fidelidade (meses)=%{x}\\u003cbr\\u003edensity=%{y}\\u003cextra\\u003e\\u003c\\u002fextra\\u003e\",\"legendgroup\":\"1\",\"marker\":{\"color\":\"#EF553B\",\"opacity\":0.5,\"pattern\":{\"shape\":\"\"}},\"name\":\"1\",\"nbinsx\":30,\"offsetgroup\":\"1\",\"orientation\":\"v\",\"showlegend\":true,\"x\":[4,13,3,45,1,13,4,1,2,40,11,1,1,49,21,37,7,15,2,12,1,3,25,1,22,58,10,6,70,25,15,4,2,5,1,1,15,28,27,2,9,32,3,5,49,1,8,5,61,26,1,23,2,1,68,8,1,3,5,3,41,6,58,31,36,32,1,23,17,3,58,2,1,59,37,3,54,60,1,8,1,28,48,23,41,43,55,1,1,5,27,5,1,1,18,5,1,35,30,15,55,9,69,5,27,22,8,62,14,53,20,1,1,64,49,28,10,21,22,23,2,13,16,67,47,21,7,1,1,15,1,2,65,13,46,53,4,4,9,12,4,1,55,9,24,4,1,2,70,2,1,3,9,9,16,3,1,27,2,52,9,1,53,34,20,5,13,9,10,5,54,4,2,27,1,54,11,72,3,3,7,35,10,58,7,20,13,32,1,1,69,18,1,7,5,1,11,1,1,12,41,56,1,1,1,16,1,1,3,17,47,15,14,54,16,1,2,2,67,1,10,38,13,7,7,23,6,12,2,50,14,1,2,31,4,9,55,68,16,12,4,1,2,21,3,46,53,15,1,10,63,1,1,11,4,7,3,21,3,1,11,29,70,1,57,1,3,10,56,1,10,10,28,1,1,2,58,12,9,7,52,1,32,70,13,4,8,5,12,30,7,1,12,17,66,3,51,35,2,26,4,1,2,42,5,10,68,20,33,18,1,14,3,34,12,9,42,5,54,1,4,47,1,9,1,1,29,17,1,5,1,1,50,1,1,40,41,11,12,2,69,20,22,48,22,10,1,13,7,1,1,1,14,16,1,1,3,2,70,27,1,66,1,18,11,1,1,13,7,12,43,24,2,38,33,3,21,5,7,2,6,1,29,30,31,5,3,4,14,25,1,4,22,37,15,13,46,12,7,22,15,47,1,7,1,7,8,15,70,1,4,39,58,20,2,4,14,3,48,10,16,1,38,57,16,9,28,24,39,36,5,2,6,62,1,4,8,13,41,59,10,24,22,6,1,12,40,5,6,40,41,10,31,2,4,6,1,1,2,38,17,71,61,1,4,37,7,3,6,4,1,12,4,1,4,66,53,1,4,27,9,7,15,4,26,67,10,8,1,6,29,30,25,9,11,4,17,2,1,64,1,2,2,63,10,9,2,15,1,24,53,16,5,13,1,71,52,2,24,2,41,14,1,43,17,20,4,1,1,2,45,40,1,35,63,72,25,21,39,4,8,56,31,2,1,4,5,17,1,24,12,4,2,10,17,1,11,2,4,6,40,32,55,2,62,12,33,1,9,48,10,1,3,41,1,1,1,7,5,1,61,1,67,12,27,2,2,60,8,57,6,56,13,6,1,2,5,1,1,1,1,49,68,50,3,57,39,17,8,26,18,8,3,1,10,4,19,71,39,1,37,1,59,15,5,35,6,28,3,34,1,33,18,28,67,16,13,4,5,8,25,12,21,55,2,65,1,58,15,1,6,58,16,8,1,15,1,70,3,37,22,32,3,15,33,1,29,65,10,1,8,35,13,14,9,1,31,7,22,3,1,15,2,5,1,4,36,2,14,6,58,2,45,1,32,42,1,2,1,6,11,21,1,2,1,15,2,16,32,66,1,57,1,56,13,1,7,1,1,50,4,7,31,3,7,66,35,23,4,12,2,54,1,7,1,17,72,1,1,12,6,50,1,53,4,23,26,12,1,24,28,30,42,1,37,6,8,25,19,7,29,2,36,1,31,11,8,19,9,3,55,21,1,39,1,10,9,22,31,3,5,52,5,8,13,8,41,31,3,46,10,5,1,2,1,2,4,1,4,6,5,1,30,17,6,68,1,1,8,9,19,7,40,3,53,12,1,68,7,19,2,1,1,67,41,1,6,14,16,3,23,3,25,27,1,21,2,3,2,46,5,13,61,2,42,3,52,16,35,1,11,6,1,38,2,16,59,2,7,10,16,5,1,70,49,17,47,11,10,22,43,3,4,3,6,1,3,56,24,25,1,25,56,1,8,7,57,35,2,15,6,13,16,21,19,2,1,2,1,17,18,2,55,31,1,22,11,56,2,44,1,26,1,1,4,1,1,4,9,46,1,47,59,5,1,48,1,38,1,4,2,23,10,30,29,20,13,8,25,1,46,29,1,37,1,70,1,1,24,1,32,1,11,1,29,5,11,9,1,31,56,3,5,3,15,1,11,4,4,7,35,2,27,1,50,10,54,7,6,2,1,1,1,3,1,39,60,1,18,58,3,43,1,11,25,1,33,10,10,1,9,2,4,1,9,4,1,22,1,1,1,39,19,2,33,13,8,8,57,1,33,4,68,1,2,2,36,71,11,51,4,10,3,32,32,2,2,1,9,13,51,20,36,1,1,5,34,8,52,32,1,37,4,1,25,69,3,11,62,7,19,65,61,3,24,4,2,2,2,1,34,69,1,54,1,12,21,12,49,55,1,1,1,2,1,16,3,9,28,3,22,15,1,22,20,1,20,20,1,2,2,27,12,4,49,5,1,2,5,4,15,1,1,9,9,58,2,4,10,69,3,29,1,1,2,33,19,2,1,3,5,1,6,1,6,19,1,50,13,3,13,45,15,1,18,1,19,10,7,1,19,4,8,18,5,32,1,10,44,40,12,26,9,26,5,20,32,3,37,1,30,72,24,5,5,1,16,66,17,6,4,3,1,16,1,1,1,1,9,3,2,3,49,47,12,43,3,25,9,22,2,15,1,5,18,42,60,2,22,33,22,31,3,69,29,53,1,20,59,8,11,11,20,10,3,44,10,35,1,1,24,1,1,4,10,49,1,34,48,43,6,25,9,17,1,3,66,5,7,45,1,1,47,2,67,3,7,1,1,38,1,53,9,30,71,1,16,50,1,25,2,34,47,1,14,1,1,1,5,30,34,62,53,49,1,42,56,43,3,40,20,47,11,1,5,14,1,7,36,26,5,52,46,1,57,1,3,53,70,61,68,13,23,13,26,47,19,1,1,11,7,1,18,1,4,24,1,37,26,1,15,36,1,4,20,5,25,3,1,1,46,8,1,1,39,54,65,2,1,20,6,29,2,35,17,1,54,53,1,65,3,24,15,8,33,1,61,8,25,70,37,43,1,13,1,1,2,1,65,10,1,2,4,8,2,1,9,18,1,47,10,1,46,1,22,3,1,41,1,4,2,71,11,5,4,1,64,2,3,3,9,17,1,18,7,1,12,15,13,7,50,49,43,4,1,8,16,1,14,9,19,12,38,24,2,36,42,5,63,6,1,16,5,1,2,3,2,2,3,6,1,1,1,2,42,12,12,49,2,24,1,11,37,66,7,22,46,38,1,1,1,39,3,14,5,67,23,48,59,43,1,32,8,60,15,2,66,1,31,30,10,18,12,4,5,17,2,19,1,18,1,2,8,1,2,1,22,2,1,15,2,45,3,28,1,1,1,7,30,38,1,3,9,33,40,3,21,24,1,8,1,14,15,23,42,15,40,1,1,6,1,9,1,27,16,10,13,1,65,1,4,2,4,4,39,23,7,1,24,66,11,46,28,12,2,6,67,22,10,4,16,14,3,1,2,33,51,1,32,19,1,43,1,14,10,2,7,4,3,1,43,1,1,8,42,25,34,21,2,5,6,22,2,26,10,4,66,2,1,5,5,19,13,25,15,14,21,7,24,1,72,3,5,1,49,15,34,51,49,24,44,66,69,47,12,4,2,1,4,60,1,3,16,22,37,7,42,31,13,5,25,1,5,51,4,44,17,9,1,1,6,18,11,12,3,8,72,1,32,1,3,2,8,35,13,54,18,10,28,48,3,7,12,31,44,25,9,1,47,2,1,51,29,7,4,34,1,3,11,1,6,9,5,12,39,3,18,67,27,3,1,13,61,54,68,5,50,17,15,1,1,7,1,49,41,17,41,10,26,1,14,24,19,7,13,7,14,1,1,4,2,6,1,52,5,29,17,34,3,4,1,13,38,1,1,8,3,2,1,13,43,8,33,54,24,12,1,4,48,40,18,15,4,14,1,36,1,7,4,32,15,1,42,18,1,1,18,1,64,18,1,26,11,8,2,16,1,4,38,59,30,3,16,43,30,25,32,3,65,13,1,30,53,17,42,1,30,5,14,2,18,37,29,1,1,1,2,9,1,4,51,1,39,1,22,11,35,17,1,39,66,3,6,9,3,10,41,35,19,17,2,1,8,1,3,40,1,26,14,9,1,3,15,38,21,9,1,4,22],\"xaxis\":\"x\",\"yaxis\":\"y\",\"type\":\"histogram\"}],                        {\"template\":{\"data\":{\"histogram2dcontour\":[{\"type\":\"histogram2dcontour\",\"colorbar\":{\"outlinewidth\":0,\"ticks\":\"\"},\"colorscale\":[[0.0,\"#0d0887\"],[0.1111111111111111,\"#46039f\"],[0.2222222222222222,\"#7201a8\"],[0.3333333333333333,\"#9c179e\"],[0.4444444444444444,\"#bd3786\"],[0.5555555555555556,\"#d8576b\"],[0.6666666666666666,\"#ed7953\"],[0.7777777777777778,\"#fb9f3a\"],[0.8888888888888888,\"#fdca26\"],[1.0,\"#f0f921\"]]}],\"choropleth\":[{\"type\":\"choropleth\",\"colorbar\":{\"outlinewidth\":0,\"ticks\":\"\"}}],\"histogram2d\":[{\"type\":\"histogram2d\",\"colorbar\":{\"outlinewidth\":0,\"ticks\":\"\"},\"colorscale\":[[0.0,\"#0d0887\"],[0.1111111111111111,\"#46039f\"],[0.2222222222222222,\"#7201a8\"],[0.3333333333333333,\"#9c179e\"],[0.4444444444444444,\"#bd3786\"],[0.5555555555555556,\"#d8576b\"],[0.6666666666666666,\"#ed7953\"],[0.7777777777777778,\"#fb9f3a\"],[0.8888888888888888,\"#fdca26\"],[1.0,\"#f0f921\"]]}],\"heatmap\":[{\"type\":\"heatmap\",\"colorbar\":{\"outlinewidth\":0,\"ticks\":\"\"},\"colorscale\":[[0.0,\"#0d0887\"],[0.1111111111111111,\"#46039f\"],[0.2222222222222222,\"#7201a8\"],[0.3333333333333333,\"#9c179e\"],[0.4444444444444444,\"#bd3786\"],[0.5555555555555556,\"#d8576b\"],[0.6666666666666666,\"#ed7953\"],[0.7777777777777778,\"#fb9f3a\"],[0.8888888888888888,\"#fdca26\"],[1.0,\"#f0f921\"]]}],\"heatmapgl\":[{\"type\":\"heatmapgl\",\"colorbar\":{\"outlinewidth\":0,\"ticks\":\"\"},\"colorscale\":[[0.0,\"#0d0887\"],[0.1111111111111111,\"#46039f\"],[0.2222222222222222,\"#7201a8\"],[0.3333333333333333,\"#9c179e\"],[0.4444444444444444,\"#bd3786\"],[0.5555555555555556,\"#d8576b\"],[0.6666666666666666,\"#ed7953\"],[0.7777777777777778,\"#fb9f3a\"],[0.8888888888888888,\"#fdca26\"],[1.0,\"#f0f921\"]]}],\"contourcarpet\":[{\"type\":\"contourcarpet\",\"colorbar\":{\"outlinewidth\":0,\"ticks\":\"\"}}],\"contour\":[{\"type\":\"contour\",\"colorbar\":{\"outlinewidth\":0,\"ticks\":\"\"},\"colorscale\":[[0.0,\"#0d0887\"],[0.1111111111111111,\"#46039f\"],[0.2222222222222222,\"#7201a8\"],[0.3333333333333333,\"#9c179e\"],[0.4444444444444444,\"#bd3786\"],[0.5555555555555556,\"#d8576b\"],[0.6666666666666666,\"#ed7953\"],[0.7777777777777778,\"#fb9f3a\"],[0.8888888888888888,\"#fdca26\"],[1.0,\"#f0f921\"]]}],\"surface\":[{\"type\":\"surface\",\"colorbar\":{\"outlinewidth\":0,\"ticks\":\"\"},\"colorscale\":[[0.0,\"#0d0887\"],[0.1111111111111111,\"#46039f\"],[0.2222222222222222,\"#7201a8\"],[0.3333333333333333,\"#9c179e\"],[0.4444444444444444,\"#bd3786\"],[0.5555555555555556,\"#d8576b\"],[0.6666666666666666,\"#ed7953\"],[0.7777777777777778,\"#fb9f3a\"],[0.8888888888888888,\"#fdca26\"],[1.0,\"#f0f921\"]]}],\"mesh3d\":[{\"type\":\"mesh3d\",\"colorbar\":{\"outlinewidth\":0,\"ticks\":\"\"}}],\"scatter\":[{\"fillpattern\":{\"fillmode\":\"overlay\",\"size\":10,\"solidity\":0.2},\"type\":\"scatter\"}],\"parcoords\":[{\"type\":\"parcoords\",\"line\":{\"colorbar\":{\"outlinewidth\":0,\"ticks\":\"\"}}}],\"scatterpolargl\":[{\"type\":\"scatterpolargl\",\"marker\":{\"colorbar\":{\"outlinewidth\":0,\"ticks\":\"\"}}}],\"bar\":[{\"error_x\":{\"color\":\"#2a3f5f\"},\"error_y\":{\"color\":\"#2a3f5f\"},\"marker\":{\"line\":{\"color\":\"#E5ECF6\",\"width\":0.5},\"pattern\":{\"fillmode\":\"overlay\",\"size\":10,\"solidity\":0.2}},\"type\":\"bar\"}],\"scattergeo\":[{\"type\":\"scattergeo\",\"marker\":{\"colorbar\":{\"outlinewidth\":0,\"ticks\":\"\"}}}],\"scatterpolar\":[{\"type\":\"scatterpolar\",\"marker\":{\"colorbar\":{\"outlinewidth\":0,\"ticks\":\"\"}}}],\"histogram\":[{\"marker\":{\"pattern\":{\"fillmode\":\"overlay\",\"size\":10,\"solidity\":0.2}},\"type\":\"histogram\"}],\"scattergl\":[{\"type\":\"scattergl\",\"marker\":{\"colorbar\":{\"outlinewidth\":0,\"ticks\":\"\"}}}],\"scatter3d\":[{\"type\":\"scatter3d\",\"line\":{\"colorbar\":{\"outlinewidth\":0,\"ticks\":\"\"}},\"marker\":{\"colorbar\":{\"outlinewidth\":0,\"ticks\":\"\"}}}],\"scattermapbox\":[{\"type\":\"scattermapbox\",\"marker\":{\"colorbar\":{\"outlinewidth\":0,\"ticks\":\"\"}}}],\"scatterternary\":[{\"type\":\"scatterternary\",\"marker\":{\"colorbar\":{\"outlinewidth\":0,\"ticks\":\"\"}}}],\"scattercarpet\":[{\"type\":\"scattercarpet\",\"marker\":{\"colorbar\":{\"outlinewidth\":0,\"ticks\":\"\"}}}],\"carpet\":[{\"aaxis\":{\"endlinecolor\":\"#2a3f5f\",\"gridcolor\":\"white\",\"linecolor\":\"white\",\"minorgridcolor\":\"white\",\"startlinecolor\":\"#2a3f5f\"},\"baxis\":{\"endlinecolor\":\"#2a3f5f\",\"gridcolor\":\"white\",\"linecolor\":\"white\",\"minorgridcolor\":\"white\",\"startlinecolor\":\"#2a3f5f\"},\"type\":\"carpet\"}],\"table\":[{\"cells\":{\"fill\":{\"color\":\"#EBF0F8\"},\"line\":{\"color\":\"white\"}},\"header\":{\"fill\":{\"color\":\"#C8D4E3\"},\"line\":{\"color\":\"white\"}},\"type\":\"table\"}],\"barpolar\":[{\"marker\":{\"line\":{\"color\":\"#E5ECF6\",\"width\":0.5},\"pattern\":{\"fillmode\":\"overlay\",\"size\":10,\"solidity\":0.2}},\"type\":\"barpolar\"}],\"pie\":[{\"automargin\":true,\"type\":\"pie\"}]},\"layout\":{\"autotypenumbers\":\"strict\",\"colorway\":[\"#636efa\",\"#EF553B\",\"#00cc96\",\"#ab63fa\",\"#FFA15A\",\"#19d3f3\",\"#FF6692\",\"#B6E880\",\"#FF97FF\",\"#FECB52\"],\"font\":{\"color\":\"#2a3f5f\"},\"hovermode\":\"closest\",\"hoverlabel\":{\"align\":\"left\"},\"paper_bgcolor\":\"white\",\"plot_bgcolor\":\"#E5ECF6\",\"polar\":{\"bgcolor\":\"#E5ECF6\",\"angularaxis\":{\"gridcolor\":\"white\",\"linecolor\":\"white\",\"ticks\":\"\"},\"radialaxis\":{\"gridcolor\":\"white\",\"linecolor\":\"white\",\"ticks\":\"\"}},\"ternary\":{\"bgcolor\":\"#E5ECF6\",\"aaxis\":{\"gridcolor\":\"white\",\"linecolor\":\"white\",\"ticks\":\"\"},\"baxis\":{\"gridcolor\":\"white\",\"linecolor\":\"white\",\"ticks\":\"\"},\"caxis\":{\"gridcolor\":\"white\",\"linecolor\":\"white\",\"ticks\":\"\"}},\"coloraxis\":{\"colorbar\":{\"outlinewidth\":0,\"ticks\":\"\"}},\"colorscale\":{\"sequential\":[[0.0,\"#0d0887\"],[0.1111111111111111,\"#46039f\"],[0.2222222222222222,\"#7201a8\"],[0.3333333333333333,\"#9c179e\"],[0.4444444444444444,\"#bd3786\"],[0.5555555555555556,\"#d8576b\"],[0.6666666666666666,\"#ed7953\"],[0.7777777777777778,\"#fb9f3a\"],[0.8888888888888888,\"#fdca26\"],[1.0,\"#f0f921\"]],\"sequentialminus\":[[0.0,\"#0d0887\"],[0.1111111111111111,\"#46039f\"],[0.2222222222222222,\"#7201a8\"],[0.3333333333333333,\"#9c179e\"],[0.4444444444444444,\"#bd3786\"],[0.5555555555555556,\"#d8576b\"],[0.6666666666666666,\"#ed7953\"],[0.7777777777777778,\"#fb9f3a\"],[0.8888888888888888,\"#fdca26\"],[1.0,\"#f0f921\"]],\"diverging\":[[0,\"#8e0152\"],[0.1,\"#c51b7d\"],[0.2,\"#de77ae\"],[0.3,\"#f1b6da\"],[0.4,\"#fde0ef\"],[0.5,\"#f7f7f7\"],[0.6,\"#e6f5d0\"],[0.7,\"#b8e186\"],[0.8,\"#7fbc41\"],[0.9,\"#4d9221\"],[1,\"#276419\"]]},\"xaxis\":{\"gridcolor\":\"white\",\"linecolor\":\"white\",\"ticks\":\"\",\"title\":{\"standoff\":15},\"zerolinecolor\":\"white\",\"automargin\":true,\"zerolinewidth\":2},\"yaxis\":{\"gridcolor\":\"white\",\"linecolor\":\"white\",\"ticks\":\"\",\"title\":{\"standoff\":15},\"zerolinecolor\":\"white\",\"automargin\":true,\"zerolinewidth\":2},\"scene\":{\"xaxis\":{\"backgroundcolor\":\"#E5ECF6\",\"gridcolor\":\"white\",\"linecolor\":\"white\",\"showbackground\":true,\"ticks\":\"\",\"zerolinecolor\":\"white\",\"gridwidth\":2},\"yaxis\":{\"backgroundcolor\":\"#E5ECF6\",\"gridcolor\":\"white\",\"linecolor\":\"white\",\"showbackground\":true,\"ticks\":\"\",\"zerolinecolor\":\"white\",\"gridwidth\":2},\"zaxis\":{\"backgroundcolor\":\"#E5ECF6\",\"gridcolor\":\"white\",\"linecolor\":\"white\",\"showbackground\":true,\"ticks\":\"\",\"zerolinecolor\":\"white\",\"gridwidth\":2}},\"shapedefaults\":{\"line\":{\"color\":\"#2a3f5f\"}},\"annotationdefaults\":{\"arrowcolor\":\"#2a3f5f\",\"arrowhead\":0,\"arrowwidth\":1},\"geo\":{\"bgcolor\":\"white\",\"landcolor\":\"#E5ECF6\",\"subunitcolor\":\"white\",\"showland\":true,\"showlakes\":true,\"lakecolor\":\"white\"},\"title\":{\"x\":0.05},\"mapbox\":{\"style\":\"light\"}}},\"xaxis\":{\"anchor\":\"y\",\"domain\":[0.0,1.0],\"title\":{\"text\":\"Tempo de Fidelidade (meses)\"}},\"yaxis\":{\"anchor\":\"x\",\"domain\":[0.0,1.0],\"title\":{\"text\":\"Densidade\"}},\"legend\":{\"title\":{\"text\":\"Evasão\"},\"tracegroupgap\":0},\"title\":{\"text\":\"Evasão de clientes por tempo de contrato (Tenure)\\n Obs: 0 = Não 1 = Sim\"},\"barmode\":\"overlay\",\"width\":800,\"height\":500,\"showlegend\":true},                        {\"responsive\": true}                    ).then(function(){\n",
              "                            \n",
              "var gd = document.getElementById('edd5d866-a4ad-47e7-8e76-5b5b4f3d84ff');\n",
              "var x = new MutationObserver(function (mutations, observer) {{\n",
              "        var display = window.getComputedStyle(gd).display;\n",
              "        if (!display || display === 'none') {{\n",
              "            console.log([gd, 'removed!']);\n",
              "            Plotly.purge(gd);\n",
              "            observer.disconnect();\n",
              "        }}\n",
              "}});\n",
              "\n",
              "// Listen for the removal of the full notebook cells\n",
              "var notebookContainer = gd.closest('#notebook-container');\n",
              "if (notebookContainer) {{\n",
              "    x.observe(notebookContainer, {childList: true});\n",
              "}}\n",
              "\n",
              "// Listen for the clearing of the current output cell\n",
              "var outputEl = gd.closest('.output');\n",
              "if (outputEl) {{\n",
              "    x.observe(outputEl, {childList: true});\n",
              "}}\n",
              "\n",
              "                        })                };                            </script>        </div>\n",
              "</body>\n",
              "</html>"
            ]
          },
          "metadata": {}
        }
      ]
    },
    {
      "cell_type": "markdown",
      "source": [
        "Mediante tudo o que foi analisado na empresa, minhas sugestões para redução do cancelamento de assinaturas por parte dos clientes da Telecom X são:\n",
        "\n",
        "1 - Criar um \"plano atrativo\" para assinaturas do tipo mensal, visto que os clientes que optam por esse tipo de assinatura tendem a cancelar o contrato rapidamente.\n",
        "\n",
        "2 - Excluir opção de assinatura por \"cheque eletrônico\".\n",
        "\n",
        "3 - Procurar outras alternativas de serviços de internet para, talvez, substituir os de tipo \"fibra ótica.\"\n",
        "\n",
        "4 - \"Criar algum plano de assistências ou acompanhamentos anuais de até 3 anos para novos clientes, visto que a taxa de evasão é alta para clientes com tempo de contrato menor que 40 meses.\"\n",
        "\n",
        "Agradecemos a oportunidade e esperamos que a empresa Telecom X possa utilizar nossos insights para crescer cada vez mais."
      ],
      "metadata": {
        "id": "XWBy4L0SYc0v"
      }
    },
    {
      "cell_type": "markdown",
      "source": [
        "### ***Salvando*** dados do Telecom X"
      ],
      "metadata": {
        "id": "Hh8q7R4ofTeU"
      }
    },
    {
      "cell_type": "code",
      "source": [
        "# Salvar o DataFrame como CSV no ambiente do Colab\n",
        "telecomDF.to_csv('telecomDF.csv', index=False)"
      ],
      "metadata": {
        "id": "mxkTmz2ofSwL"
      },
      "execution_count": 70,
      "outputs": []
    }
  ],
  "metadata": {
    "colab": {
      "provenance": [],
      "include_colab_link": true
    },
    "kernelspec": {
      "display_name": "Python 3",
      "name": "python3"
    }
  },
  "nbformat": 4,
  "nbformat_minor": 0
}